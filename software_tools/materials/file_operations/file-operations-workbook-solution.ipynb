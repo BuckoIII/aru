{
 "cells": [
  {
   "cell_type": "markdown",
   "metadata": {},
   "source": [
    "# File operations\n",
    "\n",
    "You are now aware of how Python treats files as objects that are first opened, then read from or written to. \n",
    "\n",
    "Now, we will put this into a more practical context and work with real files.\n",
    "\n",
    "The end result will be external data loaded into Python and stored as common Python data structures, such as lists and dictionaries. You can then work with the data in whatever way you need.\n"
   ]
  },
  {
   "cell_type": "markdown",
   "metadata": {},
   "source": [
    "## Opening a file and reading it\n",
    "\n",
    "In the `data` folder is a file named `poem.txt`.\n",
    "\n",
    "As part of a `with`... `as` statement, use the `open()` function to access the file and store it as a variable named `poem`.\n",
    "\n",
    "Then, look at what data type the variable is and how long it is."
   ]
  },
  {
   "cell_type": "code",
   "execution_count": 11,
   "metadata": {},
   "outputs": [
    {
     "name": "stdout",
     "output_type": "stream",
     "text": [
      "<class 'str'>\n",
      "611\n"
     ]
    }
   ],
   "source": [
    "#Add your code below\n",
    "\n",
    "with open('data/poem.txt', 'r') as f:\n",
    "    poem = f.read()\n",
    "\n",
    "print(type(poem))\n",
    "print(len(poem))\n"
   ]
  },
  {
   "cell_type": "markdown",
   "metadata": {},
   "source": [
    "*__Windows users:__ If you get an error, you may need to use `'rb'` ('read binary') as the second argument when using the `open()` function to read files; if so, this applies to all questions involving reading files.*"
   ]
  },
  {
   "cell_type": "markdown",
   "metadata": {},
   "source": [
    "There are two ways to inspect a variable in a notebook. You can just type the variable name, to see the raw data:"
   ]
  },
  {
   "cell_type": "code",
   "execution_count": 12,
   "metadata": {},
   "outputs": [
    {
     "data": {
      "text/plain": [
       "\"Three witches, casting a spell ...\\n\\nRound about the cauldron go;\\nIn the poison'd entrails throw.\\nToad, that under cold stone\\nDays and nights hast thirty one\\nSwelter'd venom sleeping got,\\nBoil thou first i' the charmed pot.\\n\\nDouble, double toil and trouble;\\nFire burn and cauldron bubble.\\n\\nFillet of a fenny snake,\\nIn the cauldron boil and bake;\\nEye of newt, and toe of frog,\\nWool of bat, and tongue of dog,\\nAdder's fork, and blind-worm's sting,\\nLizard's leg, and howlet's wing,\\nFor a charm of powerful trouble,\\nLike a hell-broth boil and bubble.\\n\\nDouble, double toil and trouble;\\nFire burn and cauldron bubble.\\n\""
      ]
     },
     "execution_count": 12,
     "metadata": {},
     "output_type": "execute_result"
    }
   ],
   "source": [
    "poem"
   ]
  },
  {
   "cell_type": "markdown",
   "metadata": {},
   "source": [
    "Or you can use `print()`, which will format it using any special characters specified within the variable, like tabs or linebreaks:"
   ]
  },
  {
   "cell_type": "code",
   "execution_count": 13,
   "metadata": {},
   "outputs": [
    {
     "name": "stdout",
     "output_type": "stream",
     "text": [
      "Three witches, casting a spell ...\n",
      "\n",
      "Round about the cauldron go;\n",
      "In the poison'd entrails throw.\n",
      "Toad, that under cold stone\n",
      "Days and nights hast thirty one\n",
      "Swelter'd venom sleeping got,\n",
      "Boil thou first i' the charmed pot.\n",
      "\n",
      "Double, double toil and trouble;\n",
      "Fire burn and cauldron bubble.\n",
      "\n",
      "Fillet of a fenny snake,\n",
      "In the cauldron boil and bake;\n",
      "Eye of newt, and toe of frog,\n",
      "Wool of bat, and tongue of dog,\n",
      "Adder's fork, and blind-worm's sting,\n",
      "Lizard's leg, and howlet's wing,\n",
      "For a charm of powerful trouble,\n",
      "Like a hell-broth boil and bubble.\n",
      "\n",
      "Double, double toil and trouble;\n",
      "Fire burn and cauldron bubble.\n",
      "\n"
     ]
    }
   ],
   "source": [
    "print(poem)"
   ]
  },
  {
   "cell_type": "markdown",
   "metadata": {},
   "source": [
    "Linebreaks are represented by the newline character, `\\n`. This may look like two separate characters, but Python treats it as one!\n",
    "\n",
    "Currently, our data is one long string. If we want each line of the poem to be its own string, there are two ways to do this.\n",
    "\n",
    "Use `readlines()` instead of `read()`to return a list of strings (the newline character `\\n` will determine where each string ends):"
   ]
  },
  {
   "cell_type": "code",
   "execution_count": 14,
   "metadata": {},
   "outputs": [
    {
     "data": {
      "text/plain": [
       "['Three witches, casting a spell ...\\n',\n",
       " '\\n',\n",
       " 'Round about the cauldron go;\\n',\n",
       " \"In the poison'd entrails throw.\\n\",\n",
       " 'Toad, that under cold stone\\n',\n",
       " 'Days and nights hast thirty one\\n',\n",
       " \"Swelter'd venom sleeping got,\\n\",\n",
       " \"Boil thou first i' the charmed pot.\\n\",\n",
       " '\\n',\n",
       " 'Double, double toil and trouble;\\n',\n",
       " 'Fire burn and cauldron bubble.\\n',\n",
       " '\\n',\n",
       " 'Fillet of a fenny snake,\\n',\n",
       " 'In the cauldron boil and bake;\\n',\n",
       " 'Eye of newt, and toe of frog,\\n',\n",
       " 'Wool of bat, and tongue of dog,\\n',\n",
       " \"Adder's fork, and blind-worm's sting,\\n\",\n",
       " \"Lizard's leg, and howlet's wing,\\n\",\n",
       " 'For a charm of powerful trouble,\\n',\n",
       " 'Like a hell-broth boil and bubble.\\n',\n",
       " '\\n',\n",
       " 'Double, double toil and trouble;\\n',\n",
       " 'Fire burn and cauldron bubble.\\n']"
      ]
     },
     "execution_count": 14,
     "metadata": {},
     "output_type": "execute_result"
    }
   ],
   "source": [
    "with open('data/poem.txt', 'r') as f:\n",
    "    poem = f.readlines()\n",
    "    \n",
    "poem\n"
   ]
  },
  {
   "cell_type": "markdown",
   "metadata": {},
   "source": [
    "Second, we could process the data _after_ loading it. Since it is a `str`, it will have a `.splitlines()` method that can be used to chop it up into a list of smaller strings; use this method on `poem`:"
   ]
  },
  {
   "cell_type": "code",
   "execution_count": 15,
   "metadata": {},
   "outputs": [
    {
     "data": {
      "text/plain": [
       "['Three witches, casting a spell ...',\n",
       " '',\n",
       " 'Round about the cauldron go;',\n",
       " \"In the poison'd entrails throw.\",\n",
       " 'Toad, that under cold stone',\n",
       " 'Days and nights hast thirty one',\n",
       " \"Swelter'd venom sleeping got,\",\n",
       " \"Boil thou first i' the charmed pot.\",\n",
       " '',\n",
       " 'Double, double toil and trouble;',\n",
       " 'Fire burn and cauldron bubble.',\n",
       " '',\n",
       " 'Fillet of a fenny snake,',\n",
       " 'In the cauldron boil and bake;',\n",
       " 'Eye of newt, and toe of frog,',\n",
       " 'Wool of bat, and tongue of dog,',\n",
       " \"Adder's fork, and blind-worm's sting,\",\n",
       " \"Lizard's leg, and howlet's wing,\",\n",
       " 'For a charm of powerful trouble,',\n",
       " 'Like a hell-broth boil and bubble.',\n",
       " '',\n",
       " 'Double, double toil and trouble;',\n",
       " 'Fire burn and cauldron bubble.']"
      ]
     },
     "execution_count": 15,
     "metadata": {},
     "output_type": "execute_result"
    }
   ],
   "source": [
    "with open('data/poem.txt', 'r') as f:\n",
    "    poem = f.read()\n",
    "\n",
    "poem = poem.splitlines()\n",
    "\n",
    "poem\n"
   ]
  },
  {
   "cell_type": "markdown",
   "metadata": {},
   "source": [
    "## Opening docx files"
   ]
  },
  {
   "cell_type": "markdown",
   "metadata": {},
   "source": [
    "Import the package `docx2txt` and `.process()` the file at `data/air_quality.docx`, assigning the result to `doc_text`.\n",
    "\n",
    "Check the `type()` of `doc_text`."
   ]
  },
  {
   "cell_type": "code",
   "execution_count": null,
   "metadata": {},
   "outputs": [],
   "source": [
    "import docx2txt\n",
    "#Add your code below\n",
    "#doc_text = ...\n",
    "\n",
    "doc_text = docx2txt.process('data/air_quality.docx')\n",
    "\n",
    "print(doc_text)\n",
    "type(doc_text)\n"
   ]
  },
  {
   "cell_type": "markdown",
   "metadata": {},
   "source": [
    "Now that you have a string, use the `.splitlines()` method to return a list of the contents of each line, assigning the result to `lines`:"
   ]
  },
  {
   "cell_type": "code",
   "execution_count": null,
   "metadata": {},
   "outputs": [],
   "source": [
    "lines = doc_text.splitlines()\n",
    "lines"
   ]
  },
  {
   "cell_type": "markdown",
   "metadata": {},
   "source": [
    "Remove all blank lines (i.e. empty strings) from the list of `lines`, assigning the remaining list of lines to `content`:\n",
    "\n",
    "- Don't forget that [Stack Overflow](https://stackoverflow.com/questions/3845423/remove-empty-strings-from-a-list-of-strings) can help you!"
   ]
  },
  {
   "cell_type": "code",
   "execution_count": null,
   "metadata": {},
   "outputs": [],
   "source": [
    "content = []\n",
    "\n",
    "for line in lines:\n",
    "    if line  !=  '':\n",
    "        content.append(line)\n",
    "        "
   ]
  },
  {
   "cell_type": "code",
   "execution_count": null,
   "metadata": {},
   "outputs": [],
   "source": [
    "content"
   ]
  }
 ],
 "metadata": {
  "kernelspec": {
   "display_name": "Python 3 (ipykernel)",
   "language": "python",
   "name": "python3"
  },
  "language_info": {
   "codemirror_mode": {
    "name": "ipython",
    "version": 3
   },
   "file_extension": ".py",
   "mimetype": "text/x-python",
   "name": "python",
   "nbconvert_exporter": "python",
   "pygments_lexer": "ipython3",
   "version": "3.10.8"
  }
 },
 "nbformat": 4,
 "nbformat_minor": 4
}
