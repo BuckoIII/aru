{
 "cells": [
  {
   "cell_type": "markdown",
   "metadata": {},
   "source": [
    "## Text mining workbook"
   ]
  },
  {
   "cell_type": "markdown",
   "metadata": {},
   "source": [
    "In this workbook, we will be using data gathered from a community event in Austin, Texas hosted by the police to discuss racial profiling.\n",
    "\n",
    "All of the required packages and modules can be imported by running the following cell:"
   ]
  },
  {
   "cell_type": "code",
   "execution_count": 38,
   "metadata": {},
   "outputs": [],
   "source": [
    "# !pip install -U nltk\n",
    "# !pip install -U textblob\n"
   ]
  },
  {
   "cell_type": "code",
   "execution_count": 39,
   "metadata": {},
   "outputs": [
    {
     "name": "stderr",
     "output_type": "stream",
     "text": [
      "[nltk_data] Downloading package punkt to /Users/tommadden/nltk_data...\n",
      "[nltk_data]   Package punkt is already up-to-date!\n",
      "[nltk_data] Downloading package stopwords to\n",
      "[nltk_data]     /Users/tommadden/nltk_data...\n",
      "[nltk_data]   Package stopwords is already up-to-date!\n"
     ]
    },
    {
     "data": {
      "text/plain": [
       "True"
      ]
     },
     "execution_count": 39,
     "metadata": {},
     "output_type": "execute_result"
    }
   ],
   "source": [
    "import pandas as pd\n",
    "import nltk\n",
    "from nltk.tokenize import word_tokenize\n",
    "from nltk.corpus import stopwords, wordnet \n",
    "from nltk.stem import WordNetLemmatizer\n",
    "from textblob import TextBlob\n",
    "\n",
    "nltk.download('punkt')\n",
    "nltk.download('stopwords')\n"
   ]
  },
  {
   "cell_type": "code",
   "execution_count": 40,
   "metadata": {},
   "outputs": [
    {
     "data": {
      "text/html": [
       "<div>\n",
       "<style scoped>\n",
       "    .dataframe tbody tr th:only-of-type {\n",
       "        vertical-align: middle;\n",
       "    }\n",
       "\n",
       "    .dataframe tbody tr th {\n",
       "        vertical-align: top;\n",
       "    }\n",
       "\n",
       "    .dataframe thead th {\n",
       "        text-align: right;\n",
       "    }\n",
       "</style>\n",
       "<table border=\"1\" class=\"dataframe\">\n",
       "  <thead>\n",
       "    <tr style=\"text-align: right;\">\n",
       "      <th></th>\n",
       "      <th>Response</th>\n",
       "      <th>Question</th>\n",
       "      <th>Group</th>\n",
       "      <th>Topic</th>\n",
       "      <th>Theme</th>\n",
       "    </tr>\n",
       "  </thead>\n",
       "  <tbody>\n",
       "    <tr>\n",
       "      <th>0</th>\n",
       "      <td>I have been an Austin resident for 1.5 years w...</td>\n",
       "      <td>What was your motivation for attending this ev...</td>\n",
       "      <td>1</td>\n",
       "      <td>Motivations and Feelings</td>\n",
       "      <td>People expressed interest in this community di...</td>\n",
       "    </tr>\n",
       "    <tr>\n",
       "      <th>1</th>\n",
       "      <td>Long term Austin resident and UT student</td>\n",
       "      <td>What was your motivation for attending this ev...</td>\n",
       "      <td>1</td>\n",
       "      <td>Motivations and Feelings</td>\n",
       "      <td>People expressed interest in this community di...</td>\n",
       "    </tr>\n",
       "    <tr>\n",
       "      <th>2</th>\n",
       "      <td>works for councilmember Delia Garza</td>\n",
       "      <td>What was your motivation for attending this ev...</td>\n",
       "      <td>1</td>\n",
       "      <td>Motivations and Feelings</td>\n",
       "      <td>People expressed interest in this community di...</td>\n",
       "    </tr>\n",
       "    <tr>\n",
       "      <th>3</th>\n",
       "      <td>to learn and gain new perspective</td>\n",
       "      <td>What was your motivation for attending this ev...</td>\n",
       "      <td>3</td>\n",
       "      <td>Motivations and Feelings</td>\n",
       "      <td>People expressed interest in this community di...</td>\n",
       "    </tr>\n",
       "    <tr>\n",
       "      <th>4</th>\n",
       "      <td>Social work experience, and to take info/exper...</td>\n",
       "      <td>What was your motivation for attending this ev...</td>\n",
       "      <td>5</td>\n",
       "      <td>Motivations and Feelings</td>\n",
       "      <td>People expressed interest in this community di...</td>\n",
       "    </tr>\n",
       "  </tbody>\n",
       "</table>\n",
       "</div>"
      ],
      "text/plain": [
       "                                            Response  \\\n",
       "0  I have been an Austin resident for 1.5 years w...   \n",
       "1           Long term Austin resident and UT student   \n",
       "2                works for councilmember Delia Garza   \n",
       "3                  to learn and gain new perspective   \n",
       "4  Social work experience, and to take info/exper...   \n",
       "\n",
       "                                            Question  Group  \\\n",
       "0  What was your motivation for attending this ev...      1   \n",
       "1  What was your motivation for attending this ev...      1   \n",
       "2  What was your motivation for attending this ev...      1   \n",
       "3  What was your motivation for attending this ev...      3   \n",
       "4  What was your motivation for attending this ev...      5   \n",
       "\n",
       "                      Topic                                              Theme  \n",
       "0  Motivations and Feelings  People expressed interest in this community di...  \n",
       "1  Motivations and Feelings  People expressed interest in this community di...  \n",
       "2  Motivations and Feelings  People expressed interest in this community di...  \n",
       "3  Motivations and Feelings  People expressed interest in this community di...  \n",
       "4  Motivations and Feelings  People expressed interest in this community di...  "
      ]
     },
     "execution_count": 40,
     "metadata": {},
     "output_type": "execute_result"
    }
   ],
   "source": [
    "df = pd.read_csv('data/policing.csv')\n",
    "df.head()"
   ]
  },
  {
   "cell_type": "markdown",
   "metadata": {},
   "source": [
    "### Part 1: Word Frequency"
   ]
  },
  {
   "cell_type": "markdown",
   "metadata": {},
   "source": [
    "Run the following code cell to assign the text to the variable `motivation_question`"
   ]
  },
  {
   "cell_type": "code",
   "execution_count": 41,
   "metadata": {},
   "outputs": [],
   "source": [
    "motivation_question = 'What was your motivation for attending this event?'"
   ]
  },
  {
   "cell_type": "markdown",
   "metadata": {},
   "source": [
    "**Q1)** Assign to the variable `motivation`, a DataFrame containing entries in `df` where `Question` equals the `motivation_question` given above:"
   ]
  },
  {
   "cell_type": "code",
   "execution_count": 42,
   "metadata": {},
   "outputs": [
    {
     "data": {
      "text/html": [
       "<div>\n",
       "<style scoped>\n",
       "    .dataframe tbody tr th:only-of-type {\n",
       "        vertical-align: middle;\n",
       "    }\n",
       "\n",
       "    .dataframe tbody tr th {\n",
       "        vertical-align: top;\n",
       "    }\n",
       "\n",
       "    .dataframe thead th {\n",
       "        text-align: right;\n",
       "    }\n",
       "</style>\n",
       "<table border=\"1\" class=\"dataframe\">\n",
       "  <thead>\n",
       "    <tr style=\"text-align: right;\">\n",
       "      <th></th>\n",
       "      <th>Response</th>\n",
       "      <th>Question</th>\n",
       "      <th>Group</th>\n",
       "      <th>Topic</th>\n",
       "      <th>Theme</th>\n",
       "    </tr>\n",
       "  </thead>\n",
       "  <tbody>\n",
       "    <tr>\n",
       "      <th>0</th>\n",
       "      <td>I have been an Austin resident for 1.5 years w...</td>\n",
       "      <td>What was your motivation for attending this ev...</td>\n",
       "      <td>1</td>\n",
       "      <td>Motivations and Feelings</td>\n",
       "      <td>People expressed interest in this community di...</td>\n",
       "    </tr>\n",
       "    <tr>\n",
       "      <th>1</th>\n",
       "      <td>Long term Austin resident and UT student</td>\n",
       "      <td>What was your motivation for attending this ev...</td>\n",
       "      <td>1</td>\n",
       "      <td>Motivations and Feelings</td>\n",
       "      <td>People expressed interest in this community di...</td>\n",
       "    </tr>\n",
       "    <tr>\n",
       "      <th>2</th>\n",
       "      <td>works for councilmember Delia Garza</td>\n",
       "      <td>What was your motivation for attending this ev...</td>\n",
       "      <td>1</td>\n",
       "      <td>Motivations and Feelings</td>\n",
       "      <td>People expressed interest in this community di...</td>\n",
       "    </tr>\n",
       "    <tr>\n",
       "      <th>3</th>\n",
       "      <td>to learn and gain new perspective</td>\n",
       "      <td>What was your motivation for attending this ev...</td>\n",
       "      <td>3</td>\n",
       "      <td>Motivations and Feelings</td>\n",
       "      <td>People expressed interest in this community di...</td>\n",
       "    </tr>\n",
       "    <tr>\n",
       "      <th>4</th>\n",
       "      <td>Social work experience, and to take info/exper...</td>\n",
       "      <td>What was your motivation for attending this ev...</td>\n",
       "      <td>5</td>\n",
       "      <td>Motivations and Feelings</td>\n",
       "      <td>People expressed interest in this community di...</td>\n",
       "    </tr>\n",
       "  </tbody>\n",
       "</table>\n",
       "</div>"
      ],
      "text/plain": [
       "                                            Response  \\\n",
       "0  I have been an Austin resident for 1.5 years w...   \n",
       "1           Long term Austin resident and UT student   \n",
       "2                works for councilmember Delia Garza   \n",
       "3                  to learn and gain new perspective   \n",
       "4  Social work experience, and to take info/exper...   \n",
       "\n",
       "                                            Question  Group  \\\n",
       "0  What was your motivation for attending this ev...      1   \n",
       "1  What was your motivation for attending this ev...      1   \n",
       "2  What was your motivation for attending this ev...      1   \n",
       "3  What was your motivation for attending this ev...      3   \n",
       "4  What was your motivation for attending this ev...      5   \n",
       "\n",
       "                      Topic                                              Theme  \n",
       "0  Motivations and Feelings  People expressed interest in this community di...  \n",
       "1  Motivations and Feelings  People expressed interest in this community di...  \n",
       "2  Motivations and Feelings  People expressed interest in this community di...  \n",
       "3  Motivations and Feelings  People expressed interest in this community di...  \n",
       "4  Motivations and Feelings  People expressed interest in this community di...  "
      ]
     },
     "execution_count": 42,
     "metadata": {},
     "output_type": "execute_result"
    }
   ],
   "source": [
    "# Add your code below\n",
    "# motivation = ...\n",
    "df.query(f'Question == \"{motivation_question}\"').head()\n"
   ]
  },
  {
   "cell_type": "markdown",
   "metadata": {},
   "source": [
    "**Q2)** Create a `list`, assigned to the variable `motivation_words`, which contains all of the words found in the `Response` column of the `motivation` DataFrame: \n",
    "\n",
    "- create an empty list `motivation_words`\n",
    "- using a `for` loop, iterate through each entry in `motivation['Response']` and use `word_tokenize()` to get the separate words (`tokens`)\n",
    "- add all `tokens` into `motivation_words` list using `.extend()` method\n",
    "- don't for now remove any duplicates or stop words from the list, or change the case"
   ]
  },
  {
   "cell_type": "code",
   "execution_count": 56,
   "metadata": {},
   "outputs": [
    {
     "data": {
      "text/plain": [
       "['I',\n",
       " 'have',\n",
       " 'been',\n",
       " 'an',\n",
       " 'Austin',\n",
       " 'resident',\n",
       " 'for',\n",
       " '1.5',\n",
       " 'years',\n",
       " 'with']"
      ]
     },
     "execution_count": 56,
     "metadata": {},
     "output_type": "execute_result"
    }
   ],
   "source": [
    "# motivation_words = ...\n",
    "response_lst =  (df.query(f'Question == \"{motivation_question}\"')\n",
    "                 ['Response'].values\n",
    "                )\n",
    "motivation_words = []\n",
    "\n",
    "for i in range(len(response_lst)):\n",
    "    tokens =  word_tokenize(response_lst[i])\n",
    "    motivation_words.extend(tokens)\n",
    "    \n",
    "motivation_words[:10]\n"
   ]
  },
  {
   "cell_type": "markdown",
   "metadata": {},
   "source": [
    "Assign to the variable `top_5` a `list` of the five most common words in `motivation_words`:\n",
    "- use `nltk.freqdist` and the `.most_common()` method\n",
    "- extract the words from the resulting tuples"
   ]
  },
  {
   "cell_type": "code",
   "execution_count": 57,
   "metadata": {},
   "outputs": [
    {
     "data": {
      "text/plain": [
       "[('and', 21), ('to', 16), (',', 11), ('the', 10), ('for', 9)]"
      ]
     },
     "execution_count": 57,
     "metadata": {},
     "output_type": "execute_result"
    }
   ],
   "source": [
    "freqdist = nltk.FreqDist(motivation_words).most_common(5)\n",
    "freqdist"
   ]
  },
  {
   "cell_type": "code",
   "execution_count": 58,
   "metadata": {},
   "outputs": [
    {
     "data": {
      "text/plain": [
       "['and', 'to', ',', 'the', 'for']"
      ]
     },
     "execution_count": 58,
     "metadata": {},
     "output_type": "execute_result"
    }
   ],
   "source": [
    "top_5 = [entry[0] for entry in freqdist]\n",
    "top_5"
   ]
  },
  {
   "cell_type": "markdown",
   "metadata": {},
   "source": [
    "**Q3)** Create a new list of words, assigned to `motivation_clean`, based on `motivation_words` but with:\n",
    "\n",
    "- all English stopwords removed\n",
    "- all words in lower case\n",
    "- words containing only alphabetical characters\n",
    "\n",
    "\n",
    "*For the alhpabetical characters requirement, consider using the Python [.isalpha()](https://www.w3schools.com/python/ref_string_isalpha.asp) method.*"
   ]
  },
  {
   "cell_type": "code",
   "execution_count": 59,
   "metadata": {},
   "outputs": [],
   "source": [
    "# Add your code below\n",
    "\n",
    "sw = stopwords.words('english')\n",
    "motivation_clean = [w.lower() for w in motivation_words \n",
    "                    if (w not in sw) \n",
    "                    and (w.isalpha())\n",
    "                   ]\n",
    "\n"
   ]
  },
  {
   "cell_type": "markdown",
   "metadata": {},
   "source": [
    "Let’s explore the creation of the DataFrame `top_50_df`, with two columns:\n",
    "\n",
    "- `Word`, containing the 50 most common words in `motivation_clean`\n",
    "- `Count`, containing the number of occurrences of the given word in `motivation_clean`\n",
    "\n",
    "*These values can be found in the list of tuples created when using `nltk.FreqDist()` and the `.most_common()` method.*"
   ]
  },
  {
   "cell_type": "code",
   "execution_count": 60,
   "metadata": {},
   "outputs": [
    {
     "data": {
      "text/plain": [
       "police         8\n",
       "austin         8\n",
       "community      7\n",
       "experience     6\n",
       "resident       5\n",
       "              ..\n",
       "opportunity    1\n",
       "commander      1\n",
       "input          1\n",
       "curious        1\n",
       "healthcare     1\n",
       "Length: 171, dtype: int64"
      ]
     },
     "execution_count": 60,
     "metadata": {},
     "output_type": "execute_result"
    }
   ],
   "source": [
    "pd.Series(motivation_clean).value_counts()"
   ]
  },
  {
   "cell_type": "code",
   "execution_count": 61,
   "metadata": {},
   "outputs": [
    {
     "data": {
      "text/html": [
       "<div>\n",
       "<style scoped>\n",
       "    .dataframe tbody tr th:only-of-type {\n",
       "        vertical-align: middle;\n",
       "    }\n",
       "\n",
       "    .dataframe tbody tr th {\n",
       "        vertical-align: top;\n",
       "    }\n",
       "\n",
       "    .dataframe thead th {\n",
       "        text-align: right;\n",
       "    }\n",
       "</style>\n",
       "<table border=\"1\" class=\"dataframe\">\n",
       "  <thead>\n",
       "    <tr style=\"text-align: right;\">\n",
       "      <th></th>\n",
       "      <th>Word</th>\n",
       "      <th>Count</th>\n",
       "    </tr>\n",
       "  </thead>\n",
       "  <tbody>\n",
       "    <tr>\n",
       "      <th>0</th>\n",
       "      <td>austin</td>\n",
       "      <td>8</td>\n",
       "    </tr>\n",
       "    <tr>\n",
       "      <th>1</th>\n",
       "      <td>police</td>\n",
       "      <td>8</td>\n",
       "    </tr>\n",
       "    <tr>\n",
       "      <th>2</th>\n",
       "      <td>community</td>\n",
       "      <td>7</td>\n",
       "    </tr>\n",
       "    <tr>\n",
       "      <th>3</th>\n",
       "      <td>experience</td>\n",
       "      <td>6</td>\n",
       "    </tr>\n",
       "    <tr>\n",
       "      <th>4</th>\n",
       "      <td>resident</td>\n",
       "      <td>5</td>\n",
       "    </tr>\n",
       "    <tr>\n",
       "      <th>5</th>\n",
       "      <td>years</td>\n",
       "      <td>4</td>\n",
       "    </tr>\n",
       "    <tr>\n",
       "      <th>6</th>\n",
       "      <td>perspective</td>\n",
       "      <td>4</td>\n",
       "    </tr>\n",
       "    <tr>\n",
       "      <th>7</th>\n",
       "      <td>solutions</td>\n",
       "      <td>4</td>\n",
       "    </tr>\n",
       "    <tr>\n",
       "      <th>8</th>\n",
       "      <td>people</td>\n",
       "      <td>4</td>\n",
       "    </tr>\n",
       "    <tr>\n",
       "      <th>9</th>\n",
       "      <td>issues</td>\n",
       "      <td>4</td>\n",
       "    </tr>\n",
       "  </tbody>\n",
       "</table>\n",
       "</div>"
      ],
      "text/plain": [
       "          Word  Count\n",
       "0       austin      8\n",
       "1       police      8\n",
       "2    community      7\n",
       "3   experience      6\n",
       "4     resident      5\n",
       "5        years      4\n",
       "6  perspective      4\n",
       "7    solutions      4\n",
       "8       people      4\n",
       "9       issues      4"
      ]
     },
     "execution_count": 61,
     "metadata": {},
     "output_type": "execute_result"
    }
   ],
   "source": [
    "# repaeat analysis with lemmas\n",
    "wnl = WordNetLemmatizer()\n",
    "\n",
    "# summary_lemmas = [wnl.lemmatize(word) for word in motivation_clean]\n",
    "# pd.Series(summary_lemmas).value_counts()\n",
    "\n",
    "freqdist_clean = nltk.FreqDist(motivation_clean).most_common(50)\n",
    "top_50_df = pd.DataFrame(freqdist_clean, columns=['Word', 'Count'])\n",
    "top_50_df[:10]"
   ]
  },
  {
   "cell_type": "code",
   "execution_count": 64,
   "metadata": {},
   "outputs": [
    {
     "name": "stdout",
     "output_type": "stream",
     "text": [
      "{'household', 'phratry', 'syndicate', 'family_unit', 'category', 'kin', 'crime_syndicate', 'menage', 'kinsfolk', 'house', 'kinsperson', 'folk', 'sept', 'family_line', 'kinfolk', 'family', 'class', 'home', 'fellowship', 'mob'}\n"
     ]
    }
   ],
   "source": [
    "# repeat analysis with synonyms\n",
    "from nltk.corpus import wordnet \n",
    "\n",
    "synonyms = []   \n",
    "all_synonyms = []\n",
    "\n",
    "for syn in wordnet.synsets(motivation_clean[5]): \n",
    "    for lemma in syn.lemmas(): \n",
    "        synonyms.append(lemma.name()) \n",
    "print(set(synonyms))\n"
   ]
  },
  {
   "cell_type": "markdown",
   "metadata": {},
   "source": [
    "Consider the resulting DataFrame, and whether `lemmatisation` or `stemming` might be appropriate (or some other form of grouping the words).\n",
    "\n",
    "There are no definite answers - we might think that 'officer' and 'officers' could be grouped, but perhaps these could also be grouped with 'police' and even 'apd' (Austin Police Department).\n",
    "\n",
    "We might consider using synonyms or suchlike but it may also be more appropriate to group manually, or not at all."
   ]
  },
  {
   "cell_type": "markdown",
   "metadata": {},
   "source": [
    "### Part 2: Sentiment Analysis"
   ]
  },
  {
   "cell_type": "markdown",
   "metadata": {},
   "source": [
    "Adding a column to `df` called `Response_Sentiment`, which contains a value given by the `.sentiment.polarity` attribute of a `TextBlob` object created from the text of each entry in the `Response` column:\n",
    "\n",
    "    The polarity score is a float within the range [-1.0, 1.0]\n",
    "    -1.0 defines a negative sentiment and 1.0 defines a positive sentiment"
   ]
  },
  {
   "cell_type": "code",
   "execution_count": 73,
   "metadata": {},
   "outputs": [
    {
     "data": {
      "text/html": [
       "<div>\n",
       "<style scoped>\n",
       "    .dataframe tbody tr th:only-of-type {\n",
       "        vertical-align: middle;\n",
       "    }\n",
       "\n",
       "    .dataframe tbody tr th {\n",
       "        vertical-align: top;\n",
       "    }\n",
       "\n",
       "    .dataframe thead th {\n",
       "        text-align: right;\n",
       "    }\n",
       "</style>\n",
       "<table border=\"1\" class=\"dataframe\">\n",
       "  <thead>\n",
       "    <tr style=\"text-align: right;\">\n",
       "      <th></th>\n",
       "      <th>Response</th>\n",
       "      <th>Response_Sentiment</th>\n",
       "    </tr>\n",
       "  </thead>\n",
       "  <tbody>\n",
       "    <tr>\n",
       "      <th>169</th>\n",
       "      <td>Interventions for officers: what does that ent...</td>\n",
       "      <td>0.75</td>\n",
       "    </tr>\n",
       "    <tr>\n",
       "      <th>45</th>\n",
       "      <td>A lot of good recommendations in report</td>\n",
       "      <td>0.70</td>\n",
       "    </tr>\n",
       "    <tr>\n",
       "      <th>233</th>\n",
       "      <td>Often there is no follow-up after trainings. E...</td>\n",
       "      <td>0.60</td>\n",
       "    </tr>\n",
       "    <tr>\n",
       "      <th>225</th>\n",
       "      <td>Wealthy police department</td>\n",
       "      <td>0.50</td>\n",
       "    </tr>\n",
       "    <tr>\n",
       "      <th>290</th>\n",
       "      <td>I'd feel safe if they take away guns</td>\n",
       "      <td>0.50</td>\n",
       "    </tr>\n",
       "    <tr>\n",
       "      <th>...</th>\n",
       "      <td>...</td>\n",
       "      <td>...</td>\n",
       "    </tr>\n",
       "    <tr>\n",
       "      <th>179</th>\n",
       "      <td>Develop consequences for bad practices</td>\n",
       "      <td>-0.70</td>\n",
       "    </tr>\n",
       "    <tr>\n",
       "      <th>246</th>\n",
       "      <td>Frustrated by deflection</td>\n",
       "      <td>-0.70</td>\n",
       "    </tr>\n",
       "    <tr>\n",
       "      <th>250</th>\n",
       "      <td>Frustrated by unwillingness to give up control</td>\n",
       "      <td>-0.70</td>\n",
       "    </tr>\n",
       "    <tr>\n",
       "      <th>228</th>\n",
       "      <td>Frustrated by emphasis on training</td>\n",
       "      <td>-0.70</td>\n",
       "    </tr>\n",
       "    <tr>\n",
       "      <th>196</th>\n",
       "      <td>Frustrated about response</td>\n",
       "      <td>-0.70</td>\n",
       "    </tr>\n",
       "  </tbody>\n",
       "</table>\n",
       "<p>329 rows × 2 columns</p>\n",
       "</div>"
      ],
      "text/plain": [
       "                                              Response  Response_Sentiment\n",
       "169  Interventions for officers: what does that ent...                0.75\n",
       "45             A lot of good recommendations in report                0.70\n",
       "233  Often there is no follow-up after trainings. E...                0.60\n",
       "225                          Wealthy police department                0.50\n",
       "290               I'd feel safe if they take away guns                0.50\n",
       "..                                                 ...                 ...\n",
       "179             Develop consequences for bad practices               -0.70\n",
       "246                           Frustrated by deflection               -0.70\n",
       "250     Frustrated by unwillingness to give up control               -0.70\n",
       "228                 Frustrated by emphasis on training               -0.70\n",
       "196                          Frustrated about response               -0.70\n",
       "\n",
       "[329 rows x 2 columns]"
      ]
     },
     "execution_count": 73,
     "metadata": {},
     "output_type": "execute_result"
    }
   ],
   "source": [
    "df['Response_Sentiment'] = df['Response'].apply(lambda x: TextBlob(x).sentiment.polarity)\n",
    "df[['Response', 'Response_Sentiment']].sort_values('Response_Sentiment', ascending=False)"
   ]
  },
  {
   "cell_type": "markdown",
   "metadata": {},
   "source": [
    "We can then use the `.describe()` method on the Series of values:"
   ]
  },
  {
   "cell_type": "code",
   "execution_count": 74,
   "metadata": {},
   "outputs": [
    {
     "data": {
      "text/plain": [
       "count    329.000000\n",
       "mean       0.048662\n",
       "std        0.209676\n",
       "min       -0.700000\n",
       "25%        0.000000\n",
       "50%        0.000000\n",
       "75%        0.100000\n",
       "max        0.750000\n",
       "Name: Response_Sentiment, dtype: float64"
      ]
     },
     "execution_count": 74,
     "metadata": {},
     "output_type": "execute_result"
    }
   ],
   "source": [
    "df['Response_Sentiment'].describe()"
   ]
  },
  {
   "cell_type": "markdown",
   "metadata": {},
   "source": [
    "Run the following code cell to assign the text to the variable `feedback_question`"
   ]
  },
  {
   "cell_type": "code",
   "execution_count": 75,
   "metadata": {},
   "outputs": [],
   "source": [
    "feedback_question = \"How do you feel about what you have learned about the Racial Profiling Report so far? \\\n",
    "What came up for you reading the data or listening to the panel?\""
   ]
  },
  {
   "cell_type": "markdown",
   "metadata": {},
   "source": [
    "**Q4)** Assign to the variable `feedback`, a DataFrame containing entries in `df` where `Question` equals the `feedback_question` given above:"
   ]
  },
  {
   "cell_type": "code",
   "execution_count": 83,
   "metadata": {},
   "outputs": [
    {
     "data": {
      "text/html": [
       "<div>\n",
       "<style scoped>\n",
       "    .dataframe tbody tr th:only-of-type {\n",
       "        vertical-align: middle;\n",
       "    }\n",
       "\n",
       "    .dataframe tbody tr th {\n",
       "        vertical-align: top;\n",
       "    }\n",
       "\n",
       "    .dataframe thead th {\n",
       "        text-align: right;\n",
       "    }\n",
       "</style>\n",
       "<table border=\"1\" class=\"dataframe\">\n",
       "  <thead>\n",
       "    <tr style=\"text-align: right;\">\n",
       "      <th></th>\n",
       "      <th>Response</th>\n",
       "      <th>Question</th>\n",
       "      <th>Group</th>\n",
       "      <th>Topic</th>\n",
       "      <th>Theme</th>\n",
       "      <th>Response_Sentiment</th>\n",
       "    </tr>\n",
       "  </thead>\n",
       "  <tbody>\n",
       "    <tr>\n",
       "      <th>36</th>\n",
       "      <td>Data source: glad to have detailed sources cited</td>\n",
       "      <td>How do you feel about what you have learned ab...</td>\n",
       "      <td>5</td>\n",
       "      <td>Data</td>\n",
       "      <td>People highlighted the strengths of the racial...</td>\n",
       "      <td>0.450000</td>\n",
       "    </tr>\n",
       "    <tr>\n",
       "      <th>37</th>\n",
       "      <td>Translate reports in Spanish</td>\n",
       "      <td>How do you feel about what you have learned ab...</td>\n",
       "      <td>3</td>\n",
       "      <td>Data</td>\n",
       "      <td>People highlighted the strengths of the racial...</td>\n",
       "      <td>0.000000</td>\n",
       "    </tr>\n",
       "    <tr>\n",
       "      <th>38</th>\n",
       "      <td>Surprised by the depth and data</td>\n",
       "      <td>How do you feel about what you have learned ab...</td>\n",
       "      <td>5</td>\n",
       "      <td>Data</td>\n",
       "      <td>People highlighted the strengths of the racial...</td>\n",
       "      <td>0.100000</td>\n",
       "    </tr>\n",
       "    <tr>\n",
       "      <th>39</th>\n",
       "      <td>This report is a step above what's been done i...</td>\n",
       "      <td>How do you feel about what you have learned ab...</td>\n",
       "      <td>1</td>\n",
       "      <td>Data</td>\n",
       "      <td>People highlighted the strengths of the racial...</td>\n",
       "      <td>0.135625</td>\n",
       "    </tr>\n",
       "    <tr>\n",
       "      <th>40</th>\n",
       "      <td>Surprised by SD23 zero-disparity goal</td>\n",
       "      <td>How do you feel about what you have learned ab...</td>\n",
       "      <td>5</td>\n",
       "      <td>Data</td>\n",
       "      <td>People highlighted the strengths of the racial...</td>\n",
       "      <td>0.100000</td>\n",
       "    </tr>\n",
       "    <tr>\n",
       "      <th>...</th>\n",
       "      <td>...</td>\n",
       "      <td>...</td>\n",
       "      <td>...</td>\n",
       "      <td>...</td>\n",
       "      <td>...</td>\n",
       "      <td>...</td>\n",
       "    </tr>\n",
       "    <tr>\n",
       "      <th>313</th>\n",
       "      <td>Q: How have the policies changed based on trai...</td>\n",
       "      <td>How do you feel about what you have learned ab...</td>\n",
       "      <td>1</td>\n",
       "      <td>NaN</td>\n",
       "      <td>People put forth questions about the report an...</td>\n",
       "      <td>0.000000</td>\n",
       "    </tr>\n",
       "    <tr>\n",
       "      <th>314</th>\n",
       "      <td>Q: When arrests of students of color made, whe...</td>\n",
       "      <td>How do you feel about what you have learned ab...</td>\n",
       "      <td>3</td>\n",
       "      <td>NaN</td>\n",
       "      <td>People put forth questions about the report an...</td>\n",
       "      <td>0.000000</td>\n",
       "    </tr>\n",
       "    <tr>\n",
       "      <th>315</th>\n",
       "      <td>Q: How are hot spots defined? Is it by calls? ...</td>\n",
       "      <td>How do you feel about what you have learned ab...</td>\n",
       "      <td>1</td>\n",
       "      <td>NaN</td>\n",
       "      <td>People put forth questions about the report an...</td>\n",
       "      <td>0.232143</td>\n",
       "    </tr>\n",
       "    <tr>\n",
       "      <th>316</th>\n",
       "      <td>Q: Was there community input on the person hir...</td>\n",
       "      <td>How do you feel about what you have learned ab...</td>\n",
       "      <td>1</td>\n",
       "      <td>NaN</td>\n",
       "      <td>People put forth questions about the report an...</td>\n",
       "      <td>0.000000</td>\n",
       "    </tr>\n",
       "    <tr>\n",
       "      <th>317</th>\n",
       "      <td>From the panel- Wanting more information about...</td>\n",
       "      <td>How do you feel about what you have learned ab...</td>\n",
       "      <td>1</td>\n",
       "      <td>NaN</td>\n",
       "      <td>People put forth questions about the report an...</td>\n",
       "      <td>0.500000</td>\n",
       "    </tr>\n",
       "  </tbody>\n",
       "</table>\n",
       "<p>74 rows × 6 columns</p>\n",
       "</div>"
      ],
      "text/plain": [
       "                                              Response  \\\n",
       "36    Data source: glad to have detailed sources cited   \n",
       "37                        Translate reports in Spanish   \n",
       "38                     Surprised by the depth and data   \n",
       "39   This report is a step above what's been done i...   \n",
       "40               Surprised by SD23 zero-disparity goal   \n",
       "..                                                 ...   \n",
       "313  Q: How have the policies changed based on trai...   \n",
       "314  Q: When arrests of students of color made, whe...   \n",
       "315  Q: How are hot spots defined? Is it by calls? ...   \n",
       "316  Q: Was there community input on the person hir...   \n",
       "317  From the panel- Wanting more information about...   \n",
       "\n",
       "                                              Question  Group Topic  \\\n",
       "36   How do you feel about what you have learned ab...      5  Data   \n",
       "37   How do you feel about what you have learned ab...      3  Data   \n",
       "38   How do you feel about what you have learned ab...      5  Data   \n",
       "39   How do you feel about what you have learned ab...      1  Data   \n",
       "40   How do you feel about what you have learned ab...      5  Data   \n",
       "..                                                 ...    ...   ...   \n",
       "313  How do you feel about what you have learned ab...      1   NaN   \n",
       "314  How do you feel about what you have learned ab...      3   NaN   \n",
       "315  How do you feel about what you have learned ab...      1   NaN   \n",
       "316  How do you feel about what you have learned ab...      1   NaN   \n",
       "317  How do you feel about what you have learned ab...      1   NaN   \n",
       "\n",
       "                                                 Theme  Response_Sentiment  \n",
       "36   People highlighted the strengths of the racial...            0.450000  \n",
       "37   People highlighted the strengths of the racial...            0.000000  \n",
       "38   People highlighted the strengths of the racial...            0.100000  \n",
       "39   People highlighted the strengths of the racial...            0.135625  \n",
       "40   People highlighted the strengths of the racial...            0.100000  \n",
       "..                                                 ...                 ...  \n",
       "313  People put forth questions about the report an...            0.000000  \n",
       "314  People put forth questions about the report an...            0.000000  \n",
       "315  People put forth questions about the report an...            0.232143  \n",
       "316  People put forth questions about the report an...            0.000000  \n",
       "317  People put forth questions about the report an...            0.500000  \n",
       "\n",
       "[74 rows x 6 columns]"
      ]
     },
     "execution_count": 83,
     "metadata": {},
     "output_type": "execute_result"
    }
   ],
   "source": [
    "# Add your code below\n",
    "feedback = (df.query(f'Question == \"{feedback_question}\"')) \n",
    "\n",
    "feedback\n",
    "\n"
   ]
  },
  {
   "cell_type": "markdown",
   "metadata": {},
   "source": [
    "We can see that there are three different values in the `Topic` column, with a fairly even distribution between them:"
   ]
  },
  {
   "cell_type": "code",
   "execution_count": 84,
   "metadata": {},
   "outputs": [
    {
     "data": {
      "text/plain": [
       "Racism/Systems    28\n",
       "Accountability    21\n",
       "Data              17\n",
       "Name: Topic, dtype: int64"
      ]
     },
     "execution_count": 84,
     "metadata": {},
     "output_type": "execute_result"
    }
   ],
   "source": [
    "feedback['Topic'].value_counts()"
   ]
  },
  {
   "cell_type": "markdown",
   "metadata": {},
   "source": [
    "Creation of a DataFrame called `topic_sentiment`, using `.groupby()` on `feedback`, which shows the `mean`, `min`, and `max` `Response_Sentiment` values for each `Topic`: \n",
    "\n",
    "*You may find the pandas `.agg(['mean', 'min', 'max'])` method useful.*"
   ]
  },
  {
   "cell_type": "code",
   "execution_count": 85,
   "metadata": {},
   "outputs": [
    {
     "data": {
      "text/html": [
       "<div>\n",
       "<style scoped>\n",
       "    .dataframe tbody tr th:only-of-type {\n",
       "        vertical-align: middle;\n",
       "    }\n",
       "\n",
       "    .dataframe tbody tr th {\n",
       "        vertical-align: top;\n",
       "    }\n",
       "\n",
       "    .dataframe thead th {\n",
       "        text-align: right;\n",
       "    }\n",
       "</style>\n",
       "<table border=\"1\" class=\"dataframe\">\n",
       "  <thead>\n",
       "    <tr style=\"text-align: right;\">\n",
       "      <th></th>\n",
       "      <th>mean</th>\n",
       "      <th>min</th>\n",
       "      <th>max</th>\n",
       "    </tr>\n",
       "    <tr>\n",
       "      <th>Topic</th>\n",
       "      <th></th>\n",
       "      <th></th>\n",
       "      <th></th>\n",
       "    </tr>\n",
       "  </thead>\n",
       "  <tbody>\n",
       "    <tr>\n",
       "      <th>Accountability</th>\n",
       "      <td>0.004603</td>\n",
       "      <td>-0.700000</td>\n",
       "      <td>0.50</td>\n",
       "    </tr>\n",
       "    <tr>\n",
       "      <th>Data</th>\n",
       "      <td>0.082406</td>\n",
       "      <td>-0.222222</td>\n",
       "      <td>0.45</td>\n",
       "    </tr>\n",
       "    <tr>\n",
       "      <th>Racism/Systems</th>\n",
       "      <td>-0.057440</td>\n",
       "      <td>-0.700000</td>\n",
       "      <td>0.40</td>\n",
       "    </tr>\n",
       "  </tbody>\n",
       "</table>\n",
       "</div>"
      ],
      "text/plain": [
       "                    mean       min   max\n",
       "Topic                                   \n",
       "Accountability  0.004603 -0.700000  0.50\n",
       "Data            0.082406 -0.222222  0.45\n",
       "Racism/Systems -0.057440 -0.700000  0.40"
      ]
     },
     "execution_count": 85,
     "metadata": {},
     "output_type": "execute_result"
    }
   ],
   "source": [
    "topic_sentiment = feedback.groupby('Topic')['Response_Sentiment'].agg(['mean', 'min', 'max'])\n",
    "topic_sentiment"
   ]
  },
  {
   "cell_type": "markdown",
   "metadata": {},
   "source": [
    "We would like to see if there was much variation in sentiment between the five different groups which participated.\n",
    "\n",
    "Creation of a DataFrame called `group_sentiment` (adapting the same code as above) to find the same `Response_Sentiment` metrics, this time for all `Responses` in `df` and grouped by `Group`:"
   ]
  },
  {
   "cell_type": "code",
   "execution_count": 96,
   "metadata": {},
   "outputs": [
    {
     "data": {
      "text/html": [
       "<div>\n",
       "<style scoped>\n",
       "    .dataframe tbody tr th:only-of-type {\n",
       "        vertical-align: middle;\n",
       "    }\n",
       "\n",
       "    .dataframe tbody tr th {\n",
       "        vertical-align: top;\n",
       "    }\n",
       "\n",
       "    .dataframe thead th {\n",
       "        text-align: right;\n",
       "    }\n",
       "</style>\n",
       "<table border=\"1\" class=\"dataframe\">\n",
       "  <thead>\n",
       "    <tr style=\"text-align: right;\">\n",
       "      <th></th>\n",
       "      <th></th>\n",
       "      <th>mean</th>\n",
       "      <th>min</th>\n",
       "      <th>max</th>\n",
       "    </tr>\n",
       "    <tr>\n",
       "      <th>Group</th>\n",
       "      <th>Topic</th>\n",
       "      <th></th>\n",
       "      <th></th>\n",
       "      <th></th>\n",
       "    </tr>\n",
       "  </thead>\n",
       "  <tbody>\n",
       "    <tr>\n",
       "      <th rowspan=\"3\" valign=\"top\">1</th>\n",
       "      <th>Accountability</th>\n",
       "      <td>-0.057778</td>\n",
       "      <td>-0.200000</td>\n",
       "      <td>0.160000</td>\n",
       "    </tr>\n",
       "    <tr>\n",
       "      <th>Data</th>\n",
       "      <td>-0.009844</td>\n",
       "      <td>-0.125000</td>\n",
       "      <td>0.135625</td>\n",
       "    </tr>\n",
       "    <tr>\n",
       "      <th>Racism/Systems</th>\n",
       "      <td>0.166667</td>\n",
       "      <td>0.166667</td>\n",
       "      <td>0.166667</td>\n",
       "    </tr>\n",
       "    <tr>\n",
       "      <th rowspan=\"3\" valign=\"top\">3</th>\n",
       "      <th>Accountability</th>\n",
       "      <td>0.067000</td>\n",
       "      <td>-0.250000</td>\n",
       "      <td>0.500000</td>\n",
       "    </tr>\n",
       "    <tr>\n",
       "      <th>Data</th>\n",
       "      <td>0.050000</td>\n",
       "      <td>0.000000</td>\n",
       "      <td>0.200000</td>\n",
       "    </tr>\n",
       "    <tr>\n",
       "      <th>Racism/Systems</th>\n",
       "      <td>-0.028704</td>\n",
       "      <td>-0.250000</td>\n",
       "      <td>0.125000</td>\n",
       "    </tr>\n",
       "    <tr>\n",
       "      <th rowspan=\"3\" valign=\"top\">4</th>\n",
       "      <th>Accountability</th>\n",
       "      <td>-0.100000</td>\n",
       "      <td>-0.700000</td>\n",
       "      <td>0.200000</td>\n",
       "    </tr>\n",
       "    <tr>\n",
       "      <th>Data</th>\n",
       "      <td>-0.111111</td>\n",
       "      <td>-0.222222</td>\n",
       "      <td>0.000000</td>\n",
       "    </tr>\n",
       "    <tr>\n",
       "      <th>Racism/Systems</th>\n",
       "      <td>-0.084259</td>\n",
       "      <td>-0.700000</td>\n",
       "      <td>0.400000</td>\n",
       "    </tr>\n",
       "    <tr>\n",
       "      <th rowspan=\"2\" valign=\"top\">5</th>\n",
       "      <th>Accountability</th>\n",
       "      <td>0.033333</td>\n",
       "      <td>0.000000</td>\n",
       "      <td>0.100000</td>\n",
       "    </tr>\n",
       "    <tr>\n",
       "      <th>Data</th>\n",
       "      <td>0.208929</td>\n",
       "      <td>0.000000</td>\n",
       "      <td>0.450000</td>\n",
       "    </tr>\n",
       "  </tbody>\n",
       "</table>\n",
       "</div>"
      ],
      "text/plain": [
       "                          mean       min       max\n",
       "Group Topic                                       \n",
       "1     Accountability -0.057778 -0.200000  0.160000\n",
       "      Data           -0.009844 -0.125000  0.135625\n",
       "      Racism/Systems  0.166667  0.166667  0.166667\n",
       "3     Accountability  0.067000 -0.250000  0.500000\n",
       "      Data            0.050000  0.000000  0.200000\n",
       "      Racism/Systems -0.028704 -0.250000  0.125000\n",
       "4     Accountability -0.100000 -0.700000  0.200000\n",
       "      Data           -0.111111 -0.222222  0.000000\n",
       "      Racism/Systems -0.084259 -0.700000  0.400000\n",
       "5     Accountability  0.033333  0.000000  0.100000\n",
       "      Data            0.208929  0.000000  0.450000"
      ]
     },
     "execution_count": 96,
     "metadata": {},
     "output_type": "execute_result"
    }
   ],
   "source": [
    "group_sentiment = feedback.groupby(['Group','Topic'])['Response_Sentiment'].agg(['mean','min','max'])\n",
    "group_sentiment"
   ]
  }
 ],
 "metadata": {
  "kernelspec": {
   "display_name": "Python 3 (ipykernel)",
   "language": "python",
   "name": "python3"
  },
  "language_info": {
   "codemirror_mode": {
    "name": "ipython",
    "version": 3
   },
   "file_extension": ".py",
   "mimetype": "text/x-python",
   "name": "python",
   "nbconvert_exporter": "python",
   "pygments_lexer": "ipython3",
   "version": "3.10.8"
  }
 },
 "nbformat": 4,
 "nbformat_minor": 4
}
