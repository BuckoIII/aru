{
 "cells": [
  {
   "cell_type": "markdown",
   "metadata": {},
   "source": [
    "# Communicating with servers via HTTP"
   ]
  },
  {
   "cell_type": "markdown",
   "metadata": {},
   "source": [
    "## `requests`\n",
    "\n",
    "`requests` is a third-party package that faciliates the task of sending HTTP requests to communicate with servers.\n",
    "\n",
    "- To install `requests` with `conda` run:\n",
    "\n",
    "```bash\n",
    "conda install requests\n",
    "```\n",
    "\n",
    "- To install `requests` with `pip` run:\n",
    "```bash\n",
    "pip install requests\n",
    "```\n",
    "\n",
    "You can try installing packages using the **Terminal** (Mac), **Anaconda Prompt** (Windows), or by launching a **Terminal** from **Jupyter notebook** (`New` => `Terminal` from the Jupyter notebook `Files` interface)."
   ]
  },
  {
   "cell_type": "markdown",
   "metadata": {},
   "source": [
    "Whilst `requests` can be used to retrieve HTML from web pages, it shines when it comes to communicating with web APIs that require several arguments."
   ]
  },
  {
   "cell_type": "markdown",
   "metadata": {},
   "source": [
    "Let's first import `requests` and retrieve a web page.\n",
    "\n",
    "We can call `get()` with an URL and save the `Response` object."
   ]
  },
  {
   "cell_type": "code",
   "execution_count": 402,
   "metadata": {
    "scrolled": true
   },
   "outputs": [],
   "source": [
    "import requests\n",
    "\n",
    "# Get the response from a page\n",
    "response = requests.get(\"https://cambridgespark.com\")"
   ]
  },
  {
   "cell_type": "markdown",
   "metadata": {},
   "source": [
    "Let's check the status code, `200` means `OK` -- the request was successful."
   ]
  },
  {
   "cell_type": "code",
   "execution_count": 403,
   "metadata": {},
   "outputs": [
    {
     "data": {
      "text/plain": [
       "200"
      ]
     },
     "execution_count": 403,
     "metadata": {},
     "output_type": "execute_result"
    }
   ],
   "source": [
    "response.status_code"
   ]
  },
  {
   "cell_type": "markdown",
   "metadata": {},
   "source": [
    "We can also access the content of the page with the attribute `.content`"
   ]
  },
  {
   "cell_type": "code",
   "execution_count": 404,
   "metadata": {},
   "outputs": [
    {
     "data": {
      "text/plain": [
       "bytes"
      ]
     },
     "execution_count": 404,
     "metadata": {},
     "output_type": "execute_result"
    }
   ],
   "source": [
    "# response.content\n",
    "type(response.content)"
   ]
  },
  {
   "cell_type": "code",
   "execution_count": 405,
   "metadata": {},
   "outputs": [
    {
     "name": "stdout",
     "output_type": "stream",
     "text": [
      "found 65 links\n",
      "found no tables\n"
     ]
    }
   ],
   "source": [
    "# practice scraping links from page\n",
    "\n",
    "from bs4 import BeautifulSoup\n",
    "\n",
    "soup = BeautifulSoup(response.text)\n",
    "# print(soup.prettify())\n",
    "\n",
    "# get page links \n",
    "links = soup.find_all('a')\n",
    "links = [link.get('href') for link in links]\n",
    "if not links:\n",
    "    print('found no tables')\n",
    "if links:\n",
    "    print(f'found {len(links)} links')\n",
    "\n",
    "# get table data\n",
    "tables = soup.findChildren('th')\n",
    "if not tables:\n",
    "    print('found no tables')\n"
   ]
  },
  {
   "cell_type": "markdown",
   "metadata": {},
   "source": [
    "Let's look at how `requests` helps when we work with more complex web APIs.\n",
    "\n",
    "We've created our own web API, you can access it here [here](https://europe-west2-kate-dev.cloudfunctions.net/banking)\n",
    "\n",
    "We define below the base URL for the API so you do not have to type the whole URL everytime and can just append the endpoint you want to call."
   ]
  },
  {
   "cell_type": "code",
   "execution_count": 406,
   "metadata": {},
   "outputs": [],
   "source": [
    "BASE_URL = \"https://europe-west2-kate-dev.cloudfunctions.net/banking\""
   ]
  },
  {
   "cell_type": "markdown",
   "metadata": {},
   "source": [
    "Have a look at the [API Documentation](https://europe-west2-kate-dev.cloudfunctions.net/banking/documentation) to know more about what functionalities are available."
   ]
  },
  {
   "cell_type": "markdown",
   "metadata": {},
   "source": [
    "To start with, we will try to list all available users.\n",
    "\n",
    "To do so, we can call the `/api/users` endpoint."
   ]
  },
  {
   "cell_type": "markdown",
   "metadata": {},
   "source": [
    "Let's call our first endpoint to get all available users:"
   ]
  },
  {
   "cell_type": "code",
   "execution_count": 407,
   "metadata": {},
   "outputs": [],
   "source": [
    "url_endpoint = f\"{BASE_URL}/api/users\"\n",
    "\n",
    "r = requests.get(url=url_endpoint)"
   ]
  },
  {
   "cell_type": "code",
   "execution_count": 408,
   "metadata": {},
   "outputs": [
    {
     "data": {
      "text/plain": [
       "401"
      ]
     },
     "execution_count": 408,
     "metadata": {},
     "output_type": "execute_result"
    }
   ],
   "source": [
    "# Let's verify we got a status code 200 first\n",
    "r.status_code"
   ]
  },
  {
   "cell_type": "markdown",
   "metadata": {},
   "source": [
    "Oops, error [401](https://httpstatuses.com/401) stands for `Unauthorized` - HTTP is a well defined protocol where each error corresponds to a specific issue. \n",
    "\n",
    "We can check the content returned by the API for more details:"
   ]
  },
  {
   "cell_type": "code",
   "execution_count": 409,
   "metadata": {},
   "outputs": [
    {
     "data": {
      "text/plain": [
       "b'Invalid token.'"
      ]
     },
     "execution_count": 409,
     "metadata": {},
     "output_type": "execute_result"
    }
   ],
   "source": [
    "r.content"
   ]
  },
  {
   "cell_type": "markdown",
   "metadata": {},
   "source": [
    "We \"forgot\" to mention that our API requires authentication... (see documentation for more details on how to authenticate)\n",
    "\n",
    "Users need to pass an API key in the headers to authenticate, you can see it as a password. We provide the API key below.\n",
    "\n",
    "Note: with actual APIs, the documentation will explain how to pass a key to authenticate, it often follows a similar process we are using here.\n",
    "\n",
    "Thanksfully `requests` allows us to easily define the headers we want to pass when making a request:"
   ]
  },
  {
   "cell_type": "code",
   "execution_count": 410,
   "metadata": {},
   "outputs": [],
   "source": [
    "api_key = {\"Authorization\": \"NRCqpfD3\"}"
   ]
  },
  {
   "cell_type": "code",
   "execution_count": 411,
   "metadata": {},
   "outputs": [],
   "source": [
    "# save for safety\n",
    "import json\n",
    "\n",
    "json.dumps(api_key)\n",
    "\n",
    "with open('data/api_key.json', 'w') as file:\n",
    "    json.dump(api_key, file)\n",
    "    \n"
   ]
  },
  {
   "cell_type": "markdown",
   "metadata": {},
   "source": [
    "Let's try again, with our API key this time"
   ]
  },
  {
   "cell_type": "code",
   "execution_count": 412,
   "metadata": {},
   "outputs": [
    {
     "data": {
      "text/plain": [
       "200"
      ]
     },
     "execution_count": 412,
     "metadata": {},
     "output_type": "execute_result"
    }
   ],
   "source": [
    "url_endpoint = f\"{BASE_URL}/api/users\"\n",
    "\n",
    "r = requests.get(url=url_endpoint, headers=api_key)\n",
    "\n",
    "r.status_code"
   ]
  },
  {
   "cell_type": "markdown",
   "metadata": {},
   "source": [
    "Status code is [200](https://httpstatuses.com/200), great!\n",
    "\n",
    "Let's see the content:"
   ]
  },
  {
   "cell_type": "code",
   "execution_count": 413,
   "metadata": {},
   "outputs": [
    {
     "data": {
      "text/plain": [
       "b'{\"1\":\"Caroline\",\"2\":\"Marium\",\"3\":\"John\",\"4\":\"John\",\"5\":\"John\",\"6\":\"Vic_Flores\",\"7\":\"Payton\",\"8\":\"Jess\",\"9\":\"Sam\",\"10\":\"Luning\",\"11\":\"Karl\",\"12\":\"Johan\",\"13\":\"username\",\"14\":\"test\",\"15\":\"Bethan\",\"16\":\"Linying\",\"17\":\"Linying\",\"18\":\"Vic_Flores\",\"19\":\"\\\\ud83d\\\\ude00\",\"20\":\"\\\\\");DROP TABLE * ;\",\"21\":\"D&G\",\"22\":\"Ben S\",\"23\":\"Ben S\",\"24\":\"Michael\",\"25\":\"John\",\"26\":\"Emma\",\"27\":\"Emma\",\"28\":\"Jasmin\",\"29\":\"Leo\",\"30\":\"Matt\",\"31\":\"Rasool\",\"32\":\"John\",\"33\":\"John\",\"34\":\"John\",\"35\":\"Amy\",\"36\":\"Jeremy\",\"37\":\"Xiong\",\"38\":\"John\",\"39\":\"John\",\"40\":\"John\",\"41\":\"John\",\"42\":\"John\",\"43\":\"Jeremy\",\"44\":\"John\",\"45\":\"Maxi Madcock\",\"46\":\"Tilly Tats\",\"47\":\"Raine The Paine\",\"48\":\"John\",\"49\":\"John\",\"50\":\"John\",\"51\":\"John\",\"52\":\"Jon\",\"53\":\"Zak\",\"54\":\"John\",\"55\":\"Karl\",\"56\":\"Ben\",\"57\":\"Karl 2\",\"58\":\"Karl Hampton\",\"59\":\"Abby\",\"60\":\"Kristi\",\"61\":\"Abby\",\"62\":\"Benjo\",\"63\":\"JonB\",\"64\":\"ZAK\",\"65\":\"Samantha\",\"66\":\"John\",\"67\":\"John\",\"68\":\"Oli\",\"69\":\"Oli\",\"70\":\"Barry\",\"71\":\"Jennie\",\"72\":\"Rik\",\"73\":\"Fahis\",\"74\":\"Bobandy\",\"75\":\"Bobandy\",\"76\":\"John\",\"77\":\"John\",\"78\":\"John\",\"79\":\"John\",\"80\":\"MM\",\"81\":\"Hey\",\"82\":\"Daffy Duck\",\"83\":\"John\",\"84\":\"Steve\",\"85\":\"Steve\",\"86\":\"Ali\",\"87\":\"Steve\",\"88\":\"Steve\",\"89\":\"John\",\"90\":\"John\",\"91\":\"John\",\"92\":\"John\",\"93\":\"John\",\"94\":\"John\",\"95\":\"John\",\"96\":\"Hannah\",\"97\":\"Hannah\",\"98\":\"J\",\"99\":\"John\",\"100\":\"John\",\"101\":\"John\",\"102\":\"Adrian\",\"103\":\"Benedicte\",\"104\":\"Sami\",\"105\":\"Steffan\",\"106\":\"John\",\"107\":\"John\",\"108\":\"Steffan\",\"109\":\"James\",\"110\":\"Agamemnon\",\"111\":\"John\",\"112\":\"John\",\"113\":\"Caroline\",\"114\":\"John\",\"115\":\"Paul\",\"116\":\"Silky\",\"117\":\"Silky\",\"118\":\"John\",\"119\":\"Jacky\",\"120\":\"Jacky\",\"121\":\"Jacky\",\"122\":\"Jacky\",\"123\":\"Jacky\",\"124\":\"Jacky\",\"125\":\"John\",\"126\":\"John\",\"127\":\"John\",\"128\":\"John\",\"129\":\"John\",\"130\":\"John\",\"131\":\"John\",\"132\":\"Kate Mac\",\"133\":\"Kate Mac\",\"134\":\"Maria\",\"135\":\"Maria\",\"136\":\"John\",\"137\":\"John\",\"138\":\"arnold schwarzenegger\",\"139\":\"Geronimo\",\"140\":\"John\",\"141\":\"John\",\"142\":\"Benigan\",\"143\":\"Martyn\",\"144\":\"buckoii\",\"145\":\"buckoii\"}\\n'"
      ]
     },
     "execution_count": 413,
     "metadata": {},
     "output_type": "execute_result"
    }
   ],
   "source": [
    "r.content"
   ]
  },
  {
   "cell_type": "markdown",
   "metadata": {},
   "source": [
    "Since our API return JSON objects, we can now use `.json()` directly from `requests` to load the data as a dictionary."
   ]
  },
  {
   "cell_type": "code",
   "execution_count": 414,
   "metadata": {},
   "outputs": [
    {
     "data": {
      "text/plain": [
       "{'1': 'Caroline',\n",
       " '2': 'Marium',\n",
       " '3': 'John',\n",
       " '4': 'John',\n",
       " '5': 'John',\n",
       " '6': 'Vic_Flores',\n",
       " '7': 'Payton',\n",
       " '8': 'Jess',\n",
       " '9': 'Sam',\n",
       " '10': 'Luning',\n",
       " '11': 'Karl',\n",
       " '12': 'Johan',\n",
       " '13': 'username',\n",
       " '14': 'test',\n",
       " '15': 'Bethan',\n",
       " '16': 'Linying',\n",
       " '17': 'Linying',\n",
       " '18': 'Vic_Flores',\n",
       " '19': '😀',\n",
       " '20': '\");DROP TABLE * ;',\n",
       " '21': 'D&G',\n",
       " '22': 'Ben S',\n",
       " '23': 'Ben S',\n",
       " '24': 'Michael',\n",
       " '25': 'John',\n",
       " '26': 'Emma',\n",
       " '27': 'Emma',\n",
       " '28': 'Jasmin',\n",
       " '29': 'Leo',\n",
       " '30': 'Matt',\n",
       " '31': 'Rasool',\n",
       " '32': 'John',\n",
       " '33': 'John',\n",
       " '34': 'John',\n",
       " '35': 'Amy',\n",
       " '36': 'Jeremy',\n",
       " '37': 'Xiong',\n",
       " '38': 'John',\n",
       " '39': 'John',\n",
       " '40': 'John',\n",
       " '41': 'John',\n",
       " '42': 'John',\n",
       " '43': 'Jeremy',\n",
       " '44': 'John',\n",
       " '45': 'Maxi Madcock',\n",
       " '46': 'Tilly Tats',\n",
       " '47': 'Raine The Paine',\n",
       " '48': 'John',\n",
       " '49': 'John',\n",
       " '50': 'John',\n",
       " '51': 'John',\n",
       " '52': 'Jon',\n",
       " '53': 'Zak',\n",
       " '54': 'John',\n",
       " '55': 'Karl',\n",
       " '56': 'Ben',\n",
       " '57': 'Karl 2',\n",
       " '58': 'Karl Hampton',\n",
       " '59': 'Abby',\n",
       " '60': 'Kristi',\n",
       " '61': 'Abby',\n",
       " '62': 'Benjo',\n",
       " '63': 'JonB',\n",
       " '64': 'ZAK',\n",
       " '65': 'Samantha',\n",
       " '66': 'John',\n",
       " '67': 'John',\n",
       " '68': 'Oli',\n",
       " '69': 'Oli',\n",
       " '70': 'Barry',\n",
       " '71': 'Jennie',\n",
       " '72': 'Rik',\n",
       " '73': 'Fahis',\n",
       " '74': 'Bobandy',\n",
       " '75': 'Bobandy',\n",
       " '76': 'John',\n",
       " '77': 'John',\n",
       " '78': 'John',\n",
       " '79': 'John',\n",
       " '80': 'MM',\n",
       " '81': 'Hey',\n",
       " '82': 'Daffy Duck',\n",
       " '83': 'John',\n",
       " '84': 'Steve',\n",
       " '85': 'Steve',\n",
       " '86': 'Ali',\n",
       " '87': 'Steve',\n",
       " '88': 'Steve',\n",
       " '89': 'John',\n",
       " '90': 'John',\n",
       " '91': 'John',\n",
       " '92': 'John',\n",
       " '93': 'John',\n",
       " '94': 'John',\n",
       " '95': 'John',\n",
       " '96': 'Hannah',\n",
       " '97': 'Hannah',\n",
       " '98': 'J',\n",
       " '99': 'John',\n",
       " '100': 'John',\n",
       " '101': 'John',\n",
       " '102': 'Adrian',\n",
       " '103': 'Benedicte',\n",
       " '104': 'Sami',\n",
       " '105': 'Steffan',\n",
       " '106': 'John',\n",
       " '107': 'John',\n",
       " '108': 'Steffan',\n",
       " '109': 'James',\n",
       " '110': 'Agamemnon',\n",
       " '111': 'John',\n",
       " '112': 'John',\n",
       " '113': 'Caroline',\n",
       " '114': 'John',\n",
       " '115': 'Paul',\n",
       " '116': 'Silky',\n",
       " '117': 'Silky',\n",
       " '118': 'John',\n",
       " '119': 'Jacky',\n",
       " '120': 'Jacky',\n",
       " '121': 'Jacky',\n",
       " '122': 'Jacky',\n",
       " '123': 'Jacky',\n",
       " '124': 'Jacky',\n",
       " '125': 'John',\n",
       " '126': 'John',\n",
       " '127': 'John',\n",
       " '128': 'John',\n",
       " '129': 'John',\n",
       " '130': 'John',\n",
       " '131': 'John',\n",
       " '132': 'Kate Mac',\n",
       " '133': 'Kate Mac',\n",
       " '134': 'Maria',\n",
       " '135': 'Maria',\n",
       " '136': 'John',\n",
       " '137': 'John',\n",
       " '138': 'arnold schwarzenegger',\n",
       " '139': 'Geronimo',\n",
       " '140': 'John',\n",
       " '141': 'John',\n",
       " '142': 'Benigan',\n",
       " '143': 'Martyn',\n",
       " '144': 'buckoii',\n",
       " '145': 'buckoii'}"
      ]
     },
     "execution_count": 414,
     "metadata": {},
     "output_type": "execute_result"
    }
   ],
   "source": [
    "users = r.json()\n",
    "users"
   ]
  },
  {
   "cell_type": "markdown",
   "metadata": {},
   "source": [
    "### Exercise"
   ]
  },
  {
   "cell_type": "markdown",
   "metadata": {},
   "source": [
    "First we will get transactions for a specific user - as you can see in the documentation, you can use the `get_transactions` endpoint here and eppend the user_id of the user you want to retrieve data from"
   ]
  },
  {
   "cell_type": "markdown",
   "metadata": {},
   "source": [
    "Get transaction data for our first user (check the endpoint in the documentation, and don't forget the API key)"
   ]
  },
  {
   "cell_type": "code",
   "execution_count": 415,
   "metadata": {},
   "outputs": [
    {
     "data": {
      "text/plain": [
       "(200, b'[{\"amount\":1000000.0,\"type\":\"CREDIT\"}]\\n')"
      ]
     },
     "execution_count": 415,
     "metadata": {},
     "output_type": "execute_result"
    }
   ],
   "source": [
    "user_id = 45\n",
    "\n",
    "url_endpoint = f\"{BASE_URL}/api/get_transactions/{user_id}\"\n",
    "\n",
    "r = requests.get(url=url_endpoint, headers=api_key)\n",
    "\n",
    "r.status_code, r.content"
   ]
  },
  {
   "cell_type": "markdown",
   "metadata": {},
   "source": [
    "As you can see in the documentation, you can add an optional parameter to your request. With APIs you usually add a `?` followed by the optional arguments you want to add:"
   ]
  },
  {
   "cell_type": "code",
   "execution_count": 448,
   "metadata": {},
   "outputs": [
    {
     "data": {
      "text/plain": [
       "[{'amount': 100.0, 'type': 'DEBIT'},\n",
       " {'amount': 99.9, 'type': 'DEBIT'},\n",
       " {'amount': 1000.0, 'type': 'CREDIT'},\n",
       " {'amount': 1000.0, 'type': 'CREDIT'},\n",
       " {'amount': 1800.1, 'type': 'DEBIT'},\n",
       " {'amount': 1000.0, 'type': 'CREDIT'},\n",
       " {'amount': 1123581321345.55, 'type': 'CREDIT'},\n",
       " {'amount': 1123581321345.55, 'type': 'DEBIT'}]"
      ]
     },
     "execution_count": 448,
     "metadata": {},
     "output_type": "execute_result"
    }
   ],
   "source": [
    "user_id = 1\n",
    "url_endpoint = f\"{BASE_URL}/api/get_transactions/{user_id}\"\n",
    "\n",
    "r = requests.get(url=url_endpoint, headers=api_key)\n",
    "r.json()"
   ]
  },
  {
   "cell_type": "markdown",
   "metadata": {},
   "source": [
    "This can quickly become harder to work with as you are adding more optional parameters. `requests` provides a better way to add such parameters."
   ]
  },
  {
   "cell_type": "markdown",
   "metadata": {},
   "source": [
    "### Exercise"
   ]
  },
  {
   "cell_type": "markdown",
   "metadata": {},
   "source": [
    "Instead of using `?` followed by the parameters, create a new dictionary with the arguments you want to use and their value, then pass this dictionary to `get()` as keyword argument `params`.\n",
    "\n",
    "Syntax:\n",
    "\n",
    "```\n",
    "requests.get(your_url, params=your_parameters, headers=your_headers)\n",
    "```"
   ]
  },
  {
   "cell_type": "code",
   "execution_count": 417,
   "metadata": {},
   "outputs": [
    {
     "data": {
      "text/plain": [
       "200"
      ]
     },
     "execution_count": 417,
     "metadata": {},
     "output_type": "execute_result"
    }
   ],
   "source": [
    "url_endpoint = f\"{BASE_URL}/api/users\"\n",
    "\n",
    "r = requests.get(url=url_endpoint, headers=api_key)\n",
    "\n",
    "r.status_code"
   ]
  },
  {
   "cell_type": "markdown",
   "metadata": {},
   "source": [
    "Our web API also supports some `POST` operations where you can add data to our database. The first one we will see here is `add_user` that allows you to add a new user.\n",
    "\n",
    "With `requests` we can simply use the `.post()` method and pass the data we want to send as a `data` parameter.\n",
    "\n",
    "Replace the name in the dictionary below by your own name. This defines the data about a user that we want to send to the API."
   ]
  },
  {
   "cell_type": "code",
   "execution_count": 418,
   "metadata": {},
   "outputs": [],
   "source": [
    "# Replace by a name of your choice\n",
    "user = {\"name\": \"buckoii\"}"
   ]
  },
  {
   "cell_type": "code",
   "execution_count": 419,
   "metadata": {},
   "outputs": [],
   "source": [
    "# Here we have a new argument, data, that allows us to post data to the API\n",
    "url_endpoint = f\"{BASE_URL}/api/add_user\"\n",
    "\n",
    "r = requests.post(url_endpoint, data=user, headers=api_key)"
   ]
  },
  {
   "cell_type": "markdown",
   "metadata": {},
   "source": [
    "Let's check the status code:"
   ]
  },
  {
   "cell_type": "code",
   "execution_count": 420,
   "metadata": {},
   "outputs": [
    {
     "data": {
      "text/plain": [
       "200"
      ]
     },
     "execution_count": 420,
     "metadata": {},
     "output_type": "execute_result"
    }
   ],
   "source": [
    "r.status_code"
   ]
  },
  {
   "cell_type": "markdown",
   "metadata": {},
   "source": [
    "`200` means the operation was successful! If we call the get_users endpoint again (like we did at the very beginning) we should see our new user.\n",
    "\n",
    "Get the updated list of users to find your new user's ID:"
   ]
  },
  {
   "cell_type": "code",
   "execution_count": 421,
   "metadata": {},
   "outputs": [
    {
     "data": {
      "text/plain": [
       "(200,\n",
       " b'{\"1\":\"Caroline\",\"2\":\"Marium\",\"3\":\"John\",\"4\":\"John\",\"5\":\"John\",\"6\":\"Vic_Flores\",\"7\":\"Payton\",\"8\":\"Jess\",\"9\":\"Sam\",\"10\":\"Luning\",\"11\":\"Karl\",\"12\":\"Johan\",\"13\":\"username\",\"14\":\"test\",\"15\":\"Bethan\",\"16\":\"Linying\",\"17\":\"Linying\",\"18\":\"Vic_Flores\",\"19\":\"\\\\ud83d\\\\ude00\",\"20\":\"\\\\\");DROP TABLE * ;\",\"21\":\"D&G\",\"22\":\"Ben S\",\"23\":\"Ben S\",\"24\":\"Michael\",\"25\":\"John\",\"26\":\"Emma\",\"27\":\"Emma\",\"28\":\"Jasmin\",\"29\":\"Leo\",\"30\":\"Matt\",\"31\":\"Rasool\",\"32\":\"John\",\"33\":\"John\",\"34\":\"John\",\"35\":\"Amy\",\"36\":\"Jeremy\",\"37\":\"Xiong\",\"38\":\"John\",\"39\":\"John\",\"40\":\"John\",\"41\":\"John\",\"42\":\"John\",\"43\":\"Jeremy\",\"44\":\"John\",\"45\":\"Maxi Madcock\",\"46\":\"Tilly Tats\",\"47\":\"Raine The Paine\",\"48\":\"John\",\"49\":\"John\",\"50\":\"John\",\"51\":\"John\",\"52\":\"Jon\",\"53\":\"Zak\",\"54\":\"John\",\"55\":\"Karl\",\"56\":\"Ben\",\"57\":\"Karl 2\",\"58\":\"Karl Hampton\",\"59\":\"Abby\",\"60\":\"Kristi\",\"61\":\"Abby\",\"62\":\"Benjo\",\"63\":\"JonB\",\"64\":\"ZAK\",\"65\":\"Samantha\",\"66\":\"John\",\"67\":\"John\",\"68\":\"Oli\",\"69\":\"Oli\",\"70\":\"Barry\",\"71\":\"Jennie\",\"72\":\"Rik\",\"73\":\"Fahis\",\"74\":\"Bobandy\",\"75\":\"Bobandy\",\"76\":\"John\",\"77\":\"John\",\"78\":\"John\",\"79\":\"John\",\"80\":\"MM\",\"81\":\"Hey\",\"82\":\"Daffy Duck\",\"83\":\"John\",\"84\":\"Steve\",\"85\":\"Steve\",\"86\":\"Ali\",\"87\":\"Steve\",\"88\":\"Steve\",\"89\":\"John\",\"90\":\"John\",\"91\":\"John\",\"92\":\"John\",\"93\":\"John\",\"94\":\"John\",\"95\":\"John\",\"96\":\"Hannah\",\"97\":\"Hannah\",\"98\":\"J\",\"99\":\"John\",\"100\":\"John\",\"101\":\"John\",\"102\":\"Adrian\",\"103\":\"Benedicte\",\"104\":\"Sami\",\"105\":\"Steffan\",\"106\":\"John\",\"107\":\"John\",\"108\":\"Steffan\",\"109\":\"James\",\"110\":\"Agamemnon\",\"111\":\"John\",\"112\":\"John\",\"113\":\"Caroline\",\"114\":\"John\",\"115\":\"Paul\",\"116\":\"Silky\",\"117\":\"Silky\",\"118\":\"John\",\"119\":\"Jacky\",\"120\":\"Jacky\",\"121\":\"Jacky\",\"122\":\"Jacky\",\"123\":\"Jacky\",\"124\":\"Jacky\",\"125\":\"John\",\"126\":\"John\",\"127\":\"John\",\"128\":\"John\",\"129\":\"John\",\"130\":\"John\",\"131\":\"John\",\"132\":\"Kate Mac\",\"133\":\"Kate Mac\",\"134\":\"Maria\",\"135\":\"Maria\",\"136\":\"John\",\"137\":\"John\",\"138\":\"arnold schwarzenegger\",\"139\":\"Geronimo\",\"140\":\"John\",\"141\":\"John\",\"142\":\"Benigan\",\"143\":\"Martyn\",\"144\":\"buckoii\",\"145\":\"buckoii\",\"146\":\"buckoii\"}\\n')"
      ]
     },
     "execution_count": 421,
     "metadata": {},
     "output_type": "execute_result"
    }
   ],
   "source": [
    "url_endpoint = f\"{BASE_URL}/api/users\"\n",
    "\n",
    "r = requests.get(url=url_endpoint, headers=api_key)\n",
    "\n",
    "r.status_code, r.content"
   ]
  },
  {
   "cell_type": "markdown",
   "metadata": {},
   "source": [
    "Finally, our web API allows us to add transactions by sending data serialised in json through a `POST` request to the same endpoint we've seen before. With `requests` we can simply use the `.post()` method and pass the data we want to send as a `data` parameter."
   ]
  },
  {
   "cell_type": "code",
   "execution_count": 422,
   "metadata": {},
   "outputs": [],
   "source": [
    "# Same endpoint as before, but here we'll use a POST request\n",
    "user_id = 144 \n",
    "url_endpoint = f\"{BASE_URL}/api/add_transaction/{user_id}\"\n",
    "\n",
    "# The advantage of using our own API is that we can credit accounts as we want :)\n",
    "transaction_to_add = {\"type\": \"CREDIT\", \"amount\": 1500000}\n",
    "# transaction_to_add = {\"type\": \"DEBIT\", \"amount\": 200000}\n",
    "\n",
    "r = requests.post(url_endpoint, data=transaction_to_add, headers=api_key)"
   ]
  },
  {
   "cell_type": "code",
   "execution_count": 423,
   "metadata": {},
   "outputs": [
    {
     "data": {
      "text/plain": [
       "(int, b'')"
      ]
     },
     "execution_count": 423,
     "metadata": {},
     "output_type": "execute_result"
    }
   ],
   "source": [
    "# We verify the status code\n",
    "type(r.status_code), r.content"
   ]
  },
  {
   "cell_type": "markdown",
   "metadata": {},
   "source": [
    "### Exercise"
   ]
  },
  {
   "cell_type": "markdown",
   "metadata": {},
   "source": [
    "Let's check that our transaction was added; call the endpoint to `get_transactions` for the account you credited.\n",
    "\n",
    "- use a `.get()` request with the necessary `headers` and the same `user_id` as used above"
   ]
  },
  {
   "cell_type": "code",
   "execution_count": 452,
   "metadata": {},
   "outputs": [
    {
     "data": {
      "text/plain": [
       "[{'amount': 1000.0, 'type': 'CREDIT'}, {'amount': 1000.0, 'type': 'DEBIT'}]"
      ]
     },
     "execution_count": 452,
     "metadata": {},
     "output_type": "execute_result"
    }
   ],
   "source": [
    "user_id = 3\n",
    "url_endpoint = f\"{BASE_URL}/api/get_transactions/{user_id}\"\n",
    "\n",
    "r = requests.get(url=url_endpoint, headers=api_key)\n",
    "r.json()"
   ]
  },
  {
   "cell_type": "markdown",
   "metadata": {},
   "source": [
    "### [Optional] A more advanced exercise"
   ]
  },
  {
   "cell_type": "markdown",
   "metadata": {},
   "source": [
    "By now you should have all the tools you need to write your own programmes that leverage the power of APIs and automate tasks.\n",
    "\n",
    "For instance here you should be able to write a simple programme that compute the balance for a given user.\n",
    "\n",
    "For this you will need to:\n",
    "- retrieve all CREDIT transactions for a user\n",
    "- compute the sum of credits\n",
    "- retrieve all DEBIT transactions for a user\n",
    "- compute the sum of debit\n",
    "- compute the balance"
   ]
  },
  {
   "cell_type": "code",
   "execution_count": 464,
   "metadata": {
    "scrolled": true
   },
   "outputs": [
    {
     "name": "stdout",
     "output_type": "stream",
     "text": [
      "my balance: 9700000.0\n",
      "\n",
      "calculate_balance - test passed\n"
     ]
    }
   ],
   "source": [
    "# Add your code below to compute the balance for a given user!\n",
    "\n",
    "\n",
    "import numpy as np\n",
    "\n",
    "# extension activity - replace transaction instances with transaction classs\n",
    "\n",
    "# class BankTransaction:\n",
    "#     def __init__(self, amount, tag):\n",
    "#         self.amount = amount\n",
    "#         self.tag = tag\n",
    "\n",
    "        \n",
    "class AccountLoader():\n",
    "    \n",
    "    def __init__(self):\n",
    "        self.base_url = \"https://europe-west2-kate-dev.cloudfunctions.net/banking\"\n",
    "        with open('data/api_key.json','r') as file:\n",
    "            self.api_key = json.load(file)\n",
    "        \n",
    "        \n",
    "    def get_credit_transactions(self, user_id):\n",
    "        self.user_id = user_id\n",
    "        credit_url = f\"{self.base_url}/api/get_transactions/{self.user_id}?type=CREDIT\"\n",
    "        r = requests.get(credit_url, headers=self.api_key)\n",
    "        \n",
    "        if not r.status_code == 200:\n",
    "            print('bad status code:')\n",
    "            return {'status_code':r.status_code,'content': r.content}\n",
    "        \n",
    "        self.credit_transactions = [t['amount'] for t in json.loads(r.text)]\n",
    "       \n",
    "    \n",
    "    def get_debit_transactions(self, user_id):\n",
    "        self.user_id = user_id\n",
    "        credit_url = f\"{self.base_url}/api/get_transactions/{self.user_id}?type=DEBIT\"\n",
    "        r = requests.get(credit_url, headers=self.api_key)\n",
    "        \n",
    "        if not r.status_code == 200:\n",
    "            print('bad status code:')\n",
    "            return {'status_code':r.status_code,'content': r.content}\n",
    "        \n",
    "        self.debit_transactions = [t['amount'] for t in r.json()]\n",
    "    \n",
    "    def calculate_balance(self, user_id):\n",
    "        if not hasattr(self, 'credit_transactions'):\n",
    "            self.get_credit_transactions(user_id)\n",
    "        \n",
    "        if not hasattr(self, 'debit_transactions'):\n",
    "            self.get_debit_transactions(user_id)\n",
    "        \n",
    "        self.balance = np.subtract(np.sum(self.credit_transactions), np.sum(self.debit_transactions))\n",
    "    \n",
    "    \n",
    "def test_calculate_balance():\n",
    "    cases = [{'user_id':1, 'balance':1000},\n",
    "             {'user_id':3, 'balance':0} \n",
    "            ]\n",
    "    \n",
    "    for case in cases:\n",
    "        loader = AccountLoader()\n",
    "        loader.calculate_balance(case['user_id'])\n",
    "        result = loader.balance\n",
    "\n",
    "        assert case['balance'] == result\n",
    "        \n",
    "    print('\\ncalculate_balance - test passed')\n",
    "\n",
    "user_id = 144\n",
    "    \n",
    "loader = AccountLoader()\n",
    "loader.calculate_balance(user_id)\n",
    "print('my balance:', loader.balance)\n",
    "\n",
    "test_calculate_balance()"
   ]
  },
  {
   "cell_type": "code",
   "execution_count": null,
   "metadata": {},
   "outputs": [],
   "source": []
  }
 ],
 "metadata": {
  "kernelspec": {
   "display_name": "Python 3 (ipykernel)",
   "language": "python",
   "name": "python3"
  },
  "language_info": {
   "codemirror_mode": {
    "name": "ipython",
    "version": 3
   },
   "file_extension": ".py",
   "mimetype": "text/x-python",
   "name": "python",
   "nbconvert_exporter": "python",
   "pygments_lexer": "ipython3",
   "version": "3.10.8"
  }
 },
 "nbformat": 4,
 "nbformat_minor": 2
}
