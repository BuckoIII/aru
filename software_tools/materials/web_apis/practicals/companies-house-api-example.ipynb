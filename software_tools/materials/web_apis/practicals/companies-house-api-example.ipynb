{
 "cells": [
  {
   "cell_type": "markdown",
   "metadata": {},
   "source": [
    "## Companies House API\n",
    "\n",
    "**Documentation:**\n",
    "\n",
    "[Overview](https://developer.companieshouse.gov.uk/api/docs/index/gettingStarted.html#overview)   \n",
    "[Authentication](https://developer.companieshouse.gov.uk/api/docs/index/gettingStarted/apikey_authorisation.html)\n",
    "\n",
    "- uses HTTP basic authentication, but requiring only single **API key** rather than the `usualusername:password` pair of values\n",
    "\n",
    "- we have provided a key for you to use below (but please register for your own if you are to continue using the API in future)"
   ]
  },
  {
   "cell_type": "code",
   "execution_count": null,
   "metadata": {},
   "outputs": [],
   "source": [
    "import json\n",
    "import requests"
   ]
  },
  {
   "cell_type": "code",
   "execution_count": null,
   "metadata": {},
   "outputs": [],
   "source": [
    "key = \"GVhX2aQDL8l1C0t8J2QLOW8aX4JU7byCLc5oAS7D\""
   ]
  },
  {
   "cell_type": "code",
   "execution_count": null,
   "metadata": {},
   "outputs": [],
   "source": [
    "BASE_URL = \"https://api.companieshouse.gov.uk\""
   ]
  },
  {
   "cell_type": "code",
   "execution_count": null,
   "metadata": {},
   "outputs": [],
   "source": [
    "resp = requests.get(\"https://api.companieshouse.gov.uk/search/companies\",\n",
    "            params={\"q\": \"HSBC\"},\n",
    "            headers={\"Authorization\": key})"
   ]
  },
  {
   "cell_type": "markdown",
   "metadata": {},
   "source": [
    "The search for HSBC returns hundreds of results:"
   ]
  },
  {
   "cell_type": "code",
   "execution_count": null,
   "metadata": {},
   "outputs": [],
   "source": [
    "hsbc_data = resp.json()\n",
    "hsbc_data"
   ]
  },
  {
   "cell_type": "markdown",
   "metadata": {},
   "source": [
    "If we know the company number of the specific company we are interested in, we can use that instead:\n",
    "\n",
    "- each company has its own endpoint, with the final part of the URL being the company number"
   ]
  },
  {
   "cell_type": "code",
   "execution_count": null,
   "metadata": {},
   "outputs": [],
   "source": [
    "HSBC_NUMBER = \"06388542\""
   ]
  },
  {
   "cell_type": "code",
   "execution_count": null,
   "metadata": {},
   "outputs": [],
   "source": [
    "hsbc_resp = requests.get(f\"https://api.companieshouse.gov.uk/company/{HSBC_NUMBER}\",\n",
    "            headers={\"Authorization\": key})"
   ]
  },
  {
   "cell_type": "markdown",
   "metadata": {},
   "source": [
    "We can then access the JSON data:"
   ]
  },
  {
   "cell_type": "code",
   "execution_count": null,
   "metadata": {},
   "outputs": [],
   "source": [
    "data = hsbc_resp.json()\n",
    "data"
   ]
  },
  {
   "cell_type": "markdown",
   "metadata": {},
   "source": [
    "... and access specific information of interest:\n",
    "\n",
    "- notice that Python dictionaries also have a `.get()` method"
   ]
  },
  {
   "cell_type": "code",
   "execution_count": null,
   "metadata": {},
   "outputs": [],
   "source": [
    "sic_codes = data.get(\"sic_codes\")\n",
    "sic_codes"
   ]
  },
  {
   "cell_type": "markdown",
   "metadata": {},
   "source": [
    "### Making larger numbers of API calls"
   ]
  },
  {
   "cell_type": "code",
   "execution_count": null,
   "metadata": {},
   "outputs": [],
   "source": [
    "resp = requests.get(f\"https://api.companieshouse.gov.uk/search/companies\",  \n",
    "                    params={\"q\": \"Lloyds\"},                                    \n",
    "                    headers={\"Authorization\": key})"
   ]
  },
  {
   "cell_type": "code",
   "execution_count": null,
   "metadata": {},
   "outputs": [],
   "source": [
    "total = resp.json()['total_results']\n",
    "total"
   ]
  },
  {
   "cell_type": "markdown",
   "metadata": {},
   "source": [
    "Our request for details on companies using `LLoyds` as the search term matches a lot of results!\n",
    "\n",
    "Unfortunately, it does not contain data for all of them:"
   ]
  },
  {
   "cell_type": "code",
   "execution_count": null,
   "metadata": {},
   "outputs": [],
   "source": [
    "lloyds_comps = resp.json()['items']\n",
    "len(lloyds_comps)"
   ]
  },
  {
   "cell_type": "markdown",
   "metadata": {},
   "source": [
    "The [documentation](https://developer.companieshouse.gov.uk/api/docs/search/search.html) provides information on some parameters which may be useful to access all of the records."
   ]
  },
  {
   "cell_type": "code",
   "execution_count": null,
   "metadata": {},
   "outputs": [],
   "source": [
    "resp = requests.get(f\"https://api.companieshouse.gov.uk/search/companies\",  \n",
    "                    params={\"q\": \"Lloyds\",\n",
    "                           \"items_per_page\": 989},                                    \n",
    "                    headers={\"Authorization\": key})"
   ]
  },
  {
   "cell_type": "code",
   "execution_count": null,
   "metadata": {},
   "outputs": [],
   "source": [
    "lloyds_comps = resp.json()['items']\n",
    "len(lloyds_comps)"
   ]
  },
  {
   "cell_type": "markdown",
   "metadata": {
    "slideshow": {
     "slide_type": "slide"
    }
   },
   "source": [
    "It seems that the maximum number of records per page is 100. We would therefore need to use the `start_index` parameter as well if we wanted to collect more records beyond the first 100."
   ]
  },
  {
   "cell_type": "code",
   "execution_count": null,
   "metadata": {},
   "outputs": [],
   "source": [
    "total"
   ]
  },
  {
   "cell_type": "markdown",
   "metadata": {},
   "source": [
    "Let's stick with the first 100, and create a list of the `company_number` from each record:"
   ]
  },
  {
   "cell_type": "code",
   "execution_count": null,
   "metadata": {},
   "outputs": [],
   "source": [
    "numbers = [comp['company_number'] for comp in lloyds_comps]\n",
    "print(numbers)"
   ]
  },
  {
   "cell_type": "markdown",
   "metadata": {},
   "source": [
    "We could then use this list to access the company-specific endpoint for each one, to gather some specific information:"
   ]
  },
  {
   "cell_type": "code",
   "execution_count": null,
   "metadata": {},
   "outputs": [],
   "source": [
    "comp_statuses = []\n",
    "\n",
    "for comp in numbers:\n",
    "    comp_resp = requests.get(f\"https://api.companieshouse.gov.uk/company/{comp}\",\n",
    "            headers={\"Authorization\": key})\n",
    "    status = comp_resp.json()['company_status']\n",
    "    comp_statuses.append(status)"
   ]
  },
  {
   "cell_type": "code",
   "execution_count": null,
   "metadata": {},
   "outputs": [],
   "source": [
    "print(comp_statuses)"
   ]
  },
  {
   "cell_type": "markdown",
   "metadata": {},
   "source": [
    "### API usage limits"
   ]
  },
  {
   "cell_type": "markdown",
   "metadata": {},
   "source": [
    "The owner of an API will typically set limits on the number of requests which can be made in a given time period, for reasons of: \n",
    "\n",
    "- performance\n",
    "- cost\n",
    "- security\n",
    "\n",
    "Therefore when making higher numbers of requests we may need to reduce their frequency."
   ]
  },
  {
   "cell_type": "markdown",
   "metadata": {},
   "source": [
    "The python `time` module (and its `.sleep()` function) can help:"
   ]
  },
  {
   "cell_type": "code",
   "execution_count": null,
   "metadata": {},
   "outputs": [],
   "source": [
    "import time"
   ]
  },
  {
   "cell_type": "code",
   "execution_count": null,
   "metadata": {},
   "outputs": [],
   "source": [
    "print('hello')\n",
    "time.sleep(5)\n",
    "print('hello again')"
   ]
  },
  {
   "cell_type": "code",
   "execution_count": null,
   "metadata": {},
   "outputs": [],
   "source": [
    "def get_type(number):\n",
    "    \n",
    "    comp_resp = requests.get(f\"https://api.companieshouse.gov.uk/company/{comp}\",\n",
    "            headers={\"Authorization\": key})\n",
    "    comp_type = comp_resp.json()['type']\n",
    "    \n",
    "    return comp_type\n",
    "    "
   ]
  },
  {
   "cell_type": "code",
   "execution_count": null,
   "metadata": {},
   "outputs": [],
   "source": [
    "my_companies = ['04280591', '05017245', '04440298', '00212497']"
   ]
  },
  {
   "cell_type": "markdown",
   "metadata": {},
   "source": [
    "A safe option could be to sleep after every request:"
   ]
  },
  {
   "cell_type": "code",
   "execution_count": null,
   "metadata": {},
   "outputs": [],
   "source": [
    "\n",
    "comp_types = []\n",
    "for company in my_companies:\n",
    "    comp_types.append(get_type(company))    \n",
    "    time.sleep(5)"
   ]
  },
  {
   "cell_type": "code",
   "execution_count": null,
   "metadata": {},
   "outputs": [],
   "source": [
    "comp_types"
   ]
  },
  {
   "cell_type": "markdown",
   "metadata": {},
   "source": [
    "If we know the limit, we could sleep after reaching it:"
   ]
  },
  {
   "cell_type": "code",
   "execution_count": null,
   "metadata": {},
   "outputs": [],
   "source": [
    "comp_types = []\n",
    "LIMIT = 600\n",
    "counter = 0\n",
    "\n",
    "for company in my_companies:\n",
    "    comp_types.append(get_type(company))    \n",
    "    counter += 1\n",
    "    \n",
    "    if counter >= LIMIT:\n",
    "        time.sleep(60 * 5)"
   ]
  },
  {
   "cell_type": "code",
   "execution_count": null,
   "metadata": {},
   "outputs": [],
   "source": [
    "comp_types"
   ]
  },
  {
   "cell_type": "markdown",
   "metadata": {},
   "source": [
    "Repeatedly attempting to make requests should be avoided:"
   ]
  },
  {
   "cell_type": "code",
   "execution_count": null,
   "metadata": {},
   "outputs": [],
   "source": [
    "# BAD ONE (can be banned)\n",
    "\n",
    "comp_types = []\n",
    "index = 0\n",
    "\n",
    "# Using while so we can retry the same index multiple times if it fails\n",
    "while index < len(my_companies):\n",
    "    company = my_companies[index]\n",
    "    print(company)\n",
    "    try:\n",
    "        comp_types.append(get_type(company))\n",
    "        index += 1\n",
    "        \n",
    "    except Exception:\n",
    "        time.sleep(5)\n",
    "        \n",
    "        continue"
   ]
  },
  {
   "cell_type": "code",
   "execution_count": null,
   "metadata": {},
   "outputs": [],
   "source": [
    "comp_types"
   ]
  }
 ],
 "metadata": {
  "kernelspec": {
   "display_name": "Python 3",
   "language": "python",
   "name": "python3"
  },
  "language_info": {
   "codemirror_mode": {
    "name": "ipython",
    "version": 3
   },
   "file_extension": ".py",
   "mimetype": "text/x-python",
   "name": "python",
   "nbconvert_exporter": "python",
   "pygments_lexer": "ipython3",
   "version": "3.8.2"
  }
 },
 "nbformat": 4,
 "nbformat_minor": 2
}
