{
 "cells": [
  {
   "cell_type": "markdown",
   "metadata": {},
   "source": [
    "## Web APIs"
   ]
  },
  {
   "cell_type": "markdown",
   "metadata": {},
   "source": [
    "HTTP REST APIs allow us to \n",
    "\n",
    "`GET`\n",
    "`POST`\n",
    "`PUT`\n",
    "`DELETE`\n",
    "\n",
    "data on another system using HTTP **requests**."
   ]
  },
  {
   "cell_type": "markdown",
   "metadata": {},
   "source": [
    "The `requests` package simplifies this process."
   ]
  },
  {
   "cell_type": "code",
   "execution_count": null,
   "metadata": {},
   "outputs": [],
   "source": [
    "import requests"
   ]
  },
  {
   "cell_type": "markdown",
   "metadata": {},
   "source": [
    "The `.get()` method allows us to provide a `url`, `params`, and `auth` details."
   ]
  },
  {
   "cell_type": "code",
   "execution_count": null,
   "metadata": {},
   "outputs": [],
   "source": [
    "r = requests.get('https://api.github.com/search/repositories', \\\n",
    "                 params={'q':'web apis'})"
   ]
  },
  {
   "cell_type": "markdown",
   "metadata": {},
   "source": [
    "`requests` will build the HTTP request and create a `Response` object using the response from the server."
   ]
  },
  {
   "cell_type": "markdown",
   "metadata": {},
   "source": [
    "This object has numerous useful methods, such as `.json()`:"
   ]
  },
  {
   "cell_type": "code",
   "execution_count": null,
   "metadata": {},
   "outputs": [],
   "source": [
    "r.json()"
   ]
  },
  {
   "cell_type": "markdown",
   "metadata": {},
   "source": [
    "We now have a Python dictionary containing the data from the **response body**, which was originally in JSON format."
   ]
  },
  {
   "cell_type": "code",
   "execution_count": null,
   "metadata": {},
   "outputs": [],
   "source": [
    "r.status_code"
   ]
  },
  {
   "cell_type": "markdown",
   "metadata": {},
   "source": [
    "The response **status code** can help us determine what has happened if our request was not successful.\n",
    "\n",
    "`200` or other `2xx` values indicate a successful request.   \n",
    "`4xx` values indicate that there may be an error in our request code.  \n",
    "`5xx` values indicate that the API is not currently available."
   ]
  },
  {
   "cell_type": "markdown",
   "metadata": {},
   "source": [
    "Most public APIs will require **credentials** to be provided, the elements of which may be referred to as:\n",
    "\n",
    "- `key`\n",
    "- `secret`\n",
    "- `token`\n",
    "- `password`\n",
    "- `username`\n",
    "- `app_id`  \n",
    "... etc\n",
    "\n",
    "The documentation for the API will give details; `requests` has functionality to help working with common formats."
   ]
  }
 ],
 "metadata": {
  "kernelspec": {
   "display_name": "Python 3",
   "language": "python",
   "name": "python3"
  },
  "language_info": {
   "codemirror_mode": {
    "name": "ipython",
    "version": 3
   },
   "file_extension": ".py",
   "mimetype": "text/x-python",
   "name": "python",
   "nbconvert_exporter": "python",
   "pygments_lexer": "ipython3",
   "version": "3.7.6"
  }
 },
 "nbformat": 4,
 "nbformat_minor": 4
}
