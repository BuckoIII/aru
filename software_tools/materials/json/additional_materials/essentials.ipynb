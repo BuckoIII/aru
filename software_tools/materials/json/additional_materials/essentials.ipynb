{
 "cells": [
  {
   "cell_type": "markdown",
   "metadata": {},
   "source": [
    "## JSON"
   ]
  },
  {
   "cell_type": "markdown",
   "metadata": {},
   "source": [
    "The `json` module is useful for common JSON operations."
   ]
  },
  {
   "cell_type": "code",
   "execution_count": null,
   "metadata": {},
   "outputs": [],
   "source": [
    "import json"
   ]
  },
  {
   "cell_type": "markdown",
   "metadata": {},
   "source": [
    "`json.loads()` will create a Python dictionary from a string representing a **JSON object**:"
   ]
  },
  {
   "cell_type": "code",
   "execution_count": null,
   "metadata": {},
   "outputs": [],
   "source": [
    "my_details = '{\"name\": \"Raoul\", \"age\": 88}'"
   ]
  },
  {
   "cell_type": "code",
   "execution_count": null,
   "metadata": {},
   "outputs": [],
   "source": [
    "details_dict = json.loads(my_details)\n",
    "details_dict"
   ]
  },
  {
   "cell_type": "code",
   "execution_count": null,
   "metadata": {},
   "outputs": [],
   "source": [
    "cities = '[\"Cambridge\", \"London\", \"Brussels\"]'"
   ]
  },
  {
   "cell_type": "markdown",
   "metadata": {},
   "source": [
    "`json.loads()` will create a Python list from a string representing a **JSON array**:"
   ]
  },
  {
   "cell_type": "code",
   "execution_count": null,
   "metadata": {},
   "outputs": [],
   "source": [
    "json.loads(cities)"
   ]
  },
  {
   "cell_type": "code",
   "execution_count": null,
   "metadata": {},
   "outputs": [],
   "source": [
    "details_dict['name'] = 'Kevin'"
   ]
  },
  {
   "cell_type": "code",
   "execution_count": null,
   "metadata": {},
   "outputs": [],
   "source": [
    "details_dict['age'] = 77"
   ]
  },
  {
   "cell_type": "code",
   "execution_count": null,
   "metadata": {},
   "outputs": [],
   "source": [
    "kevin_cities = ['Cambridge', 'London', 'Paris', 'Kentucky']"
   ]
  },
  {
   "cell_type": "code",
   "execution_count": null,
   "metadata": {},
   "outputs": [],
   "source": [
    "details_dict['cities'] = kevin_cities\n",
    "details_dict['awards'] = None\n",
    "details_dict['champion'] = True"
   ]
  },
  {
   "cell_type": "code",
   "execution_count": null,
   "metadata": {},
   "outputs": [],
   "source": [
    "details_dict"
   ]
  },
  {
   "cell_type": "markdown",
   "metadata": {},
   "source": [
    "`json.dumps()` will create a string representation of the given Python object in JSON format:"
   ]
  },
  {
   "cell_type": "code",
   "execution_count": null,
   "metadata": {},
   "outputs": [],
   "source": [
    "as_json = json.dumps(details_dict)"
   ]
  },
  {
   "cell_type": "code",
   "execution_count": null,
   "metadata": {},
   "outputs": [],
   "source": [
    "print(as_json)"
   ]
  },
  {
   "cell_type": "markdown",
   "metadata": {},
   "source": [
    "- the JSON object looks very similar to the Python dictionary  \n",
    "... but notice that:\n",
    "\n",
    "- the quotation marks have been changed to `\"`doubles`\"` \n",
    "- `true` is lower case \n",
    "- `null` instead of `None`"
   ]
  },
  {
   "cell_type": "markdown",
   "metadata": {},
   "source": [
    "### Reading row-based JSON into pandas"
   ]
  },
  {
   "cell_type": "code",
   "execution_count": null,
   "metadata": {},
   "outputs": [],
   "source": [
    "import pandas as pd\n",
    "json_data = '[                                \\\n",
    "                {\"name\": \"Alice\", \"age\": 30}, \\\n",
    "                {\"name\": \"Bob\", \"age\": 35},   \\\n",
    "                {\"name\": \"Charlie\", \"age\": 8} \\\n",
    "             ]'\n",
    "people_df = pd.read_json(json_data)\n",
    "people_df"
   ]
  },
  {
   "cell_type": "markdown",
   "metadata": {},
   "source": [
    "### Reading column-based JSON into pandas"
   ]
  },
  {
   "cell_type": "code",
   "execution_count": null,
   "metadata": {},
   "outputs": [],
   "source": [
    "import pandas as pd\n",
    "\n",
    "json_data = '{\"age\":{\"0\":30,\"1\":35,\"2\":8},\\\n",
    "              \"name\":{\"0\":\"Alice\",\"1\":\"Bob\",\"2\":\"Charlie\"}}'\n",
    "another_df = pd.read_json(json_data)\n",
    "another_df"
   ]
  },
  {
   "cell_type": "markdown",
   "metadata": {},
   "source": [
    "- pandas `.read_json()` has intepreted the JSON and recognised the common keys in `\"name\"` and `\"age\"`"
   ]
  },
  {
   "cell_type": "markdown",
   "metadata": {},
   "source": [
    "### Writing JSON from a pandas DataFrame"
   ]
  },
  {
   "cell_type": "code",
   "execution_count": null,
   "metadata": {},
   "outputs": [],
   "source": [
    "df_as_json = people_df.to_json()\n",
    "\n",
    "print(df_as_json)"
   ]
  },
  {
   "cell_type": "markdown",
   "metadata": {},
   "source": [
    "- `.to_json()` creates a string in JSON format\n",
    "- notice that the numeric row indexes of the DataFrame (`0`, `1`, `2`) become strings once keys in the JSON"
   ]
  },
  {
   "cell_type": "markdown",
   "metadata": {},
   "source": [
    "### Working With nested JSON in pandas"
   ]
  },
  {
   "cell_type": "code",
   "execution_count": null,
   "metadata": {},
   "outputs": [],
   "source": [
    "nested_json = {\"name\":\"Alice\", \"favouriteBook\": {\"author\": \"Jane Austen\",\"title\":\"Pride and Prejudice\"}}\n",
    "\n",
    "pd.json_normalize(nested_json)"
   ]
  },
  {
   "cell_type": "markdown",
   "metadata": {},
   "source": [
    "- `json_normalize` 'unpacks' the nested JSON objects an creates additional columns in the resulting DataFrame\n",
    "- the columns for the unpacked data have column headings in the format `key.nested_key`"
   ]
  }
 ],
 "metadata": {
  "kernelspec": {
   "display_name": "Python 3",
   "language": "python",
   "name": "python3"
  },
  "language_info": {
   "codemirror_mode": {
    "name": "ipython",
    "version": 3
   },
   "file_extension": ".py",
   "mimetype": "text/x-python",
   "name": "python",
   "nbconvert_exporter": "python",
   "pygments_lexer": "ipython3",
   "version": "3.8.2"
  }
 },
 "nbformat": 4,
 "nbformat_minor": 4
}
