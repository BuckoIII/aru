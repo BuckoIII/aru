{
 "cells": [
  {
   "cell_type": "markdown",
   "metadata": {},
   "source": [
    "## JSON workbook\n",
    "\n",
    "In this workbook we'll explore the JSON data format and the available helper methods in Python and Pandas that will help us deal with JSON strings and files.\n",
    "\n",
    "To recap what JSON is you can always refer to the offical documentation that can be found at https://www.json.org/\n",
    "\n",
    "A quick example JSON looks something like:\n",
    "\n",
    "```\n",
    "{\n",
    "   \"first-name\": \"Jason\",\n",
    "   \"last-name\": \"Bourne\",\n",
    "   \"age\": 32,\n",
    "   \"cities\": [\"London\", \"Beirut\", \"Paris\"],  \n",
    "   \"last-activity\": \"2018-10-115T13:15:33Z\"\n",
    "}\n",
    "```\n"
   ]
  },
  {
   "cell_type": "markdown",
   "metadata": {},
   "source": [
    "### First look at JSON documents\n",
    "\n",
    "To get started, let's look at a more complex JSON file, which we obtained via the Yahoo Weather API ( https://developer.yahoo.com/weather/ )\n",
    "\n",
    "Use the Python built-in `open()` function and `.read()` the `data/weather_forecast.json` file , saving the result into a variable called `weather_forecast_json`:"
   ]
  },
  {
   "cell_type": "code",
   "execution_count": 1,
   "metadata": {},
   "outputs": [
    {
     "name": "stdout",
     "output_type": "stream",
     "text": [
      "{\n",
      " \"query\": {\n",
      "  \"count\": 1,\n",
      "  \"created\": \"2018-10-19T12:39:05Z\",\n",
      "  \"lang\": \"en-US\",\n",
      "  \"results\": {\n",
      "   \"channel\": {\n",
      "    \"units\": {\n",
      "     \"distance\": \"mi\",\n",
      "     \"pressure\": \"in\",\n",
      "     \"speed\": \"mph\",\n",
      "     \"temperature\": \"F\"\n",
      "    },\n",
      "    \"title\": \"Yahoo! Weather - Nome, AK, US\",\n",
      "    \"link\": \"http://us.rd.yahoo.com/dailynews/rss/weather/Country__Country/*https://weather.yahoo.com/country/state/city-2460286/\",\n",
      "    \"description\": \"Yahoo! Weather for Nome, AK, US\",\n",
      "    \"language\": \"en-us\",\n",
      "    \"lastBuildDate\": \"Fri, 19 Oct 2018 04:39 AM AKDT\",\n",
      "    \"ttl\": \"60\",\n",
      "    \"location\": {\n",
      "     \"city\": \"Nome\",\n",
      "     \"country\": \"United States\",\n",
      "     \"region\": \" AK\"\n",
      "    },\n",
      "    \"wind\": {\n",
      "     \"chill\": \"32\",\n",
      "     \"direction\": \"45\",\n",
      "     \"speed\": \"15\"\n",
      "    },\n",
      "    \"atmosphere\": {\n",
      "     \"humidity\": \"85\",\n",
      "     \"pressure\": \"1004.0\",\n",
      "     \"rising\": \"0\",\n",
      "     \"visibility\": \"16.1\"\n",
      "    },\n",
      "    \"astronomy\": {\n",
      "     \"sunrise\": \"10:5 am\",\n",
      "     \"sunset\": \"7:26 pm\"\n",
      "    },\n",
      "    \"image\": {\n",
      "     \"title\": \"Yahoo! Weather\",\n",
      "     \"width\": \"142\",\n",
      "     \"height\": \"18\",\n",
      "     \"link\": \"http://weather.yahoo.com\",\n",
      "     \"url\": \"http://l.yimg.com/a/i/brand/purplelogo//uh/us/news-wea.gif\"\n",
      "    },\n",
      "    \"item\": {\n",
      "     \"title\": \"Conditions for Nome, AK, US at 03:00 AM AKDT\",\n",
      "     \"lat\": \"64.499474\",\n",
      "     \"long\": \"-165.405792\",\n",
      "     \"link\": \"http://us.rd.yahoo.com/dailynews/rss/weather/Country__Country/*https://weather.yahoo.com/country/state/city-2460286/\",\n",
      "     \"pubDate\": \"Fri, 19 Oct 2018 03:00 AM AKDT\",\n",
      "     \"condition\": {\n",
      "      \"code\": \"27\",\n",
      "      \"date\": \"Fri, 19 Oct 2018 03:00 AM AKDT\",\n",
      "      \"temp\": \"38\",\n",
      "      \"text\": \"Mostly Cloudy\"\n",
      "     },\n",
      "     \"forecast\": [\n",
      "      {\n",
      "       \"code\": \"30\",\n",
      "       \"date\": \"19 Oct 2018\",\n",
      "       \"day\": \"Fri\",\n",
      "       \"high\": \"44\",\n",
      "       \"low\": \"36\",\n",
      "       \"text\": \"Partly Cloudy\"\n",
      "      },\n",
      "      {\n",
      "       \"code\": \"34\",\n",
      "       \"date\": \"20 Oct 2018\",\n",
      "       \"day\": \"Sat\",\n",
      "       \"high\": \"39\",\n",
      "       \"low\": \"32\",\n",
      "       \"text\": \"Mostly Sunny\"\n",
      "      },\n",
      "      {\n",
      "       \"code\": \"34\",\n",
      "       \"date\": \"21 Oct 2018\",\n",
      "       \"day\": \"Sun\",\n",
      "       \"high\": \"37\",\n",
      "       \"low\": \"31\",\n",
      "       \"text\": \"Mostly Sunny\"\n",
      "      },\n",
      "      {\n",
      "       \"code\": \"30\",\n",
      "       \"date\": \"22 Oct 2018\",\n",
      "       \"day\": \"Mon\",\n",
      "       \"high\": \"37\",\n",
      "       \"low\": \"32\",\n",
      "       \"text\": \"Partly Cloudy\"\n",
      "      },\n",
      "      {\n",
      "       \"code\": \"30\",\n",
      "       \"date\": \"23 Oct 2018\",\n",
      "       \"day\": \"Tue\",\n",
      "       \"high\": \"39\",\n",
      "       \"low\": \"34\",\n",
      "       \"text\": \"Partly Cloudy\"\n",
      "      },\n",
      "      {\n",
      "       \"code\": \"28\",\n",
      "       \"date\": \"24 Oct 2018\",\n",
      "       \"day\": \"Wed\",\n",
      "       \"high\": \"40\",\n",
      "       \"low\": \"35\",\n",
      "       \"text\": \"Mostly Cloudy\"\n",
      "      },\n",
      "      {\n",
      "       \"code\": \"28\",\n",
      "       \"date\": \"25 Oct 2018\",\n",
      "       \"day\": \"Thu\",\n",
      "       \"high\": \"39\",\n",
      "       \"low\": \"35\",\n",
      "       \"text\": \"Mostly Cloudy\"\n",
      "      },\n",
      "      {\n",
      "       \"code\": \"28\",\n",
      "       \"date\": \"26 Oct 2018\",\n",
      "       \"day\": \"Fri\",\n",
      "       \"high\": \"36\",\n",
      "       \"low\": \"34\",\n",
      "       \"text\": \"Mostly Cloudy\"\n",
      "      },\n",
      "      {\n",
      "       \"code\": \"30\",\n",
      "       \"date\": \"27 Oct 2018\",\n",
      "       \"day\": \"Sat\",\n",
      "       \"high\": \"35\",\n",
      "       \"low\": \"28\",\n",
      "       \"text\": \"Partly Cloudy\"\n",
      "      },\n",
      "      {\n",
      "       \"code\": \"30\",\n",
      "       \"date\": \"28 Oct 2018\",\n",
      "       \"day\": \"Sun\",\n",
      "       \"high\": \"29\",\n",
      "       \"low\": \"26\",\n",
      "       \"text\": \"Partly Cloudy\"\n",
      "      }\n",
      "     ],\n",
      "     \"description\": \"<![CDATA[<img src=\\\"http://l.yimg.com/a/i/us/we/52/27.gif\\\"/>\\n<BR />\\n<b>Current Conditions:</b>\\n<BR />Mostly Cloudy\\n<BR />\\n<BR />\\n<b>Forecast:</b>\\n<BR /> Fri - Partly Cloudy. High: 44Low: 36\\n<BR /> Sat - Mostly Sunny. High: 39Low: 32\\n<BR /> Sun - Mostly Sunny. High: 37Low: 31\\n<BR /> Mon - Partly Cloudy. High: 37Low: 32\\n<BR /> Tue - Partly Cloudy. High: 39Low: 34\\n<BR />\\n<BR />\\n<a href=\\\"http://us.rd.yahoo.com/dailynews/rss/weather/Country__Country/*https://weather.yahoo.com/country/state/city-2460286/\\\">Full Forecast at Yahoo! Weather</a>\\n<BR />\\n<BR />\\n<BR />\\n]]>\",\n",
      "     \"guid\": {\n",
      "      \"isPermaLink\": \"false\"\n",
      "     }\n",
      "    }\n",
      "   }\n",
      "  }\n",
      " }\n",
      "}\n"
     ]
    }
   ],
   "source": [
    "with open('data/weather_forecast.json', 'r') as f:\n",
    "  weather_forecast_json = f.read()\n",
    "\n",
    "print(weather_forecast_json)\n"
   ]
  },
  {
   "cell_type": "markdown",
   "metadata": {},
   "source": [
    "`print()` the contents of `weather_forecast_json` and look at the structure:"
   ]
  },
  {
   "cell_type": "code",
   "execution_count": 2,
   "metadata": {},
   "outputs": [
    {
     "name": "stdout",
     "output_type": "stream",
     "text": [
      "{\n",
      " \"query\": {\n",
      "  \"count\": 1,\n",
      "  \"created\": \"2018-10-19T12:39:05Z\",\n",
      "  \"lang\": \"en-US\",\n",
      "  \"results\": {\n",
      "   \"channel\": {\n",
      "    \"units\": {\n",
      "     \"distance\": \"mi\",\n",
      "     \"pressure\": \"in\",\n",
      "     \"speed\": \"mph\",\n",
      "     \"temperature\": \"F\"\n",
      "    },\n",
      "    \"title\": \"Yahoo! Weather - Nome, AK, US\",\n",
      "    \"link\": \"http://us.rd.yahoo.com/dailynews/rss/weather/Country__Country/*https://weather.yahoo.com/country/state/city-2460286/\",\n",
      "    \"description\": \"Yahoo! Weather for Nome, AK, US\",\n",
      "    \"language\": \"en-us\",\n",
      "    \"lastBuildDate\": \"Fri, 19 Oct 2018 04:39 AM AKDT\",\n",
      "    \"ttl\": \"60\",\n",
      "    \"location\": {\n",
      "     \"city\": \"Nome\",\n",
      "     \"country\": \"United States\",\n",
      "     \"region\": \" AK\"\n",
      "    },\n",
      "    \"wind\": {\n",
      "     \"chill\": \"32\",\n",
      "     \"direction\": \"45\",\n",
      "     \"speed\": \"15\"\n",
      "    },\n",
      "    \"atmosphere\": {\n",
      "     \"humidity\": \"85\",\n",
      "     \"pressure\": \"1004.0\",\n",
      "     \"rising\": \"0\",\n",
      "     \"visibility\": \"16.1\"\n",
      "    },\n",
      "    \"astronomy\": {\n",
      "     \"sunrise\": \"10:5 am\",\n",
      "     \"sunset\": \"7:26 pm\"\n",
      "    },\n",
      "    \"image\": {\n",
      "     \"title\": \"Yahoo! Weather\",\n",
      "     \"width\": \"142\",\n",
      "     \"height\": \"18\",\n",
      "     \"link\": \"http://weather.yahoo.com\",\n",
      "     \"url\": \"http://l.yimg.com/a/i/brand/purplelogo//uh/us/news-wea.gif\"\n",
      "    },\n",
      "    \"item\": {\n",
      "     \"title\": \"Conditions for Nome, AK, US at 03:00 AM AKDT\",\n",
      "     \"lat\": \"64.499474\",\n",
      "     \"long\": \"-165.405792\",\n",
      "     \"link\": \"http://us.rd.yahoo.com/dailynews/rss/weather/Country__Country/*https://weather.yahoo.com/country/state/city-2460286/\",\n",
      "     \"pubDate\": \"Fri, 19 Oct 2018 03:00 AM AKDT\",\n",
      "     \"condition\": {\n",
      "      \"code\": \"27\",\n",
      "      \"date\": \"Fri, 19 Oct 2018 03:00 AM AKDT\",\n",
      "      \"temp\": \"38\",\n",
      "      \"text\": \"Mostly Cloudy\"\n",
      "     },\n",
      "     \"forecast\": [\n",
      "      {\n",
      "       \"code\": \"30\",\n",
      "       \"date\": \"19 Oct 2018\",\n",
      "       \"day\": \"Fri\",\n",
      "       \"high\": \"44\",\n",
      "       \"low\": \"36\",\n",
      "       \"text\": \"Partly Cloudy\"\n",
      "      },\n",
      "      {\n",
      "       \"code\": \"34\",\n",
      "       \"date\": \"20 Oct 2018\",\n",
      "       \"day\": \"Sat\",\n",
      "       \"high\": \"39\",\n",
      "       \"low\": \"32\",\n",
      "       \"text\": \"Mostly Sunny\"\n",
      "      },\n",
      "      {\n",
      "       \"code\": \"34\",\n",
      "       \"date\": \"21 Oct 2018\",\n",
      "       \"day\": \"Sun\",\n",
      "       \"high\": \"37\",\n",
      "       \"low\": \"31\",\n",
      "       \"text\": \"Mostly Sunny\"\n",
      "      },\n",
      "      {\n",
      "       \"code\": \"30\",\n",
      "       \"date\": \"22 Oct 2018\",\n",
      "       \"day\": \"Mon\",\n",
      "       \"high\": \"37\",\n",
      "       \"low\": \"32\",\n",
      "       \"text\": \"Partly Cloudy\"\n",
      "      },\n",
      "      {\n",
      "       \"code\": \"30\",\n",
      "       \"date\": \"23 Oct 2018\",\n",
      "       \"day\": \"Tue\",\n",
      "       \"high\": \"39\",\n",
      "       \"low\": \"34\",\n",
      "       \"text\": \"Partly Cloudy\"\n",
      "      },\n",
      "      {\n",
      "       \"code\": \"28\",\n",
      "       \"date\": \"24 Oct 2018\",\n",
      "       \"day\": \"Wed\",\n",
      "       \"high\": \"40\",\n",
      "       \"low\": \"35\",\n",
      "       \"text\": \"Mostly Cloudy\"\n",
      "      },\n",
      "      {\n",
      "       \"code\": \"28\",\n",
      "       \"date\": \"25 Oct 2018\",\n",
      "       \"day\": \"Thu\",\n",
      "       \"high\": \"39\",\n",
      "       \"low\": \"35\",\n",
      "       \"text\": \"Mostly Cloudy\"\n",
      "      },\n",
      "      {\n",
      "       \"code\": \"28\",\n",
      "       \"date\": \"26 Oct 2018\",\n",
      "       \"day\": \"Fri\",\n",
      "       \"high\": \"36\",\n",
      "       \"low\": \"34\",\n",
      "       \"text\": \"Mostly Cloudy\"\n",
      "      },\n",
      "      {\n",
      "       \"code\": \"30\",\n",
      "       \"date\": \"27 Oct 2018\",\n",
      "       \"day\": \"Sat\",\n",
      "       \"high\": \"35\",\n",
      "       \"low\": \"28\",\n",
      "       \"text\": \"Partly Cloudy\"\n",
      "      },\n",
      "      {\n",
      "       \"code\": \"30\",\n",
      "       \"date\": \"28 Oct 2018\",\n",
      "       \"day\": \"Sun\",\n",
      "       \"high\": \"29\",\n",
      "       \"low\": \"26\",\n",
      "       \"text\": \"Partly Cloudy\"\n",
      "      }\n",
      "     ],\n",
      "     \"description\": \"<![CDATA[<img src=\\\"http://l.yimg.com/a/i/us/we/52/27.gif\\\"/>\\n<BR />\\n<b>Current Conditions:</b>\\n<BR />Mostly Cloudy\\n<BR />\\n<BR />\\n<b>Forecast:</b>\\n<BR /> Fri - Partly Cloudy. High: 44Low: 36\\n<BR /> Sat - Mostly Sunny. High: 39Low: 32\\n<BR /> Sun - Mostly Sunny. High: 37Low: 31\\n<BR /> Mon - Partly Cloudy. High: 37Low: 32\\n<BR /> Tue - Partly Cloudy. High: 39Low: 34\\n<BR />\\n<BR />\\n<a href=\\\"http://us.rd.yahoo.com/dailynews/rss/weather/Country__Country/*https://weather.yahoo.com/country/state/city-2460286/\\\">Full Forecast at Yahoo! Weather</a>\\n<BR />\\n<BR />\\n<BR />\\n]]>\",\n",
      "     \"guid\": {\n",
      "      \"isPermaLink\": \"false\"\n",
      "     }\n",
      "    }\n",
      "   }\n",
      "  }\n",
      " }\n",
      "}\n"
     ]
    }
   ],
   "source": [
    "print(weather_forecast_json)"
   ]
  },
  {
   "cell_type": "markdown",
   "metadata": {},
   "source": [
    "### Getting attributes out of a JSON document\n",
    "\n",
    "Look at the documentation for the Python JSON module ( https://docs.python.org/3/library/json.html ).\n",
    "\n",
    "`import`the `json` module, then access the temperature unit and assign it to `temperature_unit`:"
   ]
  },
  {
   "cell_type": "code",
   "execution_count": 3,
   "metadata": {},
   "outputs": [],
   "source": [
    "import json\n",
    "\n",
    "weather_forecast = json.loads(weather_forecast_json)\n",
    "temperature_unit = weather_forecast['query']['results']['channel']['units']['temperature']\n"
   ]
  },
  {
   "cell_type": "code",
   "execution_count": 4,
   "metadata": {},
   "outputs": [
    {
     "name": "stdout",
     "output_type": "stream",
     "text": [
      "F\n"
     ]
    }
   ],
   "source": [
    "print(temperature_unit)"
   ]
  },
  {
   "cell_type": "markdown",
   "metadata": {},
   "source": [
    "### Getting more complex outputs from a JSON document\n",
    "\n",
    "Now let's do something more interesting! We would like to see all of the `text` values from each forecast as a list of strings.\n",
    "\n",
    "Our expected output is\n",
    "```\n",
    "['Partly Cloudy', 'Mostly Sunny', 'Mostly Sunny', 'Partly Cloudy', 'Partly Cloudy', 'Mostly Cloudy', 'Mostly Cloudy', 'Mostly Cloudy', 'Partly Cloudy', 'Partly Cloudy']\n",
    "```"
   ]
  },
  {
   "cell_type": "code",
   "execution_count": 5,
   "metadata": {},
   "outputs": [
    {
     "name": "stdout",
     "output_type": "stream",
     "text": [
      "['Partly Cloudy', 'Mostly Sunny', 'Mostly Sunny', 'Partly Cloudy', 'Partly Cloudy', 'Mostly Cloudy', 'Mostly Cloudy', 'Mostly Cloudy', 'Partly Cloudy', 'Partly Cloudy']\n"
     ]
    }
   ],
   "source": [
    "forecasts = weather_forecast['query']['results']['channel']['item']['forecast']\n",
    "text_list = [fc['text'] for fc in forecasts]\n",
    "print(text_list)\n"
   ]
  },
  {
   "cell_type": "markdown",
   "metadata": {},
   "source": [
    "### Writing JSON documents"
   ]
  },
  {
   "cell_type": "markdown",
   "metadata": {},
   "source": [
    "Let's assume we'd like to send a system a JSON response, which looks like this:\n",
    "```\n",
    "{\n",
    "    'paymentid': '35dfc21c-35b7-4459-a65c-284fcb03d57a',\n",
    "    'type': 'p2p',\n",
    "    'amount': 45000.0,\n",
    "    'currency': 'GBP',\n",
    "    'sender': 'batman@waynecorp.com',\n",
    "    'beneficiary': 'catwoman@gmail.com'\n",
    "}\n",
    "```\n",
    "* create the JSON document _without_ using string manipulations, or writing the whole JSON document as one string\n",
    "* print out the JSON document   \n",
    "\n",
    "_Hint: you can use a simple Python `dict` and the `.dumps()` method from the `json` module_"
   ]
  },
  {
   "cell_type": "code",
   "execution_count": 21,
   "metadata": {},
   "outputs": [
    {
     "name": "stdout",
     "output_type": "stream",
     "text": [
      "The type of our pre-dump document is:  <class 'dict'>\n",
      "The type of our document after conversion is <class 'str'>\n",
      "{\n",
      "  \"amount\": 45000.0,\n",
      "  \"beneficiary\": \"catwoman@gmail.com\",\n",
      "  \"currency\": \"GBP\",\n",
      "  \"paymentid\": \"35dfc21c-35b7-4459-a65c-284fcb03d57a\",\n",
      "  \"sender\": \"batman@waynecorp.com\",\n",
      "  \"type\": \"p2p\"\n",
      "}\n"
     ]
    }
   ],
   "source": [
    "payment_dict = {'paymentid': '35dfc21c-35b7-4459-a65c-284fcb03d57a', \n",
    "  'type': 'p2p', \n",
    "  'amount': 45000.0,\n",
    "  'currency': 'GBP',\n",
    "  'sender': 'batman@waynecorp.com',\n",
    "  'beneficiary': 'catwoman@gmail.com'}\n",
    "\n",
    "print('The type of our pre-dump document is: ', type(payment_dict))\n",
    "\n",
    "# indent parameter makes it easier to read dumped json\n",
    "# also sorts keys\n",
    "payment_json = json.dumps(payment_dict, indent=2, sort_keys=True)\n",
    "\n",
    "print('The type of our document after conversion is', type(payment_json))\n",
    "\n",
    "print(payment_json)\n"
   ]
  },
  {
   "cell_type": "markdown",
   "metadata": {},
   "source": [
    "## Working with JSON using `pandas`"
   ]
  },
  {
   "cell_type": "markdown",
   "metadata": {},
   "source": [
    "Pandas simplifies working with JSON documents. We'll be looking at 2 common uses cases to demonstrate that."
   ]
  },
  {
   "cell_type": "markdown",
   "metadata": {},
   "source": [
    "### Exercise: Loading a pure JSON dataset\n",
    "\n",
    "In `data/population2010.json` you'll find a dataset in pure JSON format.\n",
    "* Open it up with your text-editor-of-choice (or Jupyter) and examine the format\n",
    "* Use the pandas `.read_json()` method (see [documentation](https://pandas.pydata.org/pandas-docs/stable/generated/pandas.read_json.html)) to read the contents into a DataFrame called `population_2010_df`\n",
    "* Print the `.shape` and `.head()` of the DataFrame"
   ]
  },
  {
   "cell_type": "code",
   "execution_count": 7,
   "metadata": {},
   "outputs": [
    {
     "name": "stdout",
     "output_type": "stream",
     "text": [
      "Shape:  (101, 6)\n"
     ]
    },
    {
     "data": {
      "text/html": [
       "<div>\n",
       "<style scoped>\n",
       "    .dataframe tbody tr th:only-of-type {\n",
       "        vertical-align: middle;\n",
       "    }\n",
       "\n",
       "    .dataframe tbody tr th {\n",
       "        vertical-align: top;\n",
       "    }\n",
       "\n",
       "    .dataframe thead th {\n",
       "        text-align: right;\n",
       "    }\n",
       "</style>\n",
       "<table border=\"1\" class=\"dataframe\">\n",
       "  <thead>\n",
       "    <tr style=\"text-align: right;\">\n",
       "      <th></th>\n",
       "      <th>females</th>\n",
       "      <th>country</th>\n",
       "      <th>age</th>\n",
       "      <th>males</th>\n",
       "      <th>year</th>\n",
       "      <th>total</th>\n",
       "    </tr>\n",
       "  </thead>\n",
       "  <tbody>\n",
       "    <tr>\n",
       "      <th>0</th>\n",
       "      <td>1966000</td>\n",
       "      <td>United States</td>\n",
       "      <td>0</td>\n",
       "      <td>2054000</td>\n",
       "      <td>2010</td>\n",
       "      <td>4019000</td>\n",
       "    </tr>\n",
       "    <tr>\n",
       "      <th>1</th>\n",
       "      <td>1973000</td>\n",
       "      <td>United States</td>\n",
       "      <td>1</td>\n",
       "      <td>2056000</td>\n",
       "      <td>2010</td>\n",
       "      <td>4030000</td>\n",
       "    </tr>\n",
       "    <tr>\n",
       "      <th>2</th>\n",
       "      <td>1979000</td>\n",
       "      <td>United States</td>\n",
       "      <td>2</td>\n",
       "      <td>2059000</td>\n",
       "      <td>2010</td>\n",
       "      <td>4038000</td>\n",
       "    </tr>\n",
       "    <tr>\n",
       "      <th>3</th>\n",
       "      <td>1983000</td>\n",
       "      <td>United States</td>\n",
       "      <td>3</td>\n",
       "      <td>2061000</td>\n",
       "      <td>2010</td>\n",
       "      <td>4043000</td>\n",
       "    </tr>\n",
       "    <tr>\n",
       "      <th>4</th>\n",
       "      <td>1985000</td>\n",
       "      <td>United States</td>\n",
       "      <td>4</td>\n",
       "      <td>2063000</td>\n",
       "      <td>2010</td>\n",
       "      <td>4048000</td>\n",
       "    </tr>\n",
       "  </tbody>\n",
       "</table>\n",
       "</div>"
      ],
      "text/plain": [
       "   females        country  age    males  year    total\n",
       "0  1966000  United States    0  2054000  2010  4019000\n",
       "1  1973000  United States    1  2056000  2010  4030000\n",
       "2  1979000  United States    2  2059000  2010  4038000\n",
       "3  1983000  United States    3  2061000  2010  4043000\n",
       "4  1985000  United States    4  2063000  2010  4048000"
      ]
     },
     "execution_count": 7,
     "metadata": {},
     "output_type": "execute_result"
    }
   ],
   "source": [
    "import pandas as pd\n",
    "population_2010_df = pd.read_json('data/population2010.json')\n",
    "print('Shape: ', population_2010_df.shape)\n",
    "population_2010_df.head()\n"
   ]
  },
  {
   "cell_type": "markdown",
   "metadata": {},
   "source": [
    "### Saving a pure JSON dataset\n",
    "\n",
    "The data folder (as you have probably seen) contains multiple files with a similar name:\n",
    "* `population1970.json`\n",
    "* `population1980.json`\n",
    "* `population1990.json`\n",
    "* `population2000.json`\n",
    "* `population2010.json`\n",
    "\n",
    "We would like to unify these datasets with pandas. To do that, you'll need to \n",
    "* load all of these files into separate DataFrames\n",
    "* combine them (find the right pandas method to do that!)\n",
    "\n",
    "\n",
    "Then, use the pandas `.to_json()` method with the parameter `orient='records'` to save the combined DataFrame to a file.\n",
    "* open the resulting text file using your text editor and examine the results"
   ]
  },
  {
   "cell_type": "code",
   "execution_count": 8,
   "metadata": {},
   "outputs": [],
   "source": [
    "years = ['1970','1980','1990','2000','2010']\n",
    "\n",
    "#text_list = [fc['text'] for fc in forecasts]\n",
    "\n",
    "dataframes = [pd.read_json(f'data/population{year}.json') for year in years]\n",
    "combined = pd.concat(dataframes)\n",
    "\n",
    "with open(\"population_combined.json\", \"w\") as text_file:\n",
    "    text_file.write(combined.to_json(orient='records'))\n"
   ]
  },
  {
   "cell_type": "markdown",
   "metadata": {},
   "source": [
    "### [Optional] Dealing with CSV/JSON mixed datasets\n",
    "\n",
    "In `data/kickstarter_sample.csv` you'll find the first 100 rows of a dataset from Kickstarter.  \n",
    "\n",
    "This particular dataset is a combination of CSV and JSON formats, where the dataset itself is CSV, but a few columns have JSON documents as values."
   ]
  },
  {
   "cell_type": "code",
   "execution_count": null,
   "metadata": {},
   "outputs": [],
   "source": [
    "ks = pd.read_csv('data/kickstarter_sample.csv')\n",
    "ks.head()"
   ]
  },
  {
   "cell_type": "markdown",
   "metadata": {},
   "source": [
    "Remember that we can use `json_normalize` ([documentation](https://pandas.pydata.org/pandas-docs/stable/generated/pandas.io.json.json_normalize.html)) from pandas to flatten nested JSON structures.\n",
    "\n",
    "\n",
    "\n",
    "Here are a couple of examples:"
   ]
  },
  {
   "cell_type": "code",
   "execution_count": null,
   "metadata": {},
   "outputs": [],
   "source": [
    "data = '{\"city\": \"London\", \"people\": [{\"name\": \"Marcel\"}, {\"name\": \"John\"}]}'\n",
    "d = json.loads(data)\n",
    "pd.json_normalize(d, \"people\",  meta=[\"city\"])\n"
   ]
  },
  {
   "cell_type": "markdown",
   "metadata": {},
   "source": [
    "*__If you get an error__, it may be because you have an earlier version of pandas installed.*\n",
    "\n",
    "Either update pandas:\n",
    "`!conda update pandas -y`\n",
    "\n",
    "Or first execute:\n",
    "`from pandas.io.json import json_normalize` \n",
    "\n"
   ]
  },
  {
   "cell_type": "code",
   "execution_count": null,
   "metadata": {},
   "outputs": [],
   "source": [
    "sample_location = '{\"country\":\"US\",\"urls\":{\"web\":{\"discover\":\\\n",
    "\"https://www.kickstarter.com/discover/places/raleigh-nc\",\"location\":\\\n",
    "\"https://www.kickstarter.com/locations/raleigh-nc\"},\"api\":\\\n",
    "{\"nearby_projects\":\"https://api.kickstarter.com/v1/discover?\\\n",
    "signature=1500237670.62036dae574e222e5bd17f9b995c9865f2834bc7&woe_id=2478307\"}},\\\n",
    "\"name\":\"Raleigh\",\"displayable_name\":\"Raleigh, NC\",\"short_name\":\"Raleigh, NC\",\\\n",
    "\"id\":2478307,\"state\":\"NC\",\"type\":\"Town\",\"is_root\":false,\"slug\":\"raleigh-nc\"}'\n",
    "\n",
    "\n",
    "pd.json_normalize(json.loads(sample_location))"
   ]
  },
  {
   "cell_type": "markdown",
   "metadata": {},
   "source": [
    "Unfortunately this method does not work on a DataFrame, only on a Python dictionary or list of dictionaries.\n",
    "\n",
    "\n",
    "Try using `json_normalize` to normalize the `photo` JSON column of the Kickstarter DataFrame, and extend the DataFrame by adding the new columns.\n",
    "\n",
    "Hints:\n",
    "* a Dataframe column of JSON strings can easily be converted to a list of dicts\n",
    "* extra columns can always be added to a DataFrame if the number of rows match"
   ]
  },
  {
   "cell_type": "code",
   "execution_count": null,
   "metadata": {},
   "outputs": [],
   "source": [
    "dicts = []    \n",
    "for entry in ks['photo']:\n",
    "        \n",
    "    dc = json.loads(entry)\n",
    "    dicts.append(dc)\n",
    "        \n",
    "cols = pd.json_normalize(dicts)\n",
    "\n",
    "ks = pd.concat([ks, cols], axis=1)\n",
    "\n"
   ]
  },
  {
   "cell_type": "code",
   "execution_count": null,
   "metadata": {},
   "outputs": [],
   "source": [
    "ks"
   ]
  },
  {
   "cell_type": "markdown",
   "metadata": {},
   "source": [
    "### [Optional] Validating JSON Documents\n",
    "\n",
    "As a last activity we'll write a simple schema validation for the document we have started with:\n",
    "\n",
    "```\n",
    "{\n",
    "   \"first-name\": \"Jason\",\n",
    "   \"last-name\": \"Bourne\",\n",
    "   \"age\": 32,\n",
    "   \"cities\": [\"London\", \"Beirut\", \"Paris\"],  \n",
    "   \"last-activity\": \"2018-10-115T13:15:33Z\"\n",
    "}\n",
    "```\n",
    "\n",
    "Write a schema that successfully validates the above message, so the below snippet can run without an error.\n",
    "\n",
    "Useful resources to consider:\n",
    "* http://json-schema.org/\n",
    "* https://pypi.org/project/jsonschema/ "
   ]
  },
  {
   "cell_type": "code",
   "execution_count": 17,
   "metadata": {},
   "outputs": [
    {
     "ename": "AttributeError",
     "evalue": "'str' object has no attribute 'check_schema'",
     "output_type": "error",
     "traceback": [
      "\u001b[0;31m---------------------------------------------------------------------------\u001b[0m",
      "\u001b[0;31mAttributeError\u001b[0m                            Traceback (most recent call last)",
      "Cell \u001b[0;32mIn[17], line 25\u001b[0m\n\u001b[1;32m     13\u001b[0m schema \u001b[38;5;241m=\u001b[39m {\n\u001b[1;32m     14\u001b[0m     \u001b[38;5;124m\"\u001b[39m\u001b[38;5;124mtype\u001b[39m\u001b[38;5;124m\"\u001b[39m : \u001b[38;5;124m\"\u001b[39m\u001b[38;5;124mobject\u001b[39m\u001b[38;5;124m\"\u001b[39m,\n\u001b[1;32m     15\u001b[0m     \u001b[38;5;124m\"\u001b[39m\u001b[38;5;124mproperties\u001b[39m\u001b[38;5;124m\"\u001b[39m : {\n\u001b[0;32m   (...)\u001b[0m\n\u001b[1;32m     21\u001b[0m }\n\u001b[1;32m     22\u001b[0m }\n\u001b[1;32m     24\u001b[0m \u001b[38;5;28;01mfrom\u001b[39;00m \u001b[38;5;21;01mjsonschema\u001b[39;00m \u001b[38;5;28;01mimport\u001b[39;00m validate\n\u001b[0;32m---> 25\u001b[0m \u001b[43mvalidate\u001b[49m\u001b[43m(\u001b[49m\u001b[43mjason_bourne\u001b[49m\u001b[43m,\u001b[49m\u001b[43m \u001b[49m\u001b[43mschema\u001b[49m\u001b[43m,\u001b[49m\u001b[43m \u001b[49m\u001b[38;5;28;43mcls\u001b[39;49m\u001b[38;5;241;43m=\u001b[39;49m\u001b[38;5;124;43m'\u001b[39;49m\u001b[38;5;124;43mValidator\u001b[39;49m\u001b[38;5;124;43m'\u001b[39;49m\u001b[43m)\u001b[49m\n",
      "File \u001b[0;32m~/aru/software_tools/venv/lib/python3.10/site-packages/jsonschema/validators.py:1117\u001b[0m, in \u001b[0;36mvalidate\u001b[0;34m(instance, schema, cls, *args, **kwargs)\u001b[0m\n\u001b[1;32m   1114\u001b[0m \u001b[38;5;28;01mif\u001b[39;00m \u001b[38;5;28mcls\u001b[39m \u001b[38;5;129;01mis\u001b[39;00m \u001b[38;5;28;01mNone\u001b[39;00m:\n\u001b[1;32m   1115\u001b[0m     \u001b[38;5;28mcls\u001b[39m \u001b[38;5;241m=\u001b[39m validator_for(schema)\n\u001b[0;32m-> 1117\u001b[0m \u001b[38;5;28;43mcls\u001b[39;49m\u001b[38;5;241;43m.\u001b[39;49m\u001b[43mcheck_schema\u001b[49m(schema)\n\u001b[1;32m   1118\u001b[0m validator \u001b[38;5;241m=\u001b[39m \u001b[38;5;28mcls\u001b[39m(schema, \u001b[38;5;241m*\u001b[39margs, \u001b[38;5;241m*\u001b[39m\u001b[38;5;241m*\u001b[39mkwargs)\n\u001b[1;32m   1119\u001b[0m error \u001b[38;5;241m=\u001b[39m exceptions\u001b[38;5;241m.\u001b[39mbest_match(validator\u001b[38;5;241m.\u001b[39miter_errors(instance))\n",
      "\u001b[0;31mAttributeError\u001b[0m: 'str' object has no attribute 'check_schema'"
     ]
    }
   ],
   "source": [
    "jason_bourne = json.loads('\\\n",
    "{\\\n",
    "   \"first-name\": \"Jason\",\\\n",
    "   \"last-name\": \"Bourne\",\\\n",
    "   \"age\": 32,\\\n",
    "   \"cities\": [\"London\", \"Beirut\", \"Paris\"],\\\n",
    "   \"last-activity\": \"2018-10-115T13:15:33Z\"\\\n",
    "}\\\n",
    "')\n",
    "\n",
    "schema = ...\n",
    "#TODO: put your schema here\n",
    "schema = {\n",
    "    \"type\" : \"object\",\n",
    "    \"properties\" : {\n",
    "        \"first-name\" : {\"type\" : \"string\"},\n",
    "        \"last-name\" : {\"type\" : \"string\"},\n",
    "        \"age\" : {\"type\" : \"number\"},\n",
    "        \"cities\" : {\"type\" : \"array\", \"items\": {\"type\": \"string\"}},\n",
    "        \"last-activity\" : {\"type\" : \"string\"}\n",
    "     }\n",
    "}\n",
    "\n",
    "\n",
    "from jsonschema import validate\n",
    "validate(jason_bourne, schema, cls='Validator')"
   ]
  },
  {
   "cell_type": "code",
   "execution_count": null,
   "metadata": {},
   "outputs": [],
   "source": []
  }
 ],
 "metadata": {
  "kernelspec": {
   "display_name": "Python 3 (ipykernel)",
   "language": "python",
   "name": "python3"
  },
  "language_info": {
   "codemirror_mode": {
    "name": "ipython",
    "version": 3
   },
   "file_extension": ".py",
   "mimetype": "text/x-python",
   "name": "python",
   "nbconvert_exporter": "python",
   "pygments_lexer": "ipython3",
   "version": "3.10.8"
  }
 },
 "nbformat": 4,
 "nbformat_minor": 4
}
