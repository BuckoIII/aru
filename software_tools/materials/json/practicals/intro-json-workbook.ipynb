{
 "cells": [
  {
   "cell_type": "markdown",
   "metadata": {},
   "source": [
    "## JSON workbook\n",
    "\n",
    "In this workbook we'll explore the JSON data format and the available helper methods in Python and Pandas that will help us deal with JSON strings and files.\n",
    "\n",
    "To recap what JSON is you can always refer to the offical documentation that can be found at https://www.json.org/\n",
    "\n",
    "A quick example JSON looks something like:\n",
    "\n",
    "```\n",
    "{\n",
    "   \"first-name\": \"Jason\",\n",
    "   \"last-name\": \"Bourne\",\n",
    "   \"age\": 32,\n",
    "   \"cities\": [\"London\", \"Beirut\", \"Paris\"],  \n",
    "   \"last-activity\": \"2018-10-115T13:15:33Z\"\n",
    "}\n",
    "```\n"
   ]
  },
  {
   "cell_type": "markdown",
   "metadata": {},
   "source": [
    "### First look at JSON documents\n",
    "\n",
    "To get started, let's look at a more complex JSON file, which we obtained via the Yahoo Weather API ( https://developer.yahoo.com/weather/ )\n",
    "\n",
    "Use the Python built-in `open()` function and `.read()` the `data/weather_forecast.json` file , saving the result into a variable called `weather_forecast_json`:"
   ]
  },
  {
   "cell_type": "code",
   "execution_count": 11,
   "metadata": {},
   "outputs": [],
   "source": [
    "with open('data/weather_forecast.json') as file:\n",
    "    weather_forecast_json = file.read()\n"
   ]
  },
  {
   "cell_type": "markdown",
   "metadata": {},
   "source": [
    "`print()` the contents of `weather_forecast_json` and look at the structure:"
   ]
  },
  {
   "cell_type": "code",
   "execution_count": 12,
   "metadata": {},
   "outputs": [
    {
     "name": "stdout",
     "output_type": "stream",
     "text": [
      "{\n",
      " \"query\": {\n",
      "  \"count\": 1,\n",
      "  \"created\": \"2018-10-19T12:39:05Z\",\n",
      "  \"lang\": \"en-US\",\n",
      "  \"results\": {\n",
      "   \"channel\": {\n",
      "    \"units\": {\n",
      "     \"distance\": \"mi\",\n",
      "     \"pressure\": \"in\",\n",
      "     \"speed\": \"mph\",\n",
      "     \"temperature\": \"F\"\n",
      "    },\n",
      "    \"title\": \"Yahoo! Weather - Nome, AK, US\",\n",
      "    \"link\": \"http://us.rd.yahoo.com/dailynews/rss/weather/Country__Country/*https://weather.yahoo.com/country/state/city-2460286/\",\n",
      "    \"description\": \"Yahoo! Weather for Nome, AK, US\",\n",
      "    \"language\": \"en-us\",\n",
      "    \"lastBuildDate\": \"Fri, 19 Oct 2018 04:39 AM AKDT\",\n",
      "    \"ttl\": \"60\",\n",
      "    \"location\": {\n",
      "     \"city\": \"Nome\",\n",
      "     \"country\": \"United States\",\n",
      "     \"region\": \" AK\"\n",
      "    },\n",
      "    \"wind\": {\n",
      "     \"chill\": \"32\",\n",
      "     \"direction\": \"45\",\n",
      "     \"speed\": \"15\"\n",
      "    },\n",
      "    \"atmosphere\": {\n",
      "     \"humidity\": \"85\",\n",
      "     \"pressure\": \"1004.0\",\n",
      "     \"rising\": \"0\",\n",
      "     \"visibility\": \"16.1\"\n",
      "    },\n",
      "    \"astronomy\": {\n",
      "     \"sunrise\": \"10:5 am\",\n",
      "     \"sunset\": \"7:26 pm\"\n",
      "    },\n",
      "    \"image\": {\n",
      "     \"title\": \"Yahoo! Weather\",\n",
      "     \"width\": \"142\",\n",
      "     \"height\": \"18\",\n",
      "     \"link\": \"http://weather.yahoo.com\",\n",
      "     \"url\": \"http://l.yimg.com/a/i/brand/purplelogo//uh/us/news-wea.gif\"\n",
      "    },\n",
      "    \"item\": {\n",
      "     \"title\": \"Conditions for Nome, AK, US at 03:00 AM AKDT\",\n",
      "     \"lat\": \"64.499474\",\n",
      "     \"long\": \"-165.405792\",\n",
      "     \"link\": \"http://us.rd.yahoo.com/dailynews/rss/weather/Country__Country/*https://weather.yahoo.com/country/state/city-2460286/\",\n",
      "     \"pubDate\": \"Fri, 19 Oct 2018 03:00 AM AKDT\",\n",
      "     \"condition\": {\n",
      "      \"code\": \"27\",\n",
      "      \"date\": \"Fri, 19 Oct 2018 03:00 AM AKDT\",\n",
      "      \"temp\": \"38\",\n",
      "      \"text\": \"Mostly Cloudy\"\n",
      "     },\n",
      "     \"forecast\": [\n",
      "      {\n",
      "       \"code\": \"30\",\n",
      "       \"date\": \"19 Oct 2018\",\n",
      "       \"day\": \"Fri\",\n",
      "       \"high\": \"44\",\n",
      "       \"low\": \"36\",\n",
      "       \"text\": \"Partly Cloudy\"\n",
      "      },\n",
      "      {\n",
      "       \"code\": \"34\",\n",
      "       \"date\": \"20 Oct 2018\",\n",
      "       \"day\": \"Sat\",\n",
      "       \"high\": \"39\",\n",
      "       \"low\": \"32\",\n",
      "       \"text\": \"Mostly Sunny\"\n",
      "      },\n",
      "      {\n",
      "       \"code\": \"34\",\n",
      "       \"date\": \"21 Oct 2018\",\n",
      "       \"day\": \"Sun\",\n",
      "       \"high\": \"37\",\n",
      "       \"low\": \"31\",\n",
      "       \"text\": \"Mostly Sunny\"\n",
      "      },\n",
      "      {\n",
      "       \"code\": \"30\",\n",
      "       \"date\": \"22 Oct 2018\",\n",
      "       \"day\": \"Mon\",\n",
      "       \"high\": \"37\",\n",
      "       \"low\": \"32\",\n",
      "       \"text\": \"Partly Cloudy\"\n",
      "      },\n",
      "      {\n",
      "       \"code\": \"30\",\n",
      "       \"date\": \"23 Oct 2018\",\n",
      "       \"day\": \"Tue\",\n",
      "       \"high\": \"39\",\n",
      "       \"low\": \"34\",\n",
      "       \"text\": \"Partly Cloudy\"\n",
      "      },\n",
      "      {\n",
      "       \"code\": \"28\",\n",
      "       \"date\": \"24 Oct 2018\",\n",
      "       \"day\": \"Wed\",\n",
      "       \"high\": \"40\",\n",
      "       \"low\": \"35\",\n",
      "       \"text\": \"Mostly Cloudy\"\n",
      "      },\n",
      "      {\n",
      "       \"code\": \"28\",\n",
      "       \"date\": \"25 Oct 2018\",\n",
      "       \"day\": \"Thu\",\n",
      "       \"high\": \"39\",\n",
      "       \"low\": \"35\",\n",
      "       \"text\": \"Mostly Cloudy\"\n",
      "      },\n",
      "      {\n",
      "       \"code\": \"28\",\n",
      "       \"date\": \"26 Oct 2018\",\n",
      "       \"day\": \"Fri\",\n",
      "       \"high\": \"36\",\n",
      "       \"low\": \"34\",\n",
      "       \"text\": \"Mostly Cloudy\"\n",
      "      },\n",
      "      {\n",
      "       \"code\": \"30\",\n",
      "       \"date\": \"27 Oct 2018\",\n",
      "       \"day\": \"Sat\",\n",
      "       \"high\": \"35\",\n",
      "       \"low\": \"28\",\n",
      "       \"text\": \"Partly Cloudy\"\n",
      "      },\n",
      "      {\n",
      "       \"code\": \"30\",\n",
      "       \"date\": \"28 Oct 2018\",\n",
      "       \"day\": \"Sun\",\n",
      "       \"high\": \"29\",\n",
      "       \"low\": \"26\",\n",
      "       \"text\": \"Partly Cloudy\"\n",
      "      }\n",
      "     ],\n",
      "     \"description\": \"<![CDATA[<img src=\\\"http://l.yimg.com/a/i/us/we/52/27.gif\\\"/>\\n<BR />\\n<b>Current Conditions:</b>\\n<BR />Mostly Cloudy\\n<BR />\\n<BR />\\n<b>Forecast:</b>\\n<BR /> Fri - Partly Cloudy. High: 44Low: 36\\n<BR /> Sat - Mostly Sunny. High: 39Low: 32\\n<BR /> Sun - Mostly Sunny. High: 37Low: 31\\n<BR /> Mon - Partly Cloudy. High: 37Low: 32\\n<BR /> Tue - Partly Cloudy. High: 39Low: 34\\n<BR />\\n<BR />\\n<a href=\\\"http://us.rd.yahoo.com/dailynews/rss/weather/Country__Country/*https://weather.yahoo.com/country/state/city-2460286/\\\">Full Forecast at Yahoo! Weather</a>\\n<BR />\\n<BR />\\n<BR />\\n]]>\",\n",
      "     \"guid\": {\n",
      "      \"isPermaLink\": \"false\"\n",
      "     }\n",
      "    }\n",
      "   }\n",
      "  }\n",
      " }\n",
      "}\n"
     ]
    }
   ],
   "source": [
    "print(weather_forecast_json)"
   ]
  },
  {
   "cell_type": "markdown",
   "metadata": {},
   "source": [
    "### Getting attributes out of a JSON document\n",
    "\n",
    "Look at the documentation for the Python JSON module ( https://docs.python.org/3/library/json.html ).\n",
    "\n",
    "`import`the `json` module, then access the temperature unit and assign it to `temperature_unit`:"
   ]
  },
  {
   "cell_type": "code",
   "execution_count": 23,
   "metadata": {},
   "outputs": [],
   "source": [
    "import json\n",
    "\n",
    "weather_dict = json.loads(weather_forecast_json)\n",
    "temperature_unit = weather_dict['query']['results']['channel']['units']['temperature']"
   ]
  },
  {
   "cell_type": "code",
   "execution_count": 24,
   "metadata": {},
   "outputs": [
    {
     "name": "stdout",
     "output_type": "stream",
     "text": [
      "F\n"
     ]
    }
   ],
   "source": [
    "print(temperature_unit)"
   ]
  },
  {
   "cell_type": "markdown",
   "metadata": {},
   "source": [
    "### Getting more complex outputs from a JSON document\n",
    "\n",
    "Now let's do something more interesting! We would like to see all of the `text` values from each forecast as a list of strings.\n",
    "\n",
    "Our expected output is\n",
    "```\n",
    "['Partly Cloudy', 'Mostly Sunny', 'Mostly Sunny', 'Partly Cloudy', 'Partly Cloudy', 'Mostly Cloudy', 'Mostly Cloudy', 'Mostly Cloudy', 'Partly Cloudy', 'Partly Cloudy']\n",
    "```"
   ]
  },
  {
   "cell_type": "code",
   "execution_count": 76,
   "metadata": {},
   "outputs": [
    {
     "data": {
      "text/plain": [
       "['Partly Cloudy',\n",
       " 'Mostly Sunny',\n",
       " 'Mostly Sunny',\n",
       " 'Partly Cloudy',\n",
       " 'Partly Cloudy',\n",
       " 'Mostly Cloudy',\n",
       " 'Mostly Cloudy',\n",
       " 'Mostly Cloudy',\n",
       " 'Partly Cloudy',\n",
       " 'Partly Cloudy']"
      ]
     },
     "execution_count": 76,
     "metadata": {},
     "output_type": "execute_result"
    }
   ],
   "source": [
    "# weather_dict['query']['results']['channel']['item'].keys()\n",
    "\n",
    "forecasts = weather_dict['query']['results']['channel']['item']['forecast']\n",
    "\n",
    "weather_desc = [f['text'] for f in forecasts]\n",
    "weather_desc"
   ]
  },
  {
   "cell_type": "markdown",
   "metadata": {},
   "source": [
    "### Writing JSON documents"
   ]
  },
  {
   "cell_type": "markdown",
   "metadata": {},
   "source": [
    "Let's assume we'd like to send a system a JSON response, which looks like this:\n",
    "```\n",
    "{\n",
    "    'paymentid': '35dfc21c-35b7-4459-a65c-284fcb03d57a',\n",
    "    'type': 'p2p',\n",
    "    'amount': 45000.0,\n",
    "    'currency': 'GBP',\n",
    "    'sender': 'batman@waynecorp.com',\n",
    "    'beneficiary': 'catwoman@gmail.com'\n",
    "}\n",
    "```\n",
    "* create the JSON document _without_ using string manipulations, or writing the whole JSON document as one string\n",
    "* print out the JSON document   \n",
    "\n",
    "_Hint: you can use a simple Python `dict` and the `.dumps()` method from the `json` module_"
   ]
  },
  {
   "cell_type": "code",
   "execution_count": 276,
   "metadata": {},
   "outputs": [
    {
     "name": "stdout",
     "output_type": "stream",
     "text": [
      "saved to path: \"data/test_json_file.json\"\n",
      "{\"payment_id\": \"35dfc21c-35b7-4459-a65c-284fcb03d57a\", \"type\": \"p2p\", \"amount\": 45000.0, \"currency\": \"GBP\", \"sender\": \"batman@waynecorp.com\", \"beneficiary\": \"catwoman@gmail.com\"}\n"
     ]
    }
   ],
   "source": [
    "response_dct = {'payment_id':'35dfc21c-35b7-4459-a65c-284fcb03d57a',\n",
    "                 'type':'p2p',\n",
    "                 'amount':45000.0,\n",
    "                 'currency':'GBP',\n",
    "                 'sender':'batman@waynecorp.com',\n",
    "                 'beneficiary':'catwoman@gmail.com'}\n",
    "\n",
    "response_json = json.dumps(response_dct)\n",
    "\n",
    "path = 'data/test_json_file.json'\n",
    "with open(path, 'w') as f:\n",
    "    json.dump(response_json, f, indent=2)\n",
    "    print(f'saved to path: \"{path}\"')\n",
    "    \n",
    "print(response_json)"
   ]
  },
  {
   "cell_type": "markdown",
   "metadata": {},
   "source": [
    "## Working with JSON using `pandas`"
   ]
  },
  {
   "cell_type": "markdown",
   "metadata": {},
   "source": [
    "Pandas simplifies working with JSON documents. We'll be looking at 2 common uses cases to demonstrate that."
   ]
  },
  {
   "cell_type": "markdown",
   "metadata": {},
   "source": [
    "### Exercise: Loading a pure JSON dataset\n",
    "\n",
    "In `data/population2010.json` you'll find a dataset in pure JSON format.\n",
    "* Open it up with your text-editor-of-choice (or Jupyter) and examine the format\n",
    "* Use the pandas `.read_json()` method (see [documentation](https://pandas.pydata.org/pandas-docs/stable/generated/pandas.read_json.html)) to read the contents into a DataFrame called `population_2010_df`\n",
    "* Print the `.shape` and `.head()` of the DataFrame"
   ]
  },
  {
   "cell_type": "code",
   "execution_count": 94,
   "metadata": {},
   "outputs": [
    {
     "name": "stdout",
     "output_type": "stream",
     "text": [
      "(101, 6)    females        country  age    males  year    total\n",
      "0  1966000  United States    0  2054000  2010  4019000\n",
      "1  1973000  United States    1  2056000  2010  4030000\n",
      "2  1979000  United States    2  2059000  2010  4038000\n",
      "3  1983000  United States    3  2061000  2010  4043000\n",
      "4  1985000  United States    4  2063000  2010  4048000\n"
     ]
    }
   ],
   "source": [
    "import pandas as pd\n",
    "\n",
    "with open('data/population2010.json', 'r') as f:\n",
    "    population_2010_df = pd.read_json(f)\n",
    "\n",
    "print(population_2010_df.shape, population_2010_df.head())\n",
    "          \n"
   ]
  },
  {
   "cell_type": "markdown",
   "metadata": {},
   "source": [
    "### Saving a pure JSON dataset\n",
    "\n",
    "The data folder (as you have probably seen) contains multiple files with a similar name:\n",
    "* `population1970.json`\n",
    "* `population1980.json`\n",
    "* `population1990.json`\n",
    "* `population2000.json`\n",
    "* `population2010.json`\n",
    "\n",
    "We would like to unify these datasets with pandas. To do that, you'll need to \n",
    "* load all of these files into separate DataFrames\n",
    "* combine them (find the right pandas method to do that!)\n",
    "\n",
    "\n",
    "Then, use the pandas `.to_json()` method with the parameter `orient='records'` to save the combined DataFrame to a file.\n",
    "* open the resulting text file using your text editor and examine the results"
   ]
  },
  {
   "cell_type": "code",
   "execution_count": 170,
   "metadata": {},
   "outputs": [],
   "source": [
    "from glob import glob\n",
    "import re\n",
    "from pathlib import Path\n",
    "\n",
    "files = glob('data/*.json')\n",
    "file_names = [f for f in files if re.match(r'.+population', f)]\n",
    "\n",
    "dataframes = []\n",
    "for fn in file_names:\n",
    "    with open(fn, 'r') as f:\n",
    "        dataframes.append(pd.read_json(f))\n",
    "\n",
    "combined_df = pd.concat(dataframes)\n",
    "\n",
    "with open('combined_population_data.json', 'w') as f:\n",
    "    f.write(combined_df.to_json(orient='records'))\n"
   ]
  },
  {
   "cell_type": "markdown",
   "metadata": {},
   "source": [
    "### [Optional] Dealing with CSV/JSON mixed datasets\n",
    "\n",
    "In `data/kickstarter_sample.csv` you'll find the first 100 rows of a dataset from Kickstarter.  \n",
    "\n",
    "This particular dataset is a combination of CSV and JSON formats, where the dataset itself is CSV, but a few columns have JSON documents as values."
   ]
  },
  {
   "cell_type": "code",
   "execution_count": 173,
   "metadata": {},
   "outputs": [
    {
     "data": {
      "text/html": [
       "<div>\n",
       "<style scoped>\n",
       "    .dataframe tbody tr th:only-of-type {\n",
       "        vertical-align: middle;\n",
       "    }\n",
       "\n",
       "    .dataframe tbody tr th {\n",
       "        vertical-align: top;\n",
       "    }\n",
       "\n",
       "    .dataframe thead th {\n",
       "        text-align: right;\n",
       "    }\n",
       "</style>\n",
       "<table border=\"1\" class=\"dataframe\">\n",
       "  <thead>\n",
       "    <tr style=\"text-align: right;\">\n",
       "      <th></th>\n",
       "      <th>id</th>\n",
       "      <th>photo</th>\n",
       "      <th>name</th>\n",
       "      <th>blurb</th>\n",
       "      <th>goal</th>\n",
       "      <th>slug</th>\n",
       "      <th>disable_communication</th>\n",
       "      <th>country</th>\n",
       "      <th>currency</th>\n",
       "      <th>currency_symbol</th>\n",
       "      <th>...</th>\n",
       "      <th>location</th>\n",
       "      <th>category</th>\n",
       "      <th>profile</th>\n",
       "      <th>urls</th>\n",
       "      <th>source_url</th>\n",
       "      <th>friends</th>\n",
       "      <th>is_starred</th>\n",
       "      <th>is_backing</th>\n",
       "      <th>permissions</th>\n",
       "      <th>state</th>\n",
       "    </tr>\n",
       "  </thead>\n",
       "  <tbody>\n",
       "    <tr>\n",
       "      <th>0</th>\n",
       "      <td>663816109</td>\n",
       "      <td>{\"small\":\"https://ksr-ugc.imgix.net/assets/012...</td>\n",
       "      <td>Angular - Where Modern Art meets Cards</td>\n",
       "      <td>Angular is a minimalist card design for simpli...</td>\n",
       "      <td>17380.0</td>\n",
       "      <td>angular-where-modern-art-meets-cards</td>\n",
       "      <td>False</td>\n",
       "      <td>US</td>\n",
       "      <td>USD</td>\n",
       "      <td>$</td>\n",
       "      <td>...</td>\n",
       "      <td>{\"country\":\"US\",\"urls\":{\"web\":{\"discover\":\"htt...</td>\n",
       "      <td>{\"urls\":{\"web\":{\"discover\":\"http://www.kicksta...</td>\n",
       "      <td>{\"background_image_opacity\":0.8,\"should_show_f...</td>\n",
       "      <td>{\"web\":{\"project\":\"https://www.kickstarter.com...</td>\n",
       "      <td>https://www.kickstarter.com/discover/categorie...</td>\n",
       "      <td>NaN</td>\n",
       "      <td>NaN</td>\n",
       "      <td>NaN</td>\n",
       "      <td>NaN</td>\n",
       "      <td>failed</td>\n",
       "    </tr>\n",
       "    <tr>\n",
       "      <th>1</th>\n",
       "      <td>1462931821</td>\n",
       "      <td>{\"small\":\"https://ksr-ugc.imgix.net/assets/014...</td>\n",
       "      <td>Ladybeard is KAWAII-CORE</td>\n",
       "      <td>Original songs and music videos to jump start ...</td>\n",
       "      <td>24000.0</td>\n",
       "      <td>ladybeard-is-kawaii-core</td>\n",
       "      <td>False</td>\n",
       "      <td>US</td>\n",
       "      <td>USD</td>\n",
       "      <td>$</td>\n",
       "      <td>...</td>\n",
       "      <td>{\"country\":\"JP\",\"urls\":{\"web\":{\"discover\":\"htt...</td>\n",
       "      <td>{\"urls\":{\"web\":{\"discover\":\"http://www.kicksta...</td>\n",
       "      <td>{\"background_image_opacity\":0.8,\"should_show_f...</td>\n",
       "      <td>{\"web\":{\"project\":\"https://www.kickstarter.com...</td>\n",
       "      <td>https://www.kickstarter.com/discover/categorie...</td>\n",
       "      <td>NaN</td>\n",
       "      <td>NaN</td>\n",
       "      <td>NaN</td>\n",
       "      <td>NaN</td>\n",
       "      <td>failed</td>\n",
       "    </tr>\n",
       "    <tr>\n",
       "      <th>2</th>\n",
       "      <td>1724358498</td>\n",
       "      <td>{\"small\":\"https://ksr-ugc.imgix.net/assets/011...</td>\n",
       "      <td>Vegan Cafe Delivery Service in Vancouver BC</td>\n",
       "      <td>Our project is to launch a vegan lunch deliver...</td>\n",
       "      <td>40000.0</td>\n",
       "      <td>vegancafeca</td>\n",
       "      <td>False</td>\n",
       "      <td>CA</td>\n",
       "      <td>CAD</td>\n",
       "      <td>$</td>\n",
       "      <td>...</td>\n",
       "      <td>{\"country\":\"CA\",\"urls\":{\"web\":{\"discover\":\"htt...</td>\n",
       "      <td>{\"urls\":{\"web\":{\"discover\":\"http://www.kicksta...</td>\n",
       "      <td>{\"background_image_opacity\":0.8,\"should_show_f...</td>\n",
       "      <td>{\"web\":{\"project\":\"https://www.kickstarter.com...</td>\n",
       "      <td>https://www.kickstarter.com/discover/categorie...</td>\n",
       "      <td>NaN</td>\n",
       "      <td>NaN</td>\n",
       "      <td>NaN</td>\n",
       "      <td>NaN</td>\n",
       "      <td>failed</td>\n",
       "    </tr>\n",
       "    <tr>\n",
       "      <th>3</th>\n",
       "      <td>314918941</td>\n",
       "      <td>{\"small\":\"https://ksr-ugc.imgix.net/assets/011...</td>\n",
       "      <td>Photoetched Rail Yard Exposition</td>\n",
       "      <td>I have developed a process of my own which tra...</td>\n",
       "      <td>1000.0</td>\n",
       "      <td>photoetched-rail-yard-exposition</td>\n",
       "      <td>False</td>\n",
       "      <td>US</td>\n",
       "      <td>USD</td>\n",
       "      <td>$</td>\n",
       "      <td>...</td>\n",
       "      <td>{\"country\":\"US\",\"urls\":{\"web\":{\"discover\":\"htt...</td>\n",
       "      <td>{\"urls\":{\"web\":{\"discover\":\"http://www.kicksta...</td>\n",
       "      <td>{\"background_image_opacity\":0.8,\"should_show_f...</td>\n",
       "      <td>{\"web\":{\"project\":\"https://www.kickstarter.com...</td>\n",
       "      <td>https://www.kickstarter.com/discover/categorie...</td>\n",
       "      <td>NaN</td>\n",
       "      <td>NaN</td>\n",
       "      <td>NaN</td>\n",
       "      <td>NaN</td>\n",
       "      <td>successful</td>\n",
       "    </tr>\n",
       "    <tr>\n",
       "      <th>4</th>\n",
       "      <td>1766165140</td>\n",
       "      <td>{\"small\":\"https://ksr-ugc.imgix.net/assets/011...</td>\n",
       "      <td>Cinnamon Fletcher needs to be brought to life!</td>\n",
       "      <td>Need to pay an illustrator to bring my childre...</td>\n",
       "      <td>700.0</td>\n",
       "      <td>cinnamon-fletcher-needs-to-be-brought-to-life</td>\n",
       "      <td>False</td>\n",
       "      <td>GB</td>\n",
       "      <td>GBP</td>\n",
       "      <td>Â£</td>\n",
       "      <td>...</td>\n",
       "      <td>{\"country\":\"GB\",\"urls\":{\"web\":{\"discover\":\"htt...</td>\n",
       "      <td>{\"urls\":{\"web\":{\"discover\":\"http://www.kicksta...</td>\n",
       "      <td>{\"background_image_opacity\":0.8,\"should_show_f...</td>\n",
       "      <td>{\"web\":{\"project\":\"https://www.kickstarter.com...</td>\n",
       "      <td>https://www.kickstarter.com/discover/categorie...</td>\n",
       "      <td>NaN</td>\n",
       "      <td>NaN</td>\n",
       "      <td>NaN</td>\n",
       "      <td>NaN</td>\n",
       "      <td>failed</td>\n",
       "    </tr>\n",
       "  </tbody>\n",
       "</table>\n",
       "<p>5 rows × 27 columns</p>\n",
       "</div>"
      ],
      "text/plain": [
       "           id                                              photo  \\\n",
       "0   663816109  {\"small\":\"https://ksr-ugc.imgix.net/assets/012...   \n",
       "1  1462931821  {\"small\":\"https://ksr-ugc.imgix.net/assets/014...   \n",
       "2  1724358498  {\"small\":\"https://ksr-ugc.imgix.net/assets/011...   \n",
       "3   314918941  {\"small\":\"https://ksr-ugc.imgix.net/assets/011...   \n",
       "4  1766165140  {\"small\":\"https://ksr-ugc.imgix.net/assets/011...   \n",
       "\n",
       "                                             name  \\\n",
       "0          Angular - Where Modern Art meets Cards   \n",
       "1                        Ladybeard is KAWAII-CORE   \n",
       "2     Vegan Cafe Delivery Service in Vancouver BC   \n",
       "3                Photoetched Rail Yard Exposition   \n",
       "4  Cinnamon Fletcher needs to be brought to life!   \n",
       "\n",
       "                                               blurb     goal  \\\n",
       "0  Angular is a minimalist card design for simpli...  17380.0   \n",
       "1  Original songs and music videos to jump start ...  24000.0   \n",
       "2  Our project is to launch a vegan lunch deliver...  40000.0   \n",
       "3  I have developed a process of my own which tra...   1000.0   \n",
       "4  Need to pay an illustrator to bring my childre...    700.0   \n",
       "\n",
       "                                            slug  disable_communication  \\\n",
       "0           angular-where-modern-art-meets-cards                  False   \n",
       "1                       ladybeard-is-kawaii-core                  False   \n",
       "2                                    vegancafeca                  False   \n",
       "3               photoetched-rail-yard-exposition                  False   \n",
       "4  cinnamon-fletcher-needs-to-be-brought-to-life                  False   \n",
       "\n",
       "  country currency currency_symbol  ...  \\\n",
       "0      US      USD               $  ...   \n",
       "1      US      USD               $  ...   \n",
       "2      CA      CAD               $  ...   \n",
       "3      US      USD               $  ...   \n",
       "4      GB      GBP              Â£  ...   \n",
       "\n",
       "                                            location  \\\n",
       "0  {\"country\":\"US\",\"urls\":{\"web\":{\"discover\":\"htt...   \n",
       "1  {\"country\":\"JP\",\"urls\":{\"web\":{\"discover\":\"htt...   \n",
       "2  {\"country\":\"CA\",\"urls\":{\"web\":{\"discover\":\"htt...   \n",
       "3  {\"country\":\"US\",\"urls\":{\"web\":{\"discover\":\"htt...   \n",
       "4  {\"country\":\"GB\",\"urls\":{\"web\":{\"discover\":\"htt...   \n",
       "\n",
       "                                            category  \\\n",
       "0  {\"urls\":{\"web\":{\"discover\":\"http://www.kicksta...   \n",
       "1  {\"urls\":{\"web\":{\"discover\":\"http://www.kicksta...   \n",
       "2  {\"urls\":{\"web\":{\"discover\":\"http://www.kicksta...   \n",
       "3  {\"urls\":{\"web\":{\"discover\":\"http://www.kicksta...   \n",
       "4  {\"urls\":{\"web\":{\"discover\":\"http://www.kicksta...   \n",
       "\n",
       "                                             profile  \\\n",
       "0  {\"background_image_opacity\":0.8,\"should_show_f...   \n",
       "1  {\"background_image_opacity\":0.8,\"should_show_f...   \n",
       "2  {\"background_image_opacity\":0.8,\"should_show_f...   \n",
       "3  {\"background_image_opacity\":0.8,\"should_show_f...   \n",
       "4  {\"background_image_opacity\":0.8,\"should_show_f...   \n",
       "\n",
       "                                                urls  \\\n",
       "0  {\"web\":{\"project\":\"https://www.kickstarter.com...   \n",
       "1  {\"web\":{\"project\":\"https://www.kickstarter.com...   \n",
       "2  {\"web\":{\"project\":\"https://www.kickstarter.com...   \n",
       "3  {\"web\":{\"project\":\"https://www.kickstarter.com...   \n",
       "4  {\"web\":{\"project\":\"https://www.kickstarter.com...   \n",
       "\n",
       "                                          source_url  friends is_starred  \\\n",
       "0  https://www.kickstarter.com/discover/categorie...      NaN        NaN   \n",
       "1  https://www.kickstarter.com/discover/categorie...      NaN        NaN   \n",
       "2  https://www.kickstarter.com/discover/categorie...      NaN        NaN   \n",
       "3  https://www.kickstarter.com/discover/categorie...      NaN        NaN   \n",
       "4  https://www.kickstarter.com/discover/categorie...      NaN        NaN   \n",
       "\n",
       "  is_backing permissions       state  \n",
       "0        NaN         NaN      failed  \n",
       "1        NaN         NaN      failed  \n",
       "2        NaN         NaN      failed  \n",
       "3        NaN         NaN  successful  \n",
       "4        NaN         NaN      failed  \n",
       "\n",
       "[5 rows x 27 columns]"
      ]
     },
     "execution_count": 173,
     "metadata": {},
     "output_type": "execute_result"
    }
   ],
   "source": [
    "ks = pd.read_csv('data/kickstarter_sample.csv')\n",
    "ks.head()"
   ]
  },
  {
   "cell_type": "markdown",
   "metadata": {},
   "source": [
    "Remember that we can use `json_normalize` ([documentation](https://pandas.pydata.org/pandas-docs/stable/generated/pandas.io.json.json_normalize.html)) from pandas to flatten nested JSON structures.\n",
    "\n",
    "\n",
    "\n",
    "Here are a couple of examples:"
   ]
  },
  {
   "cell_type": "code",
   "execution_count": 174,
   "metadata": {},
   "outputs": [
    {
     "data": {
      "text/html": [
       "<div>\n",
       "<style scoped>\n",
       "    .dataframe tbody tr th:only-of-type {\n",
       "        vertical-align: middle;\n",
       "    }\n",
       "\n",
       "    .dataframe tbody tr th {\n",
       "        vertical-align: top;\n",
       "    }\n",
       "\n",
       "    .dataframe thead th {\n",
       "        text-align: right;\n",
       "    }\n",
       "</style>\n",
       "<table border=\"1\" class=\"dataframe\">\n",
       "  <thead>\n",
       "    <tr style=\"text-align: right;\">\n",
       "      <th></th>\n",
       "      <th>name</th>\n",
       "      <th>city</th>\n",
       "    </tr>\n",
       "  </thead>\n",
       "  <tbody>\n",
       "    <tr>\n",
       "      <th>0</th>\n",
       "      <td>Marcel</td>\n",
       "      <td>London</td>\n",
       "    </tr>\n",
       "    <tr>\n",
       "      <th>1</th>\n",
       "      <td>John</td>\n",
       "      <td>London</td>\n",
       "    </tr>\n",
       "  </tbody>\n",
       "</table>\n",
       "</div>"
      ],
      "text/plain": [
       "     name    city\n",
       "0  Marcel  London\n",
       "1    John  London"
      ]
     },
     "execution_count": 174,
     "metadata": {},
     "output_type": "execute_result"
    }
   ],
   "source": [
    "data = '{\"city\": \"London\", \"people\": [{\"name\": \"Marcel\"}, {\"name\": \"John\"}]}'\n",
    "d = json.loads(data)\n",
    "pd.json_normalize(d, \"people\",  meta=[\"city\"])\n"
   ]
  },
  {
   "cell_type": "markdown",
   "metadata": {},
   "source": [
    "*__If you get an error__, it may be because you have an earlier version of pandas installed.*\n",
    "\n",
    "Either update pandas:\n",
    "`!conda update pandas -y`\n",
    "\n",
    "Or first execute:\n",
    "`from pandas.io.json import json_normalize` \n",
    "\n"
   ]
  },
  {
   "cell_type": "code",
   "execution_count": 175,
   "metadata": {},
   "outputs": [
    {
     "data": {
      "text/html": [
       "<div>\n",
       "<style scoped>\n",
       "    .dataframe tbody tr th:only-of-type {\n",
       "        vertical-align: middle;\n",
       "    }\n",
       "\n",
       "    .dataframe tbody tr th {\n",
       "        vertical-align: top;\n",
       "    }\n",
       "\n",
       "    .dataframe thead th {\n",
       "        text-align: right;\n",
       "    }\n",
       "</style>\n",
       "<table border=\"1\" class=\"dataframe\">\n",
       "  <thead>\n",
       "    <tr style=\"text-align: right;\">\n",
       "      <th></th>\n",
       "      <th>country</th>\n",
       "      <th>name</th>\n",
       "      <th>displayable_name</th>\n",
       "      <th>short_name</th>\n",
       "      <th>id</th>\n",
       "      <th>state</th>\n",
       "      <th>type</th>\n",
       "      <th>is_root</th>\n",
       "      <th>slug</th>\n",
       "      <th>urls.web.discover</th>\n",
       "      <th>urls.web.location</th>\n",
       "      <th>urls.api.nearby_projects</th>\n",
       "    </tr>\n",
       "  </thead>\n",
       "  <tbody>\n",
       "    <tr>\n",
       "      <th>0</th>\n",
       "      <td>US</td>\n",
       "      <td>Raleigh</td>\n",
       "      <td>Raleigh, NC</td>\n",
       "      <td>Raleigh, NC</td>\n",
       "      <td>2478307</td>\n",
       "      <td>NC</td>\n",
       "      <td>Town</td>\n",
       "      <td>False</td>\n",
       "      <td>raleigh-nc</td>\n",
       "      <td>https://www.kickstarter.com/discover/places/ra...</td>\n",
       "      <td>https://www.kickstarter.com/locations/raleigh-nc</td>\n",
       "      <td>https://api.kickstarter.com/v1/discover?signat...</td>\n",
       "    </tr>\n",
       "  </tbody>\n",
       "</table>\n",
       "</div>"
      ],
      "text/plain": [
       "  country     name displayable_name   short_name       id state  type  \\\n",
       "0      US  Raleigh      Raleigh, NC  Raleigh, NC  2478307    NC  Town   \n",
       "\n",
       "   is_root        slug                                  urls.web.discover  \\\n",
       "0    False  raleigh-nc  https://www.kickstarter.com/discover/places/ra...   \n",
       "\n",
       "                                  urls.web.location  \\\n",
       "0  https://www.kickstarter.com/locations/raleigh-nc   \n",
       "\n",
       "                            urls.api.nearby_projects  \n",
       "0  https://api.kickstarter.com/v1/discover?signat...  "
      ]
     },
     "execution_count": 175,
     "metadata": {},
     "output_type": "execute_result"
    }
   ],
   "source": [
    "sample_location = '{\"country\":\"US\",\"urls\":{\"web\":{\"discover\":\\\n",
    "\"https://www.kickstarter.com/discover/places/raleigh-nc\",\"location\":\\\n",
    "\"https://www.kickstarter.com/locations/raleigh-nc\"},\"api\":\\\n",
    "{\"nearby_projects\":\"https://api.kickstarter.com/v1/discover?\\\n",
    "signature=1500237670.62036dae574e222e5bd17f9b995c9865f2834bc7&woe_id=2478307\"}},\\\n",
    "\"name\":\"Raleigh\",\"displayable_name\":\"Raleigh, NC\",\"short_name\":\"Raleigh, NC\",\\\n",
    "\"id\":2478307,\"state\":\"NC\",\"type\":\"Town\",\"is_root\":false,\"slug\":\"raleigh-nc\"}'\n",
    "\n",
    "\n",
    "pd.json_normalize(json.loads(sample_location))"
   ]
  },
  {
   "cell_type": "markdown",
   "metadata": {},
   "source": [
    "Unfortunately this method does not work on a DataFrame, only on a Python dictionary or list of dictionaries.\n",
    "\n",
    "\n",
    "Try using `json_normalize` to normalize the `photo` JSON column of the Kickstarter DataFrame, and extend the DataFrame by adding the new columns.\n",
    "\n",
    "Hints:\n",
    "* a Dataframe column of JSON strings can easily be converted to a list of dicts\n",
    "* extra columns can always be added to a DataFrame if the number of rows match"
   ]
  },
  {
   "cell_type": "code",
   "execution_count": 227,
   "metadata": {},
   "outputs": [
    {
     "name": "stdout",
     "output_type": "stream",
     "text": [
      "test passed\n"
     ]
    }
   ],
   "source": [
    "photo_list =  [json.loads(r) for r in ks.photo.values]\n",
    "\n",
    "unnested_df = ks.join(pd.json_normalize(photo_list, meta='photo'))\n",
    "\n",
    "# print(unnested_df.photo.iloc[0])\n",
    "# unnested_df['small'].iloc[0]\n",
    "\n",
    "\n",
    "def test_unnest():\n",
    "    case = json.loads(ks.photo.iloc[0])\n",
    "    result = unnested_df.small.iloc[0]\n",
    "\n",
    "    assert case['small'] == result\n",
    "    print('test passed')\n",
    "\n",
    "test_unnest()"
   ]
  },
  {
   "cell_type": "code",
   "execution_count": 260,
   "metadata": {},
   "outputs": [
    {
     "name": "stdout",
     "output_type": "stream",
     "text": [
      "https://ksr-ugc.imgix.net/assets/012/384/964/7a20ef8917d7de846e9b6bf66a3b2a66_original.png?crop=faces&w=160&h=90&fit=crop&v=1463758293&auto=format&q=92&s=53b64c027846b947a57e6ea6de25399d\n"
     ]
    },
    {
     "data": {
      "text/html": [
       "<img src=\"https://ksr-ugc.imgix.net/assets/012/384/964/7a20ef8917d7de846e9b6bf66a3b2a66_original.png?crop=faces&w=160&h=90&fit=crop&v=1463758293&auto=format&q=92&s=53b64c027846b947a57e6ea6de25399d\"/>"
      ],
      "text/plain": [
       "<IPython.core.display.Image object>"
      ]
     },
     "execution_count": 260,
     "metadata": {},
     "output_type": "execute_result"
    }
   ],
   "source": [
    "from IPython.display import Image\n",
    "\n",
    "# show image\n",
    "image_url = unnested_df['small'].iloc[0]\n",
    "print(image_url)\n",
    "\n",
    "# using ipython url \n",
    "Image(url=image_url) \n"
   ]
  },
  {
   "cell_type": "code",
   "execution_count": 259,
   "metadata": {},
   "outputs": [
    {
     "name": "stdout",
     "output_type": "stream",
     "text": [
      "200 None\n"
     ]
    },
    {
     "data": {
      "image/png": "[encoded data removed]",
      "text/plain": [
       "<IPython.core.display.Image object>"
      ]
     },
     "execution_count": 259,
     "metadata": {},
     "output_type": "execute_result"
    }
   ],
   "source": [
    "# using requests\n",
    "\n",
    "import requests\n",
    "\n",
    "r = requests.get(image_url)\n",
    "print(r.status_code, r.encoding)\n",
    "image = r.content\n",
    "\n",
    "Image(image)"
   ]
  },
  {
   "cell_type": "markdown",
   "metadata": {},
   "source": [
    "### [Optional] Validating JSON Documents\n",
    "\n",
    "As a last activity we'll write a simple schema validation for the document we have started with:\n",
    "\n",
    "```\n",
    "{\n",
    "   \"first-name\": \"Jason\",\n",
    "   \"last-name\": \"Bourne\",\n",
    "   \"age\": 32,\n",
    "   \"cities\": [\"London\", \"Beirut\", \"Paris\"],  \n",
    "   \"last-activity\": \"2018-10-115T13:15:33Z\"\n",
    "}\n",
    "```\n",
    "\n",
    "Write a schema that successfully validates the above message, so the below snippet can run without an error.\n",
    "\n",
    "Useful resources to consider:\n",
    "* http://json-schema.org/\n",
    "* https://pypi.org/project/jsonschema/ "
   ]
  },
  {
   "cell_type": "code",
   "execution_count": null,
   "metadata": {},
   "outputs": [],
   "source": []
  },
  {
   "cell_type": "code",
   "execution_count": 272,
   "metadata": {},
   "outputs": [
    {
     "ename": "AttributeError",
     "evalue": "'str' object has no attribute 'check_schema'",
     "output_type": "error",
     "traceback": [
      "\u001b[0;31m---------------------------------------------------------------------------\u001b[0m",
      "\u001b[0;31mAttributeError\u001b[0m                            Traceback (most recent call last)",
      "Cell \u001b[0;32mIn[272], line 27\u001b[0m\n\u001b[1;32m     13\u001b[0m schema \u001b[38;5;241m=\u001b[39m {\n\u001b[1;32m     14\u001b[0m     \u001b[38;5;124m\"\u001b[39m\u001b[38;5;124mtype\u001b[39m\u001b[38;5;124m\"\u001b[39m : \u001b[38;5;124m\"\u001b[39m\u001b[38;5;124mobject\u001b[39m\u001b[38;5;124m\"\u001b[39m,\n\u001b[1;32m     15\u001b[0m     \u001b[38;5;124m\"\u001b[39m\u001b[38;5;124mproperties\u001b[39m\u001b[38;5;124m\"\u001b[39m : {\n\u001b[0;32m   (...)\u001b[0m\n\u001b[1;32m     21\u001b[0m      }\n\u001b[1;32m     22\u001b[0m }\n\u001b[1;32m     26\u001b[0m \u001b[38;5;28;01mfrom\u001b[39;00m \u001b[38;5;21;01mjsonschema\u001b[39;00m \u001b[38;5;28;01mimport\u001b[39;00m validate\n\u001b[0;32m---> 27\u001b[0m \u001b[43mvalidate\u001b[49m\u001b[43m(\u001b[49m\u001b[43mjason_bourne\u001b[49m\u001b[43m,\u001b[49m\u001b[43m \u001b[49m\u001b[43mschema\u001b[49m\u001b[38;5;241;43m=\u001b[39;49m\u001b[43mschema\u001b[49m\u001b[43m,\u001b[49m\u001b[43m \u001b[49m\u001b[38;5;28;43mcls\u001b[39;49m\u001b[38;5;241;43m=\u001b[39;49m\u001b[38;5;124;43m'\u001b[39;49m\u001b[38;5;124;43mValidator\u001b[39;49m\u001b[38;5;124;43m'\u001b[39;49m\u001b[43m)\u001b[49m\n",
      "File \u001b[0;32m~/aru/software_tools/venv/lib/python3.10/site-packages/jsonschema/validators.py:1117\u001b[0m, in \u001b[0;36mvalidate\u001b[0;34m(instance, schema, cls, *args, **kwargs)\u001b[0m\n\u001b[1;32m   1114\u001b[0m \u001b[38;5;28;01mif\u001b[39;00m \u001b[38;5;28mcls\u001b[39m \u001b[38;5;129;01mis\u001b[39;00m \u001b[38;5;28;01mNone\u001b[39;00m:\n\u001b[1;32m   1115\u001b[0m     \u001b[38;5;28mcls\u001b[39m \u001b[38;5;241m=\u001b[39m validator_for(schema)\n\u001b[0;32m-> 1117\u001b[0m \u001b[38;5;28;43mcls\u001b[39;49m\u001b[38;5;241;43m.\u001b[39;49m\u001b[43mcheck_schema\u001b[49m(schema)\n\u001b[1;32m   1118\u001b[0m validator \u001b[38;5;241m=\u001b[39m \u001b[38;5;28mcls\u001b[39m(schema, \u001b[38;5;241m*\u001b[39margs, \u001b[38;5;241m*\u001b[39m\u001b[38;5;241m*\u001b[39mkwargs)\n\u001b[1;32m   1119\u001b[0m error \u001b[38;5;241m=\u001b[39m exceptions\u001b[38;5;241m.\u001b[39mbest_match(validator\u001b[38;5;241m.\u001b[39miter_errors(instance))\n",
      "\u001b[0;31mAttributeError\u001b[0m: 'str' object has no attribute 'check_schema'"
     ]
    }
   ],
   "source": [
    "jason_bourne = json.loads('\\\n",
    "{\\\n",
    "   \"first-name\": \"Jason\",\\\n",
    "   \"last-name\": \"Bourne\",\\\n",
    "   \"age\": 32,\\\n",
    "   \"cities\": [\"London\", \"Beirut\", \"Paris\"],\\\n",
    "   \"last-activity\": \"2018-10-115T13:15:33Z\"\\\n",
    "}\\\n",
    "')\n",
    "\n",
    "schema = ...\n",
    "#TODO: put your schema here\n",
    "schema = {\n",
    "    \"type\" : \"object\",\n",
    "    \"properties\" : {\n",
    "        \"first-name\" : {\"type\" : \"string\"},\n",
    "        \"last-name\" : {\"type\" : \"string\"},\n",
    "        \"age\" : {\"type\" : \"number\"},\n",
    "        \"cities\" : {\"type\" : \"array\", \"items\": {\"type\": \"string\"}},\n",
    "        \"last-activity\" : {\"type\" : \"string\"}\n",
    "     }\n",
    "}\n",
    "\n",
    "\n",
    "\n",
    "from jsonschema import validate\n",
    "validate(jason_bourne, schema=schema, cls='Validator')"
   ]
  },
  {
   "cell_type": "code",
   "execution_count": null,
   "metadata": {},
   "outputs": [],
   "source": []
  }
 ],
 "metadata": {
  "kernelspec": {
   "display_name": "Python 3 (ipykernel)",
   "language": "python",
   "name": "python3"
  },
  "language_info": {
   "codemirror_mode": {
    "name": "ipython",
    "version": 3
   },
   "file_extension": ".py",
   "mimetype": "text/x-python",
   "name": "python",
   "nbconvert_exporter": "python",
   "pygments_lexer": "ipython3",
   "version": "3.10.8"
  }
 },
 "nbformat": 4,
 "nbformat_minor": 4
}
