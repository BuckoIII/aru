{
 "cells": [
  {
   "cell_type": "markdown",
   "metadata": {},
   "source": [
    "# Web Scraping\n",
    "\n",
    "In this notebook, you'll learn how to use the BeautifulSoup package to work with HTML.\n",
    "\n",
    "Installation instructions: https://www.crummy.com/software/BeautifulSoup/bs4/doc/#installing-beautiful-soup\n",
    "\n",
    "Outline:\n",
    "\n",
    "* Basic HTML elements\n",
    "* HTML in a notebook: display vs render\n",
    "* Parsing HTML as a string and from files\n",
    "* Extracting data with BeautifulSoup\n",
    "    * Simple examples with HTML\n",
    "        * Headings\n",
    "        * Paragraphs\n",
    "        * Lists\n",
    "        * Links\n",
    "    * Working with real HTML\n",
    "        * Exploring attributes\n",
    "        * Idenfifying parent elements\n",
    "        "
   ]
  },
  {
   "cell_type": "markdown",
   "metadata": {},
   "source": [
    "## Basic HTML elements\n",
    "\n",
    "First, let's look at the basic example of HTML, below. It is simply a string, containing the HTML code.\n",
    "\n",
    "What elements are in it?\n",
    "\n",
    "`<html>` - this is always the most outwardly nested element and everything else is inside it\n",
    "\n",
    "`<head>` - this element contains information about the head, most of which is not displayed to the user\n",
    "\n",
    "`<title>` - a header element, which sets the text displayed at the top of the window and on the page's tab\n",
    "\n",
    "`body` - this generally contains all the actual content\n",
    "\n",
    "`h1` - the largest header setting\n",
    "\n",
    "`p` - a paragraph of text\n",
    "\n",
    "`ul` - marks the start/end of a list. Nested inside are the actual list items, marked with `li`\n",
    "\n",
    "`a` - marks a link to another resource. The destination is given by the `href` attribute. The actual displayed text is placed between the `a` tags"
   ]
  },
  {
   "cell_type": "code",
   "execution_count": 10,
   "metadata": {},
   "outputs": [],
   "source": [
    "raw_html = '''\n",
    "<html>\n",
    "    <head>\n",
    "        <title>A very basic web page</title>\n",
    "    </head>\n",
    "    <body>\n",
    "        <h1>Welcome!</h1>\n",
    "        <p>This is a very simple webpage, with nothing too fancy on it. The structure is pretty basic.</p>\n",
    "        \n",
    "        \n",
    "        <p> Reasons to keep it simple:\n",
    "            <ul>\n",
    "                <li>Will load quickly</li>\n",
    "                <li>Easy to read</li>\n",
    "                <li>Quick to create</li>\n",
    "                <li>Easy to update</li>\n",
    "            </ul>\n",
    "        </p>\n",
    "\n",
    "        <h3>Other links to visit...</h3>\n",
    "        <a href='http://www.site1.com'>This great site</a>\n",
    "        <br>        \n",
    "        <a href='http://www.site2.net'>This equally great site</a>\n",
    "        <br>\n",
    "        <a href='http://www.site3.org'>This one is actually quite bad</a>\n",
    "\n",
    "        <h3>Get in touch...</h3>\n",
    "        <a href='mailto:me@address.com'>You can email me here</a>\n",
    "\n",
    "    </body>\n",
    "</html>'''"
   ]
  },
  {
   "cell_type": "markdown",
   "metadata": {},
   "source": [
    "## HTML: display vs render\n",
    "\n",
    "You can display the raw HTML string using print()"
   ]
  },
  {
   "cell_type": "code",
   "execution_count": 11,
   "metadata": {},
   "outputs": [
    {
     "name": "stdout",
     "output_type": "stream",
     "text": [
      "\n",
      "<html>\n",
      "    <head>\n",
      "        <title>A very basic web page</title>\n",
      "    </head>\n",
      "    <body>\n",
      "        <h1>Welcome!</h1>\n",
      "        <p>This is a very simple webpage, with nothing too fancy on it. The structure is pretty basic.</p>\n",
      "        \n",
      "        \n",
      "        <p> Reasons to keep it simple:\n",
      "            <ul>\n",
      "                <li>Will load quickly</li>\n",
      "                <li>Easy to read</li>\n",
      "                <li>Quick to create</li>\n",
      "                <li>Easy to update</li>\n",
      "            </ul>\n",
      "        </p>\n",
      "\n",
      "        <h3>Other links to visit...</h3>\n",
      "        <a href='http://www.site1.com'>This great site</a>\n",
      "        <br>        \n",
      "        <a href='http://www.site2.net'>This equally great site</a>\n",
      "        <br>\n",
      "        <a href='http://www.site3.org'>This one is actually quite bad</a>\n",
      "\n",
      "        <h3>Get in touch...</h3>\n",
      "        <a href='mailto:me@address.com'>You can email me here</a>\n",
      "\n",
      "    </body>\n",
      "</html>\n"
     ]
    }
   ],
   "source": [
    "print(raw_html)"
   ]
  },
  {
   "cell_type": "markdown",
   "metadata": {},
   "source": [
    "But you might want to see how it would look in the browser. This can be useful if you want to see how things are formatted, without having to interpret the elements."
   ]
  },
  {
   "cell_type": "code",
   "execution_count": 12,
   "metadata": {},
   "outputs": [
    {
     "data": {
      "text/html": [
       "\n",
       "<html>\n",
       "    <head>\n",
       "        <title>A very basic web page</title>\n",
       "    </head>\n",
       "    <body>\n",
       "        <h1>Welcome!</h1>\n",
       "        <p>This is a very simple webpage, with nothing too fancy on it. The structure is pretty basic.</p>\n",
       "        \n",
       "        \n",
       "        <p> Reasons to keep it simple:\n",
       "            <ul>\n",
       "                <li>Will load quickly</li>\n",
       "                <li>Easy to read</li>\n",
       "                <li>Quick to create</li>\n",
       "                <li>Easy to update</li>\n",
       "            </ul>\n",
       "        </p>\n",
       "\n",
       "        <h3>Other links to visit...</h3>\n",
       "        <a href='http://www.site1.com'>This great site</a>\n",
       "        <br>        \n",
       "        <a href='http://www.site2.net'>This equally great site</a>\n",
       "        <br>\n",
       "        <a href='http://www.site3.org'>This one is actually quite bad</a>\n",
       "\n",
       "        <h3>Get in touch...</h3>\n",
       "        <a href='mailto:me@address.com'>You can email me here</a>\n",
       "\n",
       "    </body>\n",
       "</html>"
      ],
      "text/plain": [
       "<IPython.core.display.HTML object>"
      ]
     },
     "metadata": {},
     "output_type": "display_data"
    }
   ],
   "source": [
    "from IPython.display import HTML, display\n",
    "\n",
    "rendered_html = HTML(raw_html) # Converts the string to something the notebook can render\n",
    "\n",
    "display(rendered_html) # Actually displays it in the notebook"
   ]
  },
  {
   "cell_type": "markdown",
   "metadata": {},
   "source": [
    "# Extracting data with BeautifulSoup\n",
    "\n",
    "What data might we actually want to extract from the above HTML?\n",
    "\n",
    "* Simple text\n",
    "    * The text of the section headings\n",
    "    * The main text of the paragraphs\n",
    "* Structured text\n",
    "    * The list of items\n",
    "    * URLs plus any descriptive text"
   ]
  },
  {
   "cell_type": "code",
   "execution_count": 13,
   "metadata": {},
   "outputs": [
    {
     "name": "stdout",
     "output_type": "stream",
     "text": [
      "\n",
      "<html>\n",
      "    <head>\n",
      "        <title>A very basic web page</title>\n",
      "    </head>\n",
      "    <body>\n",
      "        <h1>Welcome!</h1>\n",
      "        <p>This is a very simple webpage, with nothing too fancy on it. The structure is pretty basic.</p>\n",
      "        \n",
      "        \n",
      "        <p> Reasons to keep it simple:\n",
      "            <ul>\n",
      "                <li>Will load quickly</li>\n",
      "                <li>Easy to read</li>\n",
      "                <li>Quick to create</li>\n",
      "                <li>Easy to update</li>\n",
      "            </ul>\n",
      "        </p>\n",
      "\n",
      "        <h3>Other links to visit...</h3>\n",
      "        <a href='http://www.site1.com'>This great site</a>\n",
      "        <br>        \n",
      "        <a href='http://www.site2.net'>This equally great site</a>\n",
      "        <br>\n",
      "        <a href='http://www.site3.org'>This one is actually quite bad</a>\n",
      "\n",
      "        <h3>Get in touch...</h3>\n",
      "        <a href='mailto:me@address.com'>You can email me here</a>\n",
      "\n",
      "    </body>\n",
      "</html>\n"
     ]
    }
   ],
   "source": [
    "print(raw_html)"
   ]
  },
  {
   "cell_type": "code",
   "execution_count": 14,
   "metadata": {},
   "outputs": [],
   "source": [
    "from bs4 import BeautifulSoup\n",
    "\n",
    "parsed_html = BeautifulSoup(raw_html) # Parse the HTML from before"
   ]
  },
  {
   "cell_type": "markdown",
   "metadata": {},
   "source": [
    "## Headings and paragraphs\n",
    "\n",
    "Now, get all the headings and paragraphs. Iterate through them, printing their content."
   ]
  },
  {
   "cell_type": "code",
   "execution_count": 15,
   "metadata": {},
   "outputs": [
    {
     "name": "stdout",
     "output_type": "stream",
     "text": [
      "1 h1 Welcome!\n",
      "2 h3 Other links to visit...\n",
      "3 h3 Get in touch...\n",
      "1 p This is a very simple webpage, with nothing too fancy on it. The structure is pretty basic.\n",
      "2 p Reasons to keep it simple:\n",
      "            \n",
      "Will load quickly\n",
      "Easy to read\n",
      "Quick to create\n",
      "Easy to update\n"
     ]
    }
   ],
   "source": [
    "page = BeautifulSoup(raw_html)\n",
    "\n",
    "headings = page.find_all(['h1','h2','h3','h4','h5','h6'])\n",
    "for n, h in enumerate(headings):\n",
    "    print(n+1, h.name, h.text.strip())\n",
    "\n",
    "paras = page.find_all('p')\n",
    "\n",
    "for n, p in enumerate(paras):\n",
    "    print(n+1, p.name, p.text.strip())\n",
    "    "
   ]
  },
  {
   "cell_type": "markdown",
   "metadata": {},
   "source": [
    "## Lists\n",
    "\n",
    "We know there is only one list on this page. Target it, extract its children using `find_all`. Print the contents of the child elements of the list. Maybe add some line numbers."
   ]
  },
  {
   "cell_type": "code",
   "execution_count": 19,
   "metadata": {},
   "outputs": [
    {
     "name": "stdout",
     "output_type": "stream",
     "text": [
      "n lists: 9\n",
      "1 li Will load quickly\n",
      "2 li Easy to read\n",
      "3 li Quick to create\n",
      "4 li Easy to update\n"
     ]
    }
   ],
   "source": [
    "lists = page.find_all('ul')[0]\n",
    "n_lists = len(lists)\n",
    "print('n lists:', n_lists)\n",
    "\n",
    "for n, l in enumerate(lists.find_all()):\n",
    "    print(n+1, l.name, l.text)"
   ]
  },
  {
   "cell_type": "markdown",
   "metadata": {},
   "source": [
    "## Links\n",
    "\n",
    "Now, extract all the links (both mailto: and http:) plus the text that goes with them.\n",
    "\n",
    "Create a list of dictionaries that could be used to generate a CSV file.\n",
    "\n",
    "The columns of this CSV file should be:\n",
    "* the link address (everything after `mailto:` or `http://`)\n",
    "* the type of link data it is\n",
    "* the text associated with the link\n",
    "\n",
    "Hint: `href` is an attribute. The `Tag` class stores any attributes as a dictionary under the `.attrs` variable\n",
    "Hint: use a regular expression to detect `mailto:` vs `http://`"
   ]
  },
  {
   "cell_type": "code",
   "execution_count": 20,
   "metadata": {},
   "outputs": [
    {
     "name": "stdout",
     "output_type": "stream",
     "text": [
      "websites: ['http://www.site1.com', 'http://www.site2.net', 'http://www.site3.org'] \n",
      "emails: ['mailto:me@address.com']\n"
     ]
    }
   ],
   "source": [
    "import re\n",
    "\n",
    "links = page.find_all('a')\n",
    "\n",
    "websites = []\n",
    "emails_addresses = []\n",
    "for l in links:\n",
    "    link = l.get('href')\n",
    "    site_pattern = r'http:.+\\.[\\w]+'\n",
    "    email_pattern = r'mailto:.+\\@.+'\n",
    "    \n",
    "    if re.search(site_pattern, link):\n",
    "        websites.append(link)\n",
    "    \n",
    "    elif re.search(email_pattern, link):\n",
    "        emails_addresses.append(link)\n",
    "\n",
    "\n",
    "print('websites:',websites,'\\nemails:', emails_addresses) "
   ]
  },
  {
   "cell_type": "markdown",
   "metadata": {},
   "source": [
    "## Working with real HTML - more difficult examples\n",
    "\n",
    "The examples used so far are basic, to introduce the structure of HTML. You should now be familiar with tags, elements, nesting and attributes, as well as the common BeautifulSoup functions for working with these.\n",
    "\n",
    "Now, load the file `data/data/wiki/Breakeven (song).html` and parse it in BeautifulSoup.\n",
    "\n",
    "View the raw HTML in a text editor that will highlight the tags for you, to make it easier to understand. Some text editors will also prettify the raw HTML, to show the nested structure more clearly.\n",
    "\n",
    "Alternatively, a parsed HTML object has a `.prettify()` method which will do this so you can `print()` it.\n",
    "\n",
    "(Note: the HTML file here has been prettified already.)"
   ]
  },
  {
   "cell_type": "code",
   "execution_count": 138,
   "metadata": {},
   "outputs": [],
   "source": [
    "with open('data/breakeven.html','r') as file:\n",
    "    soup = BeautifulSoup(file)\n",
    "    \n"
   ]
  },
  {
   "cell_type": "markdown",
   "metadata": {},
   "source": [
    "## Exploring attributes\n",
    "\n",
    "What parts of the page are likely to be of interest?\n",
    "\n",
    "* The basic info in the box in the top right corner\n",
    "* The track listing for this song\n",
    "* The four tables showing chart performance\n",
    "* The table showing certifications\n",
    "\n",
    "Targeting them using simple elements (`ul`, `table`) will be hard, because the page contains a lot of of these elements.\n",
    "\n",
    "Instead, you can use attributes of these elements to target them.\n",
    "\n",
    "To find out which attributes are best, you can inspect the relevant parts of the HTML to find the element and see what attributes apply. You could do a quick CTRL+F plus some text that goes with the part you are interested in.\n",
    "\n",
    "That can be hard to read. Instead, you could extract all the relevant elements and list their attributes and contents. Try this now.\n",
    "\n",
    "* Get all the tables and lists\n",
    "* Print their attributes\n",
    "* Print how many rows it has (look for children with element `tr` and remember that this includes the header row) \n",
    "* Print the column names from the header row (look for `th`)"
   ]
  },
  {
   "cell_type": "code",
   "execution_count": 139,
   "metadata": {},
   "outputs": [
    {
     "name": "stdout",
     "output_type": "stream",
     "text": [
      "\n",
      "table attirbutes: {'class': ['infobox', 'vevent'], 'style': 'width:22em'}\n",
      "n attributes inc headers: 16\n",
      "column names: [<th class=\"summary\" colspan=\"2\" style=\"text-align:center;font-size:125%;font-weight:bold;background-color: khaki;\">\"Breakeven\"</th>, <th class=\"description\" colspan=\"2\" style=\"text-align:center;background-color: khaki;\"><a href=\"/wiki/Single_(music)\" title=\"Single (music)\">Single</a> by <a href=\"/wiki/The_Script\" title=\"The Script\">The Script</a></th>, <th class=\"description\" colspan=\"2\" style=\"text-align:center;background-color: khaki;\">from the album <i><a href=\"/wiki/The_Script_(album)\" title=\"The Script (album)\">The Script</a></i></th>, <th scope=\"row\"><span class=\"nowrap\"><a href=\"/wiki/A-side_and_B-side\" title=\"A-side and B-side\">B-side</a></span></th>, <th scope=\"row\">Released</th>, <th scope=\"row\">Format</th>, <th scope=\"row\">Recorded</th>, <th scope=\"row\"><a href=\"/wiki/Music_genre\" title=\"Music genre\">Genre</a></th>, <th scope=\"row\">Length</th>, <th scope=\"row\"><a href=\"/wiki/Record_label\" title=\"Record label\">Label</a></th>, <th scope=\"row\"><span class=\"nowrap\"><a href=\"/wiki/Songwriter\" title=\"Songwriter\">Songwriter(s)</a></span></th>, <th scope=\"row\"><span class=\"nowrap\"><a href=\"/wiki/Record_producer\" title=\"Record producer\">Producer(s)</a></span></th>, <th class=\"description\" colspan=\"2\" style=\"text-align:center;background-color: khaki;\"><a href=\"/wiki/The_Script\" title=\"The Script\">The Script</a> singles chronology</th>]\n",
      "\n",
      "table attirbutes: {'style': 'background: transparent; width: 100%; min-width: 100%; border-collapse: collapse;'}\n",
      "n attributes inc headers: 1\n",
      "column names: []\n",
      "\n",
      "table attirbutes: {'class': ['multicol'], 'role': 'presentation', 'style': 'border-collapse: collapse; padding: 0; border: 0; background:transparent; width:100%;'}\n",
      "n attributes inc headers: 34\n",
      "column names: [<th>Chart (2008–12)\n",
      "                                                    </th>, <th>Peak<br/>position\n",
      "                                                    </th>, <th>Chart (2009)\n",
      "                                                    </th>, <th>Position\n",
      "                                                    </th>, <th>Chart (2010)\n",
      "                                                    </th>, <th>Position\n",
      "                                                    </th>, <th>Chart (2011)\n",
      "                                                    </th>, <th>Position\n",
      "                                                    </th>, <th scope=\"col\">Region\n",
      "                                                    </th>, <th scope=\"col\">Certification</th>, <th data-sort-type=\"number\" scope=\"col\"><a href=\"/wiki/List_of_music_recording_certifications\" title=\"List of music recording certifications\">Certified units</a>/sales\n",
      "                                                    </th>, <th scope=\"row\">Australia (<a href=\"/wiki/Australian_Recording_Industry_Association\" title=\"Australian Recording Industry Association\">ARIA</a>)<sup class=\"reference\" id=\"cite_ref-AustraliaThe_ScriptBreakevensingleCertRef_28-0\"><a href=\"#cite_note-AustraliaThe_ScriptBreakevensingleCertRef-28\">[28]</a></sup>\n",
      "</th>, <th scope=\"row\">Italy (<a class=\"mw-redirect\" href=\"/wiki/Federation_of_the_Italian_Music_Industry\" title=\"Federation of the Italian Music Industry\">FIMI</a>)<sup class=\"reference\" id=\"cite_ref-ItalyThe_ScriptBreakevensingleCertRef_29-0\"><a href=\"#cite_note-ItalyThe_ScriptBreakevensingleCertRef-29\">[29]</a></sup>\n",
      "</th>, <th scope=\"row\">United Kingdom (<a href=\"/wiki/British_Phonographic_Industry\" title=\"British Phonographic Industry\">BPI</a>)<sup class=\"reference\" id=\"cite_ref-United_KingdomScriptBreakevensingleCertRef_30-0\"><a href=\"#cite_note-United_KingdomScriptBreakevensingleCertRef-30\">[30]</a></sup>\n",
      "</th>, <th scope=\"row\">United States (<a href=\"/wiki/Recording_Industry_Association_of_America\" title=\"Recording Industry Association of America\">RIAA</a>)<sup class=\"reference\" id=\"cite_ref-United_StatesThe_ScriptBreakevensingleCertRef_32-0\"><a href=\"#cite_note-United_StatesThe_ScriptBreakevensingleCertRef-32\">[32]</a></sup>\n",
      "</th>]\n",
      "\n",
      "table attirbutes: {'class': ['wikitable', 'sortable']}\n",
      "n attributes inc headers: 16\n",
      "column names: [<th>Chart (2008–12)\n",
      "                                                    </th>, <th>Peak<br/>position\n",
      "                                                    </th>]\n",
      "\n",
      "table attirbutes: {'class': ['wikitable', 'sortable']}\n",
      "n attributes inc headers: 3\n",
      "column names: [<th>Chart (2009)\n",
      "                                                    </th>, <th>Position\n",
      "                                                    </th>]\n",
      "\n",
      "table attirbutes: {'class': ['wikitable', 'sortable']}\n",
      "n attributes inc headers: 6\n",
      "column names: [<th>Chart (2010)\n",
      "                                                    </th>, <th>Position\n",
      "                                                    </th>]\n",
      "\n",
      "table attirbutes: {'class': ['wikitable', 'sortable']}\n",
      "n attributes inc headers: 2\n",
      "column names: [<th>Chart (2011)\n",
      "                                                    </th>, <th>Position\n",
      "                                                    </th>]\n",
      "\n",
      "table attirbutes: {'class': ['wikitable', 'sortable', 'plainrowheaders']}\n",
      "n attributes inc headers: 6\n",
      "column names: [<th scope=\"col\">Region\n",
      "                                                    </th>, <th scope=\"col\">Certification</th>, <th data-sort-type=\"number\" scope=\"col\"><a href=\"/wiki/List_of_music_recording_certifications\" title=\"List of music recording certifications\">Certified units</a>/sales\n",
      "                                                    </th>, <th scope=\"row\">Australia (<a href=\"/wiki/Australian_Recording_Industry_Association\" title=\"Australian Recording Industry Association\">ARIA</a>)<sup class=\"reference\" id=\"cite_ref-AustraliaThe_ScriptBreakevensingleCertRef_28-0\"><a href=\"#cite_note-AustraliaThe_ScriptBreakevensingleCertRef-28\">[28]</a></sup>\n",
      "</th>, <th scope=\"row\">Italy (<a class=\"mw-redirect\" href=\"/wiki/Federation_of_the_Italian_Music_Industry\" title=\"Federation of the Italian Music Industry\">FIMI</a>)<sup class=\"reference\" id=\"cite_ref-ItalyThe_ScriptBreakevensingleCertRef_29-0\"><a href=\"#cite_note-ItalyThe_ScriptBreakevensingleCertRef-29\">[29]</a></sup>\n",
      "</th>, <th scope=\"row\">United Kingdom (<a href=\"/wiki/British_Phonographic_Industry\" title=\"British Phonographic Industry\">BPI</a>)<sup class=\"reference\" id=\"cite_ref-United_KingdomScriptBreakevensingleCertRef_30-0\"><a href=\"#cite_note-United_KingdomScriptBreakevensingleCertRef-30\">[30]</a></sup>\n",
      "</th>, <th scope=\"row\">United States (<a href=\"/wiki/Recording_Industry_Association_of_America\" title=\"Recording Industry Association of America\">RIAA</a>)<sup class=\"reference\" id=\"cite_ref-United_StatesThe_ScriptBreakevensingleCertRef_32-0\"><a href=\"#cite_note-United_StatesThe_ScriptBreakevensingleCertRef-32\">[32]</a></sup>\n",
      "</th>]\n",
      "\n",
      "table attirbutes: {'class': ['nowraplinks', 'vcard', 'hlist', 'mw-collapsible', 'autocollapse', 'navbox-inner'], 'style': 'border-spacing:0;background:transparent;color:inherit'}\n",
      "n attributes inc headers: 7\n",
      "column names: [<th class=\"navbox-title\" colspan=\"2\" scope=\"col\" style=\"background: #b0c4de;\">\n",
      "<div class=\"plainlinks hlist navbar mini\">\n",
      "<ul>\n",
      "<li class=\"nv-view\"><a href=\"/wiki/Template:The_Script\" title=\"Template:The Script\"><abbr style=\";background: #b0c4de;;background:none transparent;border:none;-moz-box-shadow:none;-webkit-box-shadow:none;box-shadow:none; padding:0;\" title=\"View this template\">v</abbr></a></li>\n",
      "<li class=\"nv-talk\"><a href=\"/wiki/Template_talk:The_Script\" title=\"Template talk:The Script\"><abbr style=\";background: #b0c4de;;background:none transparent;border:none;-moz-box-shadow:none;-webkit-box-shadow:none;box-shadow:none; padding:0;\" title=\"Discuss this template\">t</abbr></a></li>\n",
      "<li class=\"nv-edit\"><a class=\"external text\" href=\"https://en.wikipedia.org/w/index.php?title=Template:The_Script&amp;action=edit\"><abbr style=\";background: #b0c4de;;background:none transparent;border:none;-moz-box-shadow:none;-webkit-box-shadow:none;box-shadow:none; padding:0;\" title=\"Edit this template\">e</abbr></a></li>\n",
      "</ul>\n",
      "</div>\n",
      "<div class=\"fn org\" id=\"The_Script\" style=\"font-size:114%;margin:0 4em\"><a href=\"/wiki/The_Script\" title=\"The Script\">The Script</a></div>\n",
      "</th>, <th class=\"navbox-group\" scope=\"row\" style=\"width:1%;background: #EEEEEE;\">Studio albums</th>, <th class=\"navbox-group\" scope=\"row\" style=\"width:1%;background: #EEEEEE;\">Singles</th>, <th class=\"navbox-group\" scope=\"row\" style=\"width:1%;background: #EEEEEE;\">Other songs</th>, <th class=\"navbox-group\" scope=\"row\" style=\"width:1%;background: #EEEEEE;\">Tours</th>, <th class=\"navbox-group\" scope=\"row\" style=\"width:1%;background: #EEEEEE;\">Related articles</th>]\n",
      "\n",
      "table attirbutes: {'class': ['nowraplinks', 'vcard', 'mw-collapsible', 'autocollapse', 'navbox-inner'], 'style': 'border-spacing:0;background:transparent;color:inherit'}\n",
      "n attributes inc headers: 5\n",
      "column names: [<th class=\"navbox-title\" colspan=\"2\" scope=\"col\" style=\"background: #f0e68c;\">\n",
      "<div class=\"plainlinks hlist navbar mini\">\n",
      "<ul>\n",
      "<li class=\"nv-view\"><a href=\"/wiki/Template:Samantha_Jade\" title=\"Template:Samantha Jade\"><abbr style=\";background: #f0e68c;;background:none transparent;border:none;-moz-box-shadow:none;-webkit-box-shadow:none;box-shadow:none; padding:0;\" title=\"View this template\">v</abbr></a></li>\n",
      "<li class=\"nv-talk\"><a href=\"/wiki/Template_talk:Samantha_Jade\" title=\"Template talk:Samantha Jade\"><abbr style=\";background: #f0e68c;;background:none transparent;border:none;-moz-box-shadow:none;-webkit-box-shadow:none;box-shadow:none; padding:0;\" title=\"Discuss this template\">t</abbr></a></li>\n",
      "<li class=\"nv-edit\"><a class=\"external text\" href=\"https://en.wikipedia.org/w/index.php?title=Template:Samantha_Jade&amp;action=edit\"><abbr style=\";background: #f0e68c;;background:none transparent;border:none;-moz-box-shadow:none;-webkit-box-shadow:none;box-shadow:none; padding:0;\" title=\"Edit this template\">e</abbr></a></li>\n",
      "</ul>\n",
      "</div>\n",
      "<div class=\"fn\" id=\"Samantha_Jade\" style=\"font-size:114%;margin:0 4em\"><a href=\"/wiki/Samantha_Jade\" title=\"Samantha Jade\">Samantha Jade</a></div>\n",
      "</th>, <th class=\"navbox-group\" scope=\"row\" style=\"width:1%;background: #EEEEEE;\">Studio albums</th>, <th class=\"navbox-group\" scope=\"row\" style=\"width:1%;background: #EEEEEE;\">Singles</th>, <th class=\"navbox-group\" scope=\"row\" style=\"width:1%;background: #EEEEEE;\">Related articles</th>]\n"
     ]
    }
   ],
   "source": [
    "tables = soup.find_all('table')\n",
    "\n",
    "for t in tables:\n",
    "    print('\\ntable attirbutes:', t.attrs)\n",
    "    print('n attributes inc headers:', len(t.findChildren('tr')))\n",
    "    print('column names:', t.find_all('th'))\n",
    "    \n",
    "    "
   ]
  },
  {
   "cell_type": "markdown",
   "metadata": {},
   "source": [
    "# Tables\n",
    "\n",
    "There are different classes of table, but the ones you want have a `class` of `wikitable` or `infobox`\n",
    "\n",
    "The `multicol` table seems to be a way of grouping multiple tables together inside one table. Other tables seem to contain navigation elements of the page.\n",
    "\n",
    "Now, extract only the tables with class `wikitable`.\n",
    "\n",
    "For each table, get the `th` elements and print the text they contain."
   ]
  },
  {
   "cell_type": "code",
   "execution_count": 145,
   "metadata": {},
   "outputs": [
    {
     "name": "stdout",
     "output_type": "stream",
     "text": [
      "['Chart (2008–12)', 'Peakposition']\n",
      "['Chart (2009)', 'Position']\n",
      "['Chart (2010)', 'Position']\n",
      "['Chart (2011)', 'Position']\n",
      "['Region', 'Certification', 'Certified units/sales', 'Australia (ARIA)[28]', 'Italy (FIMI)[29]', 'United Kingdom (BPI)[30]', 'United States (RIAA)[32]']\n"
     ]
    }
   ],
   "source": [
    "tables = soup.find_all('table', attrs={'class':'wikitable'})\n",
    "\n",
    "for t in tables:\n",
    "    print([r.text.strip() for r in t.find_all('th')])\n",
    "#     headings = [h.find_all('tr').text.strip() for h in t]\n",
    "# headings"
   ]
  },
  {
   "cell_type": "markdown",
   "metadata": {},
   "source": [
    "You can see that the first four tables have the two headers we expect, but the final one has some extra data. It looks like the contents of the first column's cells are being considered headers. Let's look at it directly."
   ]
  },
  {
   "cell_type": "markdown",
   "metadata": {},
   "source": [
    "Some of the `th` elements have an attribute `scope` with a value of `row` or `col`.\n",
    "\n",
    "This is another way of laying out tables in HTML. Read about it here: https://www.w3schools.com/tags/att_th_scope.asp\n",
    "\n",
    "We can adjust our code to deal with this."
   ]
  },
  {
   "cell_type": "code",
   "execution_count": 146,
   "metadata": {},
   "outputs": [
    {
     "name": "stdout",
     "output_type": "stream",
     "text": [
      "['Chart (2008–12)', 'Peakposition']\n",
      "['Chart (2009)', 'Position']\n",
      "['Chart (2010)', 'Position']\n",
      "['Chart (2011)', 'Position']\n",
      "['Region', 'Certification', 'Certified units/sales']\n"
     ]
    }
   ],
   "source": [
    "tables = soup.find_all('table', attrs={'class':'wikitable'})\n",
    "\n",
    "for table in tables:\n",
    "    th_list = table.find_all('th', attrs={'scope':'col'})\n",
    "\n",
    "    if not th_list:\n",
    "        # If no th elements with scope=col are found, then th_list will be empty\n",
    "        # So we need to look for \"normal\" th elements\n",
    "        th_list = table.findChildren('th')\n",
    "\n",
    "    print([th.text.strip() for th in th_list])"
   ]
  },
  {
   "cell_type": "markdown",
   "metadata": {},
   "source": [
    "As you did before, create a list of lists suitable for making a CSV file.\n",
    "\n",
    "For each table, the first list should be the header. The subsequent lists should be the rows.\n",
    "\n",
    "Just focus on the four \"normal\" tables for now.\n",
    "\n",
    "Extract the header, extract each row and get the text."
   ]
  },
  {
   "cell_type": "code",
   "execution_count": 237,
   "metadata": {
    "scrolled": true
   },
   "outputs": [
    {
     "data": {
      "text/html": [
       "<div>\n",
       "<style scoped>\n",
       "    .dataframe tbody tr th:only-of-type {\n",
       "        vertical-align: middle;\n",
       "    }\n",
       "\n",
       "    .dataframe tbody tr th {\n",
       "        vertical-align: top;\n",
       "    }\n",
       "\n",
       "    .dataframe thead th {\n",
       "        text-align: right;\n",
       "    }\n",
       "</style>\n",
       "<table border=\"1\" class=\"dataframe\">\n",
       "  <thead>\n",
       "    <tr style=\"text-align: right;\">\n",
       "      <th></th>\n",
       "      <th>Chart (2008–12)</th>\n",
       "      <th>Peakposition</th>\n",
       "    </tr>\n",
       "  </thead>\n",
       "  <tbody>\n",
       "    <tr>\n",
       "      <th>0</th>\n",
       "      <td>Australia (ARIA)[8]</td>\n",
       "      <td>3</td>\n",
       "    </tr>\n",
       "    <tr>\n",
       "      <th>1</th>\n",
       "      <td>Austria (Ö3 Austria Top 40)[9]</td>\n",
       "      <td>75</td>\n",
       "    </tr>\n",
       "    <tr>\n",
       "      <th>2</th>\n",
       "      <td>Canada (Canadian Hot 100)[10]</td>\n",
       "      <td>20</td>\n",
       "    </tr>\n",
       "    <tr>\n",
       "      <th>3</th>\n",
       "      <td>Germany (Official German Charts)[11]</td>\n",
       "      <td>71</td>\n",
       "    </tr>\n",
       "    <tr>\n",
       "      <th>4</th>\n",
       "      <td>Ireland (IRMA)[12]</td>\n",
       "      <td>10</td>\n",
       "    </tr>\n",
       "    <tr>\n",
       "      <th>5</th>\n",
       "      <td>Japan (Japan Hot 100)[13]</td>\n",
       "      <td>77</td>\n",
       "    </tr>\n",
       "    <tr>\n",
       "      <th>6</th>\n",
       "      <td>Netherlands (Single Top 100)[14]</td>\n",
       "      <td>48</td>\n",
       "    </tr>\n",
       "    <tr>\n",
       "      <th>7</th>\n",
       "      <td>Slovakia (Rádio Top 100)[15]</td>\n",
       "      <td>97</td>\n",
       "    </tr>\n",
       "    <tr>\n",
       "      <th>8</th>\n",
       "      <td>Switzerland (Schweizer Hitparade)[16]</td>\n",
       "      <td>66</td>\n",
       "    </tr>\n",
       "    <tr>\n",
       "      <th>9</th>\n",
       "      <td>UK Singles (Official Charts Company)[17]</td>\n",
       "      <td>21</td>\n",
       "    </tr>\n",
       "    <tr>\n",
       "      <th>10</th>\n",
       "      <td>US Billboard Hot 100[18]</td>\n",
       "      <td>12</td>\n",
       "    </tr>\n",
       "    <tr>\n",
       "      <th>11</th>\n",
       "      <td>US Adult Alternative Songs (Billboard)[19]</td>\n",
       "      <td>12</td>\n",
       "    </tr>\n",
       "    <tr>\n",
       "      <th>12</th>\n",
       "      <td>US Adult Contemporary (Billboard)[20]</td>\n",
       "      <td>1</td>\n",
       "    </tr>\n",
       "    <tr>\n",
       "      <th>13</th>\n",
       "      <td>US Adult Top 40 (Billboard)[21]</td>\n",
       "      <td>1</td>\n",
       "    </tr>\n",
       "    <tr>\n",
       "      <th>14</th>\n",
       "      <td>US Mainstream Top 40 (Billboard)[22]</td>\n",
       "      <td>6</td>\n",
       "    </tr>\n",
       "  </tbody>\n",
       "</table>\n",
       "</div>"
      ],
      "text/plain": [
       "                               Chart (2008–12) Peakposition\n",
       "0                          Australia (ARIA)[8]            3\n",
       "1               Austria (Ö3 Austria Top 40)[9]           75\n",
       "2                Canada (Canadian Hot 100)[10]           20\n",
       "3         Germany (Official German Charts)[11]           71\n",
       "4                           Ireland (IRMA)[12]           10\n",
       "5                    Japan (Japan Hot 100)[13]           77\n",
       "6             Netherlands (Single Top 100)[14]           48\n",
       "7                 Slovakia (Rádio Top 100)[15]           97\n",
       "8        Switzerland (Schweizer Hitparade)[16]           66\n",
       "9     UK Singles (Official Charts Company)[17]           21\n",
       "10                    US Billboard Hot 100[18]           12\n",
       "11  US Adult Alternative Songs (Billboard)[19]           12\n",
       "12       US Adult Contemporary (Billboard)[20]            1\n",
       "13             US Adult Top 40 (Billboard)[21]            1\n",
       "14        US Mainstream Top 40 (Billboard)[22]            6"
      ]
     },
     "execution_count": 237,
     "metadata": {},
     "output_type": "execute_result"
    }
   ],
   "source": [
    "tables = soup.find_all('table', attrs={'class':'wikitable'})[:4]\n",
    "\n",
    "all_tables = []\n",
    "\n",
    "for table in tables:\n",
    "    \n",
    "    table_data = []\n",
    "    headers = [t.text.strip() for t in table.find_all('th') if not t.attrs == {'scope': 'col'}]\n",
    "    table_data.append(headers)\n",
    "    \n",
    "    rows = []\n",
    "    for row in table.findChildren('tr'):\n",
    "        cell = [r.text.strip() for r in row.find_all('td') ]\n",
    "        \n",
    "        if cell:\n",
    "            rows.append(cell)\n",
    "    table_data.append(rows)    \n",
    "    all_tables.append(table_data)\n",
    "\n",
    "\n",
    "csvs = []\n",
    "\n",
    "for i, table in enumerate(all_tables):\n",
    "    csvs.append(pd.DataFrame(columns=table[0], data = table[1]))\n",
    "\n",
    "csvs[0]    \n",
    "    "
   ]
  },
  {
   "cell_type": "markdown",
   "metadata": {},
   "source": [
    "#### Using Pandas to create DataFrames from HTML tables"
   ]
  },
  {
   "cell_type": "code",
   "execution_count": 190,
   "metadata": {},
   "outputs": [],
   "source": [
    "import pandas as pd\n",
    "tables = soup.find_all('table', attrs={'class':'wikitable'})"
   ]
  },
  {
   "cell_type": "markdown",
   "metadata": {},
   "source": [
    "Pandas offers an alternative means by which to access table data from HTML.  \n",
    "\n",
    "Use `pd.read_html` to create a list of DataFrames from the string of the `tables` object defined above, then display the final DataFrame in that list."
   ]
  },
  {
   "cell_type": "code",
   "execution_count": null,
   "metadata": {},
   "outputs": [],
   "source": []
  },
  {
   "cell_type": "code",
   "execution_count": null,
   "metadata": {},
   "outputs": [],
   "source": []
  },
  {
   "cell_type": "markdown",
   "metadata": {},
   "source": [
    "# Conclusion and next steps\n",
    "\n",
    "You've practised using BeautifulSoup to apply what you know about HTML structure, in order to efficiently extract data from HTML.\n",
    "\n",
    "In the first basic example, you used your knowledge of elements, before going onto extract data from a real-world example. This much more complicated document required you to use your knowledge of how HTML is structured in terms of attributes, nested relational positioning (children, parents) and relative position (previous siblings, next siblings).\n",
    "\n",
    "The key steps to extracting data from HTML are:\n",
    "\n",
    "* Know the structure of the HTML - read it!\n",
    "* Determine what elements correspond to the content you want to extract\n",
    "* Look for useful attributes you can use to target the content you want - `id` is especially great, but also `class`\n",
    "* If you can't use attributes of the exact parts you want, look at the structure:\n",
    "    * Can you target its parent, then select the correct child? Or vice-versa?\n",
    "\n",
    "To consolidate what you have covered here, try applying it to the `infobox` table and extracting the data from that. It has a slightly odd structure, compared to the other tables!\n",
    "\n",
    "To continue practicing, you can try the following:\n",
    "\n",
    "* Get a collection of HTML documents that contain similar structures (e.g. multiple Wikipedia pages for songs) \n",
    "* Write functions that extract the data you want, process it, save it to disk\n",
    "* Put them together into a script that can be used to processed as many documents as you want\n",
    "\n",
    "BeautifulSoup can do a lot more than we have covered here. For example, you can use it to modify HTML too - perhaps you want to change all the headers of a particular class to a different size, while leaving others alone? Easy! Take a look at the documentation: https://www.crummy.com/software/BeautifulSoup/bs4/doc/\n",
    "\n",
    "And be sure to familiarise yourself with the full range of elements in HTML: https://www.w3schools.com/html/default.asp"
   ]
  }
 ],
 "metadata": {
  "kernelspec": {
   "display_name": "Python 3 (ipykernel)",
   "language": "python",
   "name": "python3"
  },
  "language_info": {
   "codemirror_mode": {
    "name": "ipython",
    "version": 3
   },
   "file_extension": ".py",
   "mimetype": "text/x-python",
   "name": "python",
   "nbconvert_exporter": "python",
   "pygments_lexer": "ipython3",
   "version": "3.10.8"
  }
 },
 "nbformat": 4,
 "nbformat_minor": 4
}
