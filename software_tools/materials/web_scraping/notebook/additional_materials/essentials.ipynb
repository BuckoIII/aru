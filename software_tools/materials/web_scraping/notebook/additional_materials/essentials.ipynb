{
 "cells": [
  {
   "cell_type": "markdown",
   "metadata": {},
   "source": [
    "**Beautiful Soup** allows us to extract elements from HTML pages:"
   ]
  },
  {
   "cell_type": "code",
   "execution_count": null,
   "metadata": {},
   "outputs": [],
   "source": [
    "from bs4 import BeautifulSoup\n",
    "\n",
    "with open('data/charity.html', 'rb') as file:\n",
    "    page = BeautifulSoup(file)"
   ]
  },
  {
   "cell_type": "code",
   "execution_count": null,
   "metadata": {},
   "outputs": [],
   "source": [
    "page.title"
   ]
  },
  {
   "cell_type": "markdown",
   "metadata": {},
   "source": [
    "HTML uses **tags** to structure page content.\n",
    "\n",
    "```html\n",
    "<title>The page title</title>\n",
    "<h1>Main heading</h1>\n",
    "<p>Some section of text.</p>\n",
    "```"
   ]
  },
  {
   "cell_type": "markdown",
   "metadata": {},
   "source": [
    "HTML tags can have **attributes**, such as **class** and **id**.\n",
    "\n",
    "```html\n",
    "<h2 id=\"strapline\" class=\"flashing\">Funky heading</h2>\n",
    "```\n",
    "These attributes can also be used by Beautiful Soup to identify content:"
   ]
  },
  {
   "cell_type": "code",
   "execution_count": null,
   "metadata": {},
   "outputs": [],
   "source": [
    "main_content = page.find(\"div\", {\"class\": \"main-content-container\"})\n",
    "main_content"
   ]
  },
  {
   "cell_type": "markdown",
   "metadata": {},
   "source": [
    "We can continue to use Beautiful Soup to identify **nested elements** within others:"
   ]
  },
  {
   "cell_type": "code",
   "execution_count": null,
   "metadata": {},
   "outputs": [],
   "source": [
    "tables = main_content.find_all(\"table\")\n",
    "tables"
   ]
  },
  {
   "cell_type": "markdown",
   "metadata": {},
   "source": [
    "The pandas `.read_html()` method is useful for extracting data from tables into DataFrames:\n",
    "\n",
    "-  notice that we need to convert the Beautiful Soup ResultSet object (`tables`) to a string"
   ]
  },
  {
   "cell_type": "code",
   "execution_count": null,
   "metadata": {},
   "outputs": [],
   "source": [
    "import pandas as pd"
   ]
  },
  {
   "cell_type": "code",
   "execution_count": null,
   "metadata": {},
   "outputs": [],
   "source": [
    "dataframes = pd.read_html(str(tables))"
   ]
  },
  {
   "cell_type": "code",
   "execution_count": null,
   "metadata": {},
   "outputs": [],
   "source": [
    "df = dataframes[0]\n",
    "df"
   ]
  },
  {
   "cell_type": "markdown",
   "metadata": {},
   "source": [
    "- Sometimes this will require some cleaning of the result such as removal of unwanted rows or misinterpretation of certain characters\n",
    "- In this instance, notice that pandas has appended a `.1` to the final column label to differentiate it from the other `%` column label"
   ]
  },
  {
   "cell_type": "markdown",
   "metadata": {},
   "source": [
    "[Beautiful Soup documentation](https://www.crummy.com/software/BeautifulSoup/bs4/doc/)\n",
    "\n",
    "[pd.read_html() documentation](https://pandas.pydata.org/pandas-docs/version/0.23.4/generated/pandas.read_html.html)"
   ]
  }
 ],
 "metadata": {
  "kernelspec": {
   "display_name": "Python 3",
   "language": "python",
   "name": "python3"
  },
  "language_info": {
   "codemirror_mode": {
    "name": "ipython",
    "version": 3
   },
   "file_extension": ".py",
   "mimetype": "text/x-python",
   "name": "python",
   "nbconvert_exporter": "python",
   "pygments_lexer": "ipython3",
   "version": "3.7.6"
  }
 },
 "nbformat": 4,
 "nbformat_minor": 4
}
