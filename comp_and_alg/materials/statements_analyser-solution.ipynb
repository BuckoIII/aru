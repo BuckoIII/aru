{
 "metadata": {
  "kernelspec": {
   "display_name": "Python 3",
   "language": "python",
   "name": "python3"
  },
  "language_info": {
   "codemirror_mode": {
    "name": "ipython",
    "version": 3
   },
   "file_extension": ".py",
   "mimetype": "text/x-python",
   "name": "python",
   "nbconvert_exporter": "python",
   "pygments_lexer": "ipython3",
   "version": "3.7.10"
  }
 },
 "nbformat": 4,
 "nbformat_minor": 4,
 "cells": [
  {
   "cell_type": "markdown",
   "metadata": {
    "pycharm": {
     "name": "#%% md\n"
    }
   },
   "source": [
    "# Exercise"
   ]
  },
  {
   "cell_type": "markdown",
   "metadata": {
    "pycharm": {
     "name": "#%% md\n"
    }
   },
   "source": [
    "In this exercise we will look at a class that analyses bank statement transactions, and make improvements to increase its maintainability.\n",
    "\n",
    "Consider the following class:"
   ]
  },
  {
   "cell_type": "code",
   "execution_count": null,
   "metadata": {
    "pycharm": {
     "name": "#%%\n"
    }
   },
   "outputs": [],
   "source": [
    "from datetime import datetime\n",
    "\n",
    "class BasicStatementAnalyser:\n",
    "\n",
    "    def analyse(self):\n",
    "\n",
    "        file_path = \"data/bank-data-2020.csv\"\n",
    "        DATE_FORMAT = '%d-%m-%Y'\n",
    "\n",
    "        with open(file_path, 'r') as content_file:\n",
    "            content = content_file.readlines()\n",
    "\n",
    "        total_amount = 0\n",
    "        for line in content[1:]:\n",
    "            columns = line.rstrip().split(\",\")\n",
    "            amount = float(columns[1])\n",
    "            total_amount = total_amount + amount\n",
    "\n",
    "        print(f\"The total for all transactions is {total_amount}\")\n",
    "\n",
    "        total_january = 0\n",
    "        for line in content[1:]:\n",
    "            columns = line.rstrip().split(\",\")\n",
    "            date = datetime.strptime(columns[0], DATE_FORMAT)\n",
    "            if date.month == 1:\n",
    "                amount = float(columns[1])\n",
    "                total_january = total_january + amount\n",
    "\n",
    "        print(f\"The total for transactions in January is {total_january}\")\n",
    "\n",
    "        total_february = 0\n",
    "        for line in content[1:]:\n",
    "            columns = line.rstrip().split(\",\")\n",
    "            date = datetime.strptime(columns[0], DATE_FORMAT)\n",
    "            if date.month == 2:\n",
    "                amount = float(columns[1])\n",
    "                total_february = total_february + amount\n",
    "\n",
    "        print(f\"The total for transactions in February is {total_february}\")\n",
    "\n",
    "        total_salary = 0\n",
    "        for line in content[1:]:\n",
    "            columns = line.rstrip().split(\",\")\n",
    "            if columns[2] == \"Salary\":\n",
    "                amount = float(columns[1])\n",
    "                total_salary = total_salary + amount\n",
    "\n",
    "        print(f\"The total salary is {total_salary}\")\n",
    "\n",
    "\n",
    "BasicStatementAnalyser().analyse()"
   ]
  },
  {
   "cell_type": "markdown",
   "metadata": {
    "pycharm": {
     "name": "#%% md\n"
    }
   },
   "source": [
    "In what ways does it violate our code maintainability guidelines?"
   ]
  },
  {
   "cell_type": "code",
   "execution_count": null,
   "metadata": {
    "pycharm": {
     "name": "#%%\n"
    }
   },
   "outputs": [],
   "source": [
    "# Your answers here...\n",
    "# 1. The analyse() function violates the Single Responsibility Principle.\n",
    "# It is currently parsing the csv, as well as making calculations.\n",
    "# 2. The total for January and total for February calculations are copy pasted.\n",
    "# 3. The logic for `line.rstrip().split(\",\")` is copy pasted.\n",
    "# If the format of the lines in the csv changes, every occurence of that logic would\n",
    "# need to be modified.\n",
    "# 4. It is highly coupled.\n",
    "# If the name or location of the csv file changes, you would need to edit how the class \n",
    "# is defined (rather than just how it is called)\n"
   ]
  },
  {
   "cell_type": "markdown",
   "metadata": {
    "pycharm": {
     "name": "#%% md\n"
    }
   },
   "source": [
    "See if you can rewrite the class to remedy those violations.\n",
    "\n",
    "Some ideas to consider:\n",
    "- Split out the file handling section of the `analyse` function into its own function.\n",
    "- Write a function to calculate monthly total and use it to calculate January's and February's total.\n",
    "- Add the file name as an input argument, so that you can test your class on `data/bank-data-2020.csv` and `data/bank-data-2021.csv`\n",
    "- Reduce the duplication of `line.rstrip().split(\",\")`\n",
    "    - Bonus marks for storing transactions as instances of a separate `BankTransaction` class."
   ]
  },
  {
   "cell_type": "code",
   "execution_count": null,
   "metadata": {
    "scrolled": true,
    "pycharm": {
     "name": "#%%\n"
    }
   },
   "outputs": [],
   "source": [
    "# Your code here...\n",
    "# class StatementAnalyser:\n",
    "class BankTransaction:\n",
    "    def __init__(self, date, amount, tag):\n",
    "        self.date = date\n",
    "        self.amount = amount\n",
    "        self.tag = tag\n",
    "\n",
    "class StatementAnalyser:\n",
    "    def _parse_from_csv(self, file_path):\n",
    "\n",
    "        with open(file_path, 'r') as content_file:\n",
    "            content = content_file.readlines()\n",
    "\n",
    "        result = []\n",
    "        for line in content[1:]:\n",
    "            columns = line.rstrip().split(\",\")\n",
    "            amount = float(columns[1])\n",
    "            tag = columns[2]\n",
    "            date = datetime.strptime(columns[0], DATE_FORMAT)\n",
    "            result.append(BankTransaction(date, amount, tag))\n",
    "\n",
    "        return result\n",
    "    \n",
    "    def calculate_month_total(self, month):\n",
    "        month_total = 0\n",
    "        for transaction in self.transactions:\n",
    "            if transaction.date.month == month:\n",
    "                month_total = month_total + transaction.amount\n",
    "        return month_total\n",
    "\n",
    "    def analyse(self, file_path):\n",
    "\n",
    "        self.transactions = self._parse_from_csv(file_path)\n",
    "\n",
    "        total_amount = 0\n",
    "        for transaction in self.transactions:\n",
    "            total_amount = total_amount + transaction.amount\n",
    "\n",
    "        print(f\"The total for all transactions is {total_amount}\")\n",
    "\n",
    "        print(f\"The total for transactions in January is {self.calculate_month_total(1)}\")\n",
    "\n",
    "        print(f\"The total for transactions in February is {self.calculate_month_total(2)}\")\n",
    "\n",
    "        total_salary = 0\n",
    "        for transaction in self.transactions:\n",
    "            if transaction.tag == \"Salary\":\n",
    "                total_salary = total_salary + transaction.amount\n",
    "\n",
    "        print(f\"The total salary is {total_salary}\")\n",
    "\n",
    "StatementAnalyser().analyse(\"data/bank-data-2020.csv\")\n",
    "print(\"---\")\n",
    "StatementAnalyser().analyse(\"data/bank-data-2021.csv\")"
   ]
  }
 ]
}